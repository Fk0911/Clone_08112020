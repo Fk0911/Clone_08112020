{
 "metadata": {
  "language_info": {
   "codemirror_mode": {
    "name": "ipython",
    "version": 3
   },
   "file_extension": ".py",
   "mimetype": "text/x-python",
   "name": "python",
   "nbconvert_exporter": "python",
   "pygments_lexer": "ipython3",
   "version": "3.8.5-final"
  },
  "orig_nbformat": 2,
  "kernelspec": {
   "name": "python_defaultSpec_1599585378549",
   "display_name": "Python 3.8.5 32-bit"
  }
 },
 "nbformat": 4,
 "nbformat_minor": 2,
 "cells": [
  {
   "cell_type": "markdown",
   "metadata": {},
   "source": [
    "# Aufgabe 5\n",
    "\n",
    "In dieser Aufgabe befassen wir uns mit der Programmierung einer Stanz-Maschine. Diese haben Sie neu für Ihr Unternehmen Stanz AG zum Sonderpreis von 15000$ erhalten. Leider haben Sie vergessen die Beschreibung genauer zu lesen und haben dadurch auch übersehen, dass die Maschine noch gar kein Produktionsprogramm hat. Da Sie dieses nicht teuer einkaufen wollen, entscheiden Sie sich dieses selber zu entwickeln. Hierzu haben Sie folgende Vorgaben:\n",
    "\n",
    "- Mattengröße beträgt $N\\times M$ (*N ist eine ungerade natürliche Zahl und $M = 3 \\cdot N$*)\n",
    "- Für N und M gelten folgende spezifikationen : $5 \\leq N \\leq 101$ ; $15 \\leq M \\leq 303$\n",
    "- Das Design sollte \"WELCOME\" in der Mitte haben.\n",
    "- Das Mattenmuster sollte nur `|`, `.` und `-` Zeichen haben.\n",
    "\n",
    "### Beispieldesigns:\n",
    "\n",
    "    Size: 7 x 21\n",
    "    ---------.|.---------\n",
    "    ------.|..|..|.------\n",
    "    ---.|..|..|..|..|.---\n",
    "    -------WELCOME-------\n",
    "    ---.|..|..|..|..|.---\n",
    "    ------.|..|..|.------\n",
    "    ---------.|.---------\n",
    "\n",
    "    Size: 11 x 33\n",
    "    ---------------.|.---------------\n",
    "    ------------.|..|..|.------------\n",
    "    ---------.|..|..|..|..|.---------\n",
    "    ------.|..|..|..|..|..|..|.------\n",
    "    ---.|..|..|..|..|..|..|..|..|.---\n",
    "    -------------WELCOME-------------\n",
    "    ---.|..|..|..|..|..|..|..|..|.---\n",
    "    ------.|..|..|..|..|..|..|.------\n",
    "    ---------.|..|..|..|..|.---------\n",
    "    ------------.|..|..|.------------\n",
    "    ---------------.|.---------------\n",
    "\n",
    "\n",
    "    N = 9, M = 27\n",
    "    ------------.|.------------\n",
    "    ---------.|..|..|.---------\n",
    "    ------.|..|..|..|..|.------\n",
    "    ---.|..|..|..|..|..|..|.---\n",
    "    ----------WELCOME----------\n",
    "    ---.|..|..|..|..|..|..|.---\n",
    "    ------.|..|..|..|..|.------\n",
    "    ---------.|..|..|.---------\n",
    "    ------------.|.------------\n",
    "\n",
    "### Hilfe\n",
    "\n",
    "1.\n",
    "2.\n",
    "3.\n",
    "4.\n",
    "5."
   ]
  },
  {
   "cell_type": "code",
   "execution_count": null,
   "metadata": {
    "tags": []
   },
   "outputs": [],
   "source": [
    "def make_design(N, M):\n",
    "    output = \"\"\n",
    "    ###BEGIN SOLUTION\n",
    "    pattern = 1\n",
    "    middle = int(N/2)\n",
    "\n",
    "    for i in range(N):\n",
    "        if i == middle:\n",
    "            dashes = int((M - 7) / 2)\n",
    "        else:\n",
    "            dashes = int((M-(pattern*3))/2)\n",
    "        for j in range(dashes):\n",
    "            output += \"-\"\n",
    "        if i == middle:\n",
    "            output += \"WELCOME\"\n",
    "        else:\n",
    "            for j in range(pattern):\n",
    "                output += \".|.\"\n",
    "        for j in range(dashes):\n",
    "            output += \"-\"\n",
    "        output += \"\\n\"\n",
    "        if i > middle-1:\n",
    "            pattern -= 2\n",
    "        else:\n",
    "            pattern += 2\n",
    "    ###END SOLUTION\n",
    "    return output\n",
    "print(make_design(5,15))"
   ]
  },
  {
   "cell_type": "markdown",
   "metadata": {},
   "source": [
    "# Automatisierte Tests"
   ]
  },
  {
   "cell_type": "code",
   "execution_count": null,
   "metadata": {
    "tags": []
   },
   "outputs": [],
   "source": [
    "import unittest\n",
    "import os\n",
    "class TestNotebookClass(unittest.TestCase):\n",
    "    def test1(self):\n",
    "        \"\"\"Test1: ist die Ausgabe für (N,M) = (7,21) korrekt?\"\"\"\n",
    "        expected_out = open(os.path.join('tests', 'Matten_Design', 'output1.txt'), 'r').read()\n",
    "        self.assertEqual(make_design(7,21), expected_out)\n",
    "    def test2(self):\n",
    "        \"\"\"Test1: ist die Ausgabe für (N,M) = (9,27) korrekt?\"\"\"\n",
    "        expected_out = open(os.path.join('tests', 'Matten_Design', 'output2.txt'), 'r').read()\n",
    "        self.assertEqual(make_design(9,27), expected_out)\n",
    "    def test3(self):\n",
    "        \"\"\"Test1: ist die Ausgabe für (N,M) = (11,33) korrekt?\"\"\"\n",
    "        expected_out = open(os.path.join('tests', 'Matten_Design', 'output3.txt'), 'r').read()\n",
    "        self.assertEqual(make_design(11,33), expected_out)\n",
    "    def test4(self):\n",
    "        \"\"\"Test1: ist die Ausgabe für (N,M) = (101,303) korrekt?\"\"\"\n",
    "        expected_out = open(os.path.join('tests', 'Matten_Design', 'output4.txt'), 'r').read()\n",
    "        self.assertEqual(make_design(101,303), expected_out)\n",
    "\n",
    "import sys\n",
    "suite = unittest.TestLoader().loadTestsFromTestCase(TestNotebookClass)\n",
    "unittest.TextTestRunner(verbosity=4,stream=sys.stderr).run(suite)"
   ]
  }
 ]
}