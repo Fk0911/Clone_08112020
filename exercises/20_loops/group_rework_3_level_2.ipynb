{
 "metadata": {
  "language_info": {
   "codemirror_mode": {
    "name": "ipython",
    "version": 3
   },
   "file_extension": ".py",
   "mimetype": "text/x-python",
   "name": "python",
   "nbconvert_exporter": "python",
   "pygments_lexer": "ipython3",
   "version": "3.8.5-final"
  },
  "orig_nbformat": 2,
  "kernelspec": {
   "name": "python_defaultSpec_1599583286654",
   "display_name": "Python 3.8.5 32-bit"
  }
 },
 "nbformat": 4,
 "nbformat_minor": 2,
 "cells": [
  {
   "cell_type": "markdown",
   "metadata": {},
   "source": [
    "# Aufgabe 2\n",
    "\n",
    "In dieser Aufgabe befassen wir uns mit der Analyse eines Produktportfolios. Hierzu haben Sie zwei Listen gegeben. Die Liste Portfolio beinhaltet eine Auflistung aller angebotenen Produkte. Die Liste Infos beinhaltet eine Auflistung zugehöriger genaueren Informationen. Ihre Aufgabe ist es nun die Gesamtzahl an Auto Türen herauszufinden. Hierzu müssen Sie zuerst im Portfolio die Einträge `\"Auto\"` herausfiltern. Wenn Sie diesen gefunden haben müssem Sie den zugehörigen Eintrag in der Infos Liste heraussuchen. Hierzu müssen Sie den selben Index also `Portfolio[10]` und `Infos[10]` verwenden um die passende Anzahl zu kriegen. Achten Sie darauf die Anzahl Türen in der Variable Tueren zu speichern und Benutzen Sie `int(Infos[Counter])` um einen int und keinen string Wert zu erhalten. \n",
    "\n",
    "### Hilfe\n",
    "\n",
    "1. Lassen Sie die variable Counter mittzählen, um auf die passenden Werten der Produkte aus der Infoliste zugreifen zu können.\n",
    "2. Achten Sie darauf an welcher Stelle Sie in der Schleife anfangen den Counter hochzuzählen."
   ]
  },
  {
   "cell_type": "code",
   "execution_count": null,
   "metadata": {
    "tags": []
   },
   "outputs": [],
   "source": [
    "import pandas as pd\n",
    "CSV = pd.read_csv('tests/Portfolio_Tests/Autos.csv',sep=\";\",decimal=\",\")\n",
    "P = list(CSV['Produkt'])\n",
    "I = list(CSV['Info'])\n",
    "def get_tueren(Portfolio,Infos):\n",
    "    Tueren = 0\n",
    "    Counter = 0\n",
    "    ###BEGIN SOLUTION\n",
    "    for Produkt in Portfolio:\n",
    "        if(Produkt == \"Auto\"):\n",
    "            Tueren += int(Infos[Counter])\n",
    "        Counter += 1\n",
    "    ###END SOLUTION\n",
    "    return Tueren\n",
    "get_tueren(P,I)"
   ]
  },
  {
   "cell_type": "markdown",
   "metadata": {},
   "source": [
    "# Automatisierte Tests"
   ]
  },
  {
   "cell_type": "code",
   "execution_count": null,
   "metadata": {
    "tags": []
   },
   "outputs": [],
   "source": [
    "import unittest\n",
    "import os\n",
    "import pandas as pd\n",
    "class TestNotebookClass(unittest.TestCase):\n",
    "    def test1(self):\n",
    "        CSV = pd.read_csv('tests/Portfolio_Tests/test1.csv',sep=\";\",decimal=\",\")#Autos.csv\n",
    "        P = list(CSV['Produkt'])\n",
    "        I = list(CSV['Info'])\n",
    "        \"\"\"Test1\"\"\"\n",
    "        expected_out = 686\n",
    "        self.assertEqual(get_tueren(P,I), expected_out)\n",
    "    def test2(self):\n",
    "        CSV = pd.read_csv('tests/Portfolio_Tests/test2.csv',sep=\";\",decimal=\",\")#Autos.csv\n",
    "        P = list(CSV['Produkt'])\n",
    "        I = list(CSV['Info'])\n",
    "        \"\"\"Test2\"\"\"\n",
    "        expected_out = 1372\n",
    "        self.assertEqual(get_tueren(P,I), expected_out) \n",
    "    def test3(self):\n",
    "        CSV = pd.read_csv('tests/Portfolio_Tests/test3.csv',sep=\";\",decimal=\",\")#Autos.csv\n",
    "        P = list(CSV['Produkt'])\n",
    "        I = list(CSV['Info'])\n",
    "        \"\"\"Test3\"\"\"\n",
    "        expected_out = 2850\n",
    "        self.assertEqual(get_tueren(P,I), expected_out)\n",
    "    def test4(self):\n",
    "        CSV = pd.read_csv('tests/Portfolio_Tests/test4.csv',sep=\";\",decimal=\",\")#Autos.csv\n",
    "        P = list(CSV['Produkt'])\n",
    "        I = list(CSV['Info'])\n",
    "        \"\"\"Test4\"\"\"\n",
    "        expected_out = 2219\n",
    "        self.assertEqual(get_tueren(P,I), expected_out)    \n",
    "import sys\n",
    "suite = unittest.TestLoader().loadTestsFromTestCase(TestNotebookClass)\n",
    "unittest.TextTestRunner(verbosity=4,stream=sys.stderr).run(suite)"
   ]
  }
 ]
}