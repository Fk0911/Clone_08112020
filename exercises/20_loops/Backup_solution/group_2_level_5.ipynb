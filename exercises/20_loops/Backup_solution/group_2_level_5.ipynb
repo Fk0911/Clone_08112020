{
 "cells": [
  {
   "cell_type": "markdown",
   "metadata": {
    "nbgrader": {
     "grade": false,
     "grade_id": "cell-ad7f470c6fa6d8b1",
     "locked": true,
     "schema_version": 1,
     "solution": false
    }
   },
   "source": [
    "# Aufgabe 5\n",
    "\n",
    "Es soll ein Programm zur automatischen Berechnung mehrerer Kontostände implementiert werden. So soll aus mehreren Listen von Zugängen und Abgängen für verschiedene Konten jeweils der neue Kontostand berechnet werden. \n",
    "\n",
    "Implementieren Sie nun die Funktion `calculate_balances`. Diese Funktion erhält als Parameter eine Liste `transfers`. Diese Liste besteht allerding aus mehreren Listen. So ist jedes Element der Liste `transfers` eine Liste bestehend aus dem Kontonamen als erstem Wert, gefolgt von den Zugängen und Abgängen wie gewohnt. Die Liste sieht also in etwa so aus: `[[\"Kasse\", +500, -200, +30], [\"Immobilien\", +30000, -5000], [\"Fuhrpark\", +500, -20000, +3000]]`.   \n",
    "Als Ergebnis soll eine Liste zurückgegeben werden, auch bestehend aus mehreren Listen. Dabei soll jede Liste als ersten Eintrag den Kontonamen beinhalten und als zweiten Wert den Kontostand dieses Kontos. Für obiges Beispiel wäre das Ergebnis also `[['Kasse', 330], ['Immobilien', 25000], ['Fuhrpark', -16500]]`.  \n",
    "\n",
    "\n",
    "\n",
    "### Hilfe\n",
    "Sie können Ihre Lösung mit den automatisierten [Tests](#Automatische-Tests) weiter unten im Dokument überprüfen.<br>\n",
    "Eine Einführung in die `For-Schleifen` in Python finden Sie [hier](../../50_loops/for_loop.ipynb)."
   ]
  },
  {
   "cell_type": "code",
   "execution_count": 8,
   "metadata": {
    "nbgrader": {
     "grade": false,
     "grade_id": "cell-7ecc30079e6674c8",
     "locked": false,
     "schema_version": 1,
     "solution": true
    }
   },
   "outputs": [
    {
     "name": "stdout",
     "output_type": "stream",
     "text": [
      "Bei \"transfers = [[\"Kasse\", +500, -200, +30], [\"Immobilien\", +30000, -5000]]\" liefert Ihre Funktion: [['Kasse', 330], ['Immobilien', 25000]]\n"
     ]
    }
   ],
   "source": [
    "def calculate_balances(transfers):\n",
    "    \n",
    "    ###BEGIN SOLUTION\n",
    "    balances = []\n",
    "    to_append = [\"abc\", 0]\n",
    "\n",
    "    for account in transfers:\n",
    "        to_append[0] = account[0]\n",
    "\n",
    "        for transfer in account[1:]:\n",
    "            to_append[1] += transfer\n",
    "\n",
    "        balances.append(to_append.copy())\n",
    "        to_append[1] = 0\n",
    "\n",
    "    ###END SOLUTION\n",
    "    return balances\n",
    "\n",
    "print(\"Bei \\\"transfers = [[\\\"Kasse\\\", +500, -200, +30], [\\\"Immobilien\\\", +30000, -5000]]\\\" liefert Ihre Funktion:\", calculate_balances([[\"Kasse\", +500, -200, +30], [\"Immobilien\", +30000, -5000]]))"
   ]
  },
  {
   "cell_type": "markdown",
   "metadata": {
    "nbgrader": {
     "grade": false,
     "grade_id": "cell-0ef1f13080210419",
     "locked": true,
     "schema_version": 1,
     "solution": false
    }
   },
   "source": [
    "  ***\n",
    "  # Automatische Tests\n",
    "  Ab hier finden Sie einige automatisierte Tests um Ihre Lösungen zu überprüfen. Um Ihre Lösung zu prüfen führen Sie bitte zuerst die Zelle mit Ihrer Lösung und danach die Zelle mit dem zugehörigen Test aus.\n"
   ]
  },
  {
   "cell_type": "code",
   "execution_count": 5,
   "metadata": {
    "nbgrader": {
     "grade": true,
     "grade_id": "cell-65aa12cf9dce6952",
     "locked": true,
     "points": 0,
     "schema_version": 1,
     "solution": false
    }
   },
   "outputs": [],
   "source": [
    "try:\n",
    "    calculate_balances([[\"Kasse\", +500, -200, +30], [\"Immobilien\", +30000, -5000]])\n",
    "except NotImplementedError:\n",
    "    print(\"Bitte entfernen Sie das \\\"raise NotImplementedError()\\\"\")"
   ]
  },
  {
   "cell_type": "markdown",
   "metadata": {
    "nbgrader": {
     "grade": false,
     "grade_id": "cell-45e1c06b4948da35",
     "locked": true,
     "schema_version": 1,
     "solution": false
    }
   },
   "source": [
    "## Test 1 - Korrekte Übernahme der Kontennamen\n",
    "Die Kontennamen sollen im Ergebnis jeweils als erstes Element der einzelnen Listen übernommen werden."
   ]
  },
  {
   "cell_type": "code",
   "execution_count": 7,
   "metadata": {
    "nbgrader": {
     "grade": true,
     "grade_id": "cell-9f31a47ff04a715b",
     "locked": true,
     "points": 0,
     "schema_version": 1,
     "solution": false
    }
   },
   "outputs": [
    {
     "name": "stdout",
     "output_type": "stream",
     "text": [
      "\n",
      "'Kasse' != 'Kase'\n",
      "- Kasse\n",
      "?    -\n",
      "+ Kase\n",
      " : Der Kontoname \"Kasse\" wird nicht korrekt übernommen\n",
      "Test 2 erfolgreich\n"
     ]
    }
   ],
   "source": [
    "from nose.tools import assert_equal\n",
    "\n",
    "transfers = [[\"Kasse\", +500, -200, +30], [\"Immobilien\", +30000, -5000], [\"Fuhrpark\", +500, -20000, +3000]]\n",
    "balances = calculate_balances(transfers)\n",
    "try:\n",
    "    assert_equal(balances[0][0], \"Kasse\", \"Der Kontoname \\\"Kasse\\\" wird nicht korrekt übernommen\")\n",
    "    assert_equal(balances[1][0], \"Immobilien\", \"Der Kontoname \\\"Immobilien\\\" wird nicht korrekt übernommen\")\n",
    "    assert_equal(balances[2][0], \"Fuhrpark\", \"Der Kontoname \\\"Fuhrpark\\\" wird nicht korrekt übernommen\")\n",
    "    print(\"Test 1 erfolgreich\")\n",
    "except AssertionError as e:\n",
    "    print(e)\n",
    "    \n",
    "\n",
    "transfers = [[\"Verbindlichkeiten\", +500, -200, +30], [\"Forderungen\", +30000, -5000], [\"Bürobedarf\", +500, -20000, +3000], [\"Lager\", +200, -200, +200, -200]]\n",
    "balances = calculate_balances(transfers)\n",
    "try:\n",
    "    assert_equal(balances[0][0], \"Verbindlichkeiten\", \"Der Kontoname \\\"Verbindlichkeiten\\\" wird nicht korrekt übernommen\")\n",
    "    assert_equal(balances[1][0], \"Forderungen\", \"Der Kontoname \\\"Forderungen\\\" wird nicht korrekt übernommen\")\n",
    "    assert_equal(balances[2][0], \"Bürobedarf\", \"Der Kontoname \\\"Bürobedarf\\\" wird nicht korrekt übernommen\")\n",
    "    assert_equal(balances[3][0], \"Lager\", \"Der Kontoname \\\"Lager\\\" wird nicht korrekt übernommen\")\n",
    "    print(\"Test 2 erfolgreich\")\n",
    "except AssertionError as e:\n",
    "    print(e)"
   ]
  },
  {
   "cell_type": "markdown",
   "metadata": {
    "nbgrader": {
     "grade": false,
     "grade_id": "cell-203a9697465e02db",
     "locked": true,
     "schema_version": 1,
     "solution": false
    }
   },
   "source": [
    "## Test 2 - Korrekte Berechnung der Kontostände\n",
    "Die Kontostände sollen für jedes Konto richtig berechnet werden."
   ]
  },
  {
   "cell_type": "code",
   "execution_count": 26,
   "metadata": {
    "nbgrader": {
     "grade": true,
     "grade_id": "cell-5fa4a39ed84279fb",
     "locked": true,
     "points": 0,
     "schema_version": 1,
     "solution": false
    }
   },
   "outputs": [
    {
     "name": "stdout",
     "output_type": "stream",
     "text": [
      "Test 1 erfolgreich\n",
      "Test 2 erfolgreich\n"
     ]
    }
   ],
   "source": [
    "from nose.tools import assert_equal\n",
    "\n",
    "transfers = [[\"Kasse\", +500, -200, +30], [\"Immobilien\", +30000, -5000], [\"Fuhrpark\", +500, -20000, +3000]]\n",
    "balances = calculate_balances(transfers)\n",
    "try:\n",
    "    assert_equal(balances[0][1], 330, \"Der Kontostand des Kontos \\\"Kasse\\\" wird nicht korrekt berechnet\")\n",
    "    assert_equal(balances[1][1], 25000, \"Der Kontostand des Kontos \\\"Immobilien\\\" wird nicht korrekt berechnet\")\n",
    "    assert_equal(balances[2][1], -16500, \"Der Kontostand des Kontos \\\"Fuhrpark\\\" wird nicht korrekt berechnet\")\n",
    "    print(\"Test 1 erfolgreich\")\n",
    "except AssertionError as e:\n",
    "    print(e)\n",
    "    \n",
    "\n",
    "transfers = [[\"Kasse\", +700, -200, +30, +256, -13, +12], [\"Immobilien\", +30000], [\"Fuhrpark\", +500, -20000, +3000]]\n",
    "balances = calculate_balances(transfers)\n",
    "try:\n",
    "    assert_equal(balances[0][1], 785, \"Der Kontostand des Kontos \\\"Kasse\\\" wird nicht korrekt berechnet\")\n",
    "    assert_equal(balances[1][1], 30000, \"Der Kontostand des Kontos \\\"Immobilien\\\" wird nicht korrekt berechnet\")\n",
    "    assert_equal(balances[2][1], -16500, \"Der Kontostand des Kontos \\\"Fuhrpark\\\" wird nicht korrekt berechnet\")\n",
    "    print(\"Test 2 erfolgreich\")\n",
    "except AssertionError as e:\n",
    "    print(e)"
   ]
  }
 ],
 "metadata": {
  "celltoolbar": "Create Assignment",
  "file_extension": ".py",
  "kernelspec": {
   "display_name": "Python 3",
   "language": "python",
   "name": "python3"
  },
  "language_info": {
   "codemirror_mode": {
    "name": "ipython",
    "version": 3
   },
   "file_extension": ".py",
   "mimetype": "text/x-python",
   "name": "python",
   "nbconvert_exporter": "python",
   "pygments_lexer": "ipython3",
   "version": "3.7.2"
  },
  "mimetype": "text/x-python",
  "name": "python",
  "npconvert_exporter": "python",
  "pygments_lexer": "ipython3",
  "version": 3
 },
 "nbformat": 4,
 "nbformat_minor": 2
}
