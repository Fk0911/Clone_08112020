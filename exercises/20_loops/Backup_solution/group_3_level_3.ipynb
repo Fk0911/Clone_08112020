{
 "cells": [
  {
   "cell_type": "markdown",
   "metadata": {
    "nbgrader": {
     "grade": false,
     "grade_id": "cell-e47441f2aa01ea0f",
     "locked": true,
     "schema_version": 1,
     "solution": false
    }
   },
   "source": [
    "# Aufgabe 3\n",
    "\n",
    "Im Rahmen der Materialverwaltung soll ein Programm zur automatischen Analyse von Materialeingängen und Materialabgängen implementiert werden. So soll aus einer großen Liste von Eingängen und Abgängen erkannt werden wie der neue Materialbestand ist. Außerdem soll die durchschnittliche Höhe der Materialbewegungen berechnet werden, sowie der größte Ein- oder Abgang bestimmt werden.\n",
    "\n",
    "Implementieren Sie nun die Funktion `analyse_stock`. Diese Funktion erhält als Parameter eine Liste `incoming_outgoing`, welche in Form von Integer-Werten die Eingänge und Abgänge auf das Konto angibt (in etwa `[+500, -200, +70, -65]`).  \n",
    "Als Ergebnis soll der Materialbestand(`stock`) als Integer-Wert zurückgegeben werden.  \n",
    "Die durchschnittliche Höhe(`average`) der Eingänge und Abgänge eines Materials.  \n",
    "Die höchste Transaktion (`highest_transaction`). Hierbei sollen sowohl Abgänge als auch Eingänge berücksichtigt werden.  \n",
    "\n",
    "\n",
    "\n",
    "### Hilfe\n",
    "Sie können Ihre Lösung mit den automatisierten [Tests](#Automatische-Tests) weiter unten im Dokument überprüfen.<br>\n",
    "Eine Einführung in die `For-Schleifen` in Python finden Sie [hier](../../50_loops/for_loop.ipynb)."
   ]
  },
  {
   "cell_type": "code",
   "execution_count": 6,
   "metadata": {
    "nbgrader": {
     "grade": false,
     "grade_id": "cell-903a8769bae67c57",
     "locked": false,
     "schema_version": 1,
     "solution": true
    }
   },
   "outputs": [
    {
     "name": "stdout",
     "output_type": "stream",
     "text": [
      "Bei \"incoming_outgoing = [20, 30, 40]\" liefert Ihre Funktion: (90, 30.0, 40)\n"
     ]
    }
   ],
   "source": [
    "def analyse_stock(incoming_outgoing):\n",
    "    \n",
    "    ###BEGIN SOLUTION\n",
    "    stock = 0\n",
    "    highest_transaction = 0\n",
    "    for transaction in incoming_outgoing:\n",
    "        stock += transaction\n",
    "        if transaction ** 2 > highest_transaction ** 2:\n",
    "            highest_transaction = transaction\n",
    "    \n",
    "    average = stock / len(incoming_outgoing)\n",
    "    \n",
    "    ###END SOLUTION\n",
    "    return stock, average, highest_transaction\n",
    "\n",
    "print(\"Bei \\\"incoming_outgoing = [20, 30, 40]\\\" liefert Ihre Funktion:\", analyse_stock([20, 30, 40]))"
   ]
  },
  {
   "cell_type": "markdown",
   "metadata": {
    "nbgrader": {
     "grade": false,
     "grade_id": "cell-2448ce27c7d43085",
     "locked": true,
     "schema_version": 1,
     "solution": false
    }
   },
   "source": [
    "  ***\n",
    "  # Automatische Tests\n",
    "  Ab hier finden Sie einige automatisierte Tests um Ihre Lösungen zu überprüfen. Um Ihre Lösung zu prüfen führen Sie bitte zuerst die Zelle mit Ihrer Lösung und danach die Zelle mit dem zugehörigen Test aus.\n"
   ]
  },
  {
   "cell_type": "code",
   "execution_count": 2,
   "metadata": {
    "nbgrader": {
     "grade": true,
     "grade_id": "cell-5bb0046f57db8819",
     "locked": true,
     "points": 0,
     "schema_version": 1,
     "solution": false
    }
   },
   "outputs": [],
   "source": [
    "try:\n",
    "    analyse_stock([0, 0, 0, 0])\n",
    "except NotImplementedError:\n",
    "    print(\"Bitte entfernen Sie das \\\"raise NotImplementedError()\\\"\")"
   ]
  },
  {
   "cell_type": "markdown",
   "metadata": {
    "nbgrader": {
     "grade": false,
     "grade_id": "cell-14c3b12ca7deecef",
     "locked": true,
     "schema_version": 1,
     "solution": false
    }
   },
   "source": [
    "## Test 1 - Korrekte Berechnung des Kontostands\n",
    "Der Materialbestand (`stock`) soll für jede Liste korrekt berechnet werden."
   ]
  },
  {
   "cell_type": "code",
   "execution_count": 3,
   "metadata": {
    "nbgrader": {
     "grade": true,
     "grade_id": "cell-decd091a2b317c36",
     "locked": true,
     "points": 0,
     "schema_version": 1,
     "solution": false
    }
   },
   "outputs": [
    {
     "name": "stdout",
     "output_type": "stream",
     "text": [
      "Test 1 erfolgreich\n",
      "Test 2 erfolgreich\n",
      "Test 3 erfolgreich\n"
     ]
    }
   ],
   "source": [
    "from nose.tools import assert_equal\n",
    "\n",
    "incoming_outgoing = [+519, -250, -19, -12, +234]\n",
    "stock = analyse_stock(incoming_outgoing)\n",
    "try:\n",
    "    assert_equal(stock[0], 472)\n",
    "    print(\"Test 1 erfolgreich\")\n",
    "except AssertionError as e:\n",
    "    print(\"Das Ergebnis ist falsch\")\n",
    "    print(e)\n",
    "    \n",
    "\n",
    "incoming_outgoing = [+99999999, -1234567, -9876543]\n",
    "stock = analyse_stock(incoming_outgoing)\n",
    "try:\n",
    "    assert_equal(stock[0], 88888889)\n",
    "    print(\"Test 2 erfolgreich\")\n",
    "except AssertionError as e:\n",
    "    print(\"Das Ergebnis ist falsch\")\n",
    "    print(e)\n",
    "    \n",
    "\n",
    "incoming_outgoing = [-12, +20]\n",
    "stock = analyse_stock(incoming_outgoing)\n",
    "try:\n",
    "    assert_equal(stock[0], 8)\n",
    "    print(\"Test 3 erfolgreich\")\n",
    "except AssertionError as e:\n",
    "    print(\"Das Ergebnis ist falsch\")\n",
    "    print(e)"
   ]
  },
  {
   "cell_type": "markdown",
   "metadata": {
    "nbgrader": {
     "grade": false,
     "grade_id": "cell-32084f4d90f22b96",
     "locked": true,
     "schema_version": 1,
     "solution": false
    }
   },
   "source": [
    "## Test 2 - Korrekte Berechnung des Durchschnitts\n",
    "Der Durchschnitt (`average`) soll für jede Liste korrekt berechnet werden."
   ]
  },
  {
   "cell_type": "code",
   "execution_count": 4,
   "metadata": {
    "nbgrader": {
     "grade": true,
     "grade_id": "cell-945d1aa59d6ae4d8",
     "locked": true,
     "points": 0,
     "schema_version": 1,
     "solution": false
    }
   },
   "outputs": [
    {
     "name": "stdout",
     "output_type": "stream",
     "text": [
      "Test 1 erfolgreich\n",
      "Test 2 erfolgreich\n",
      "Test 3 erfolgreich\n"
     ]
    }
   ],
   "source": [
    "from nose.tools import assert_equal\n",
    "\n",
    "incoming_outgoing = [+300, -15, +230, -123, +987]\n",
    "average = analyse_stock(incoming_outgoing)\n",
    "try:\n",
    "    assert_equal(average[1], 275.8)\n",
    "    print(\"Test 1 erfolgreich\")\n",
    "except AssertionError as e:\n",
    "    print(\"Das Ergebnis ist falsch\")\n",
    "    print(e)\n",
    "    \n",
    "\n",
    "incoming_outgoing = [+200, -200, +200, -200]\n",
    "average = analyse_stock(incoming_outgoing)\n",
    "try:\n",
    "    assert_equal(average[1], 0)\n",
    "    print(\"Test 2 erfolgreich\")\n",
    "except AssertionError as e:\n",
    "    print(\"Das Ergebnis ist falsch\")\n",
    "    print(e)\n",
    "    \n",
    "\n",
    "incoming_outgoing = [+15]\n",
    "average = analyse_stock(incoming_outgoing)\n",
    "try:\n",
    "    assert_equal(average[1], 15)\n",
    "    print(\"Test 3 erfolgreich\")\n",
    "except AssertionError as e:\n",
    "    print(\"Das Ergebnis ist falsch\")\n",
    "    print(e)"
   ]
  },
  {
   "cell_type": "markdown",
   "metadata": {
    "nbgrader": {
     "grade": false,
     "grade_id": "cell-4a69e672e8af7752",
     "locked": true,
     "schema_version": 1,
     "solution": false
    }
   },
   "source": [
    "## Test 3 - Korrekte Bestimmung der höchsten Materialtransaktion\n",
    "Die höchste Warenbewegung (`highest_transaction`) soll für jede Liste korrekt bestimmt werden.  \n",
    "Hierbei gilt es insbesondere auch Materialabgänge zu berücksichtigen."
   ]
  },
  {
   "cell_type": "code",
   "execution_count": 5,
   "metadata": {
    "nbgrader": {
     "grade": true,
     "grade_id": "cell-138b09255c4e3865",
     "locked": true,
     "points": 0,
     "schema_version": 1,
     "solution": false
    }
   },
   "outputs": [
    {
     "name": "stdout",
     "output_type": "stream",
     "text": [
      "Test 1 erfolgreich\n",
      "Test 2 erfolgreich\n",
      "Test 3 erfolgreich\n",
      "Test 4 erfolgreich\n"
     ]
    }
   ],
   "source": [
    "from nose.tools import assert_equal\n",
    "\n",
    "incoming_outgoing = [+100, -26, -23, +210, +234]\n",
    "highest_transaction = analyse_stock(incoming_outgoing)\n",
    "try:\n",
    "    assert_equal(highest_transaction[2], 234)\n",
    "    print(\"Test 1 erfolgreich\")\n",
    "except AssertionError as e:\n",
    "    print(\"Das Ergebnis ist falsch\")\n",
    "    print(e)\n",
    "    \n",
    "\n",
    "incoming_outgoing = [+200, -200, +200, -200]\n",
    "highest_transaction = analyse_stock(incoming_outgoing)\n",
    "try:\n",
    "    assert_equal(highest_transaction[2], 200)\n",
    "    print(\"Test 2 erfolgreich\")\n",
    "except AssertionError as e:\n",
    "    print(\"Das Ergebnis ist falsch\")\n",
    "    print(e)\n",
    "    \n",
    "\n",
    "incoming_outgoing = [+15]\n",
    "highest_transaction = analyse_stock(incoming_outgoing)\n",
    "try:\n",
    "    assert_equal(highest_transaction[2], 15)\n",
    "    print(\"Test 3 erfolgreich\")\n",
    "except AssertionError as e:\n",
    "    print(\"Das Ergebnis ist falsch\")\n",
    "    print(e)\n",
    "    \n",
    "\n",
    "incoming_outgoing = [+300, -500, -23, +210, +234]\n",
    "highest_transaction = analyse_stock(incoming_outgoing)\n",
    "try:\n",
    "    assert_equal(highest_transaction[2], -500)\n",
    "    print(\"Test 4 erfolgreich\")\n",
    "except AssertionError as e:\n",
    "    print(\"Das Ergebnis ist falsch\")\n",
    "    print(e)"
   ]
  }
 ],
 "metadata": {
  "celltoolbar": "Create Assignment",
  "file_extension": ".py",
  "kernelspec": {
   "display_name": "Python 3",
   "language": "python",
   "name": "python3"
  },
  "language_info": {
   "codemirror_mode": {
    "name": "ipython",
    "version": 3
   },
   "file_extension": ".py",
   "mimetype": "text/x-python",
   "name": "python",
   "nbconvert_exporter": "python",
   "pygments_lexer": "ipython3",
   "version": "3.7.2"
  },
  "mimetype": "text/x-python",
  "name": "python",
  "npconvert_exporter": "python",
  "pygments_lexer": "ipython3",
  "version": 3
 },
 "nbformat": 4,
 "nbformat_minor": 2
}
