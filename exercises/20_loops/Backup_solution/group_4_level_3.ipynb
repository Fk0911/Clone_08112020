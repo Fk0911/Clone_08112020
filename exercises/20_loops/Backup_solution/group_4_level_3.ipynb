{
 "cells": [
  {
   "cell_type": "markdown",
   "metadata": {
    "nbgrader": {
     "grade": false,
     "grade_id": "cell-548c13fd68925536",
     "locked": true,
     "schema_version": 1,
     "solution": false
    }
   },
   "source": [
    "# Aufgabe 3\n",
    "\n",
    "Im Rahmen der Steuerrechnung soll ein Programm zur automatischen Analyse der Umsatzsteuer, welche von Ihrem Unternehmen eingenommen wird, implementiert werden. Dazu sollen die Netto-Verkaufspreise analysiert werden. So soll aus einer Liste mit vielen Einnahmen heruasgefiltert werden, welches die höchste eingenommene Umsatzsteuer ist. Außerdem sollen der durchschnitt sowie die Summe aller eingenommenen Umsatzsteuern berechnet werden.\n",
    "\n",
    "Implementieren Sie nun die Funktion `analyse_taxes`. Diese Funktion erhält als Parameter eine Liste `sales`, welche in Form von Float-Werten die Netto-Verkaufspreise aller verkauften Artikel angibt (in etwa `[500.00, 299.99, 1.79, 149.49]`).   \n",
    "Als Ergebnis soll der gesamte Betrag, welcher durch die Umsatzsteuer eingenommen wurde, in Form eines Float-Wertes zurückgegeben werden (\"taxes\").   \n",
    "Die durchschnittliche Höhe der Umsatzsteuer (\"average\").  \n",
    "Der höchste Betrag, welcher durch die Umsatzsteuer an einem Artikel eingenommen wurde, in Form eines Float-Wertes (\"highest_tax\").   \n",
    "\n",
    "Tipp: $ Umsatzsteuer = Nettobetrag * 0.19 $\n",
    "\n",
    "### Hilfe\n",
    "Sie können Ihre Lösung mit den automatisierten [Tests](#Automatische-Tests) weiter unten im Dokument überprüfen.<br>\n",
    "Eine Einführung in die `For-Schleifen` in Python finden Sie [hier](../../50_loops/for_loop.ipynb)."
   ]
  },
  {
   "cell_type": "code",
   "execution_count": 4,
   "metadata": {
    "nbgrader": {
     "grade": false,
     "grade_id": "cell-ea4effec3a83d25e",
     "locked": false,
     "schema_version": 1,
     "solution": true
    }
   },
   "outputs": [
    {
     "name": "stdout",
     "output_type": "stream",
     "text": [
      "Bei \"sales = [20, 30, 40]\" liefert Ihre Funktion: (17.1, 5.7, 7.6)\n"
     ]
    }
   ],
   "source": [
    "def analyse_taxes(sales):\n",
    "    \n",
    "    ###BEGIN SOLUTION\n",
    "    taxes = 0\n",
    "    highest_tax = 0\n",
    "    for sale in sales:\n",
    "        taxes += sale *0.19\n",
    "        if (sale * 0.19) > highest_tax:\n",
    "            highest_tax = sale * 0.19\n",
    "            \n",
    "    average = taxes / len(sales)\n",
    "    \n",
    "    ###END SOLUTION\n",
    "    return taxes, average, highest_tax\n",
    "\n",
    "print(\"Bei \\\"sales = [20, 30, 40]\\\" liefert Ihre Funktion:\", analyse_taxes([20, 30, 40]))"
   ]
  },
  {
   "cell_type": "markdown",
   "metadata": {
    "nbgrader": {
     "grade": false,
     "grade_id": "cell-238c77e1e478a6b7",
     "locked": true,
     "schema_version": 1,
     "solution": false
    }
   },
   "source": [
    "  ***\n",
    "  # Automatische Tests\n",
    "  Ab hier finden Sie einige automatisierte Tests um Ihre Lösungen zu überprüfen. Um Ihre Lösung zu prüfen führen Sie bitte zuerst die Zelle mit Ihrer Lösung und danach die Zelle mit dem zugehörigen Test aus.\n"
   ]
  },
  {
   "cell_type": "code",
   "execution_count": 2,
   "metadata": {
    "nbgrader": {
     "grade": true,
     "grade_id": "cell-8baa31006b25d951",
     "locked": true,
     "points": 0,
     "schema_version": 1,
     "solution": false
    }
   },
   "outputs": [],
   "source": [
    "try:\n",
    "    analyse_taxes([0, 0, 0, 0])\n",
    "except NotImplementedError:\n",
    "    print(\"Bitte entfernen Sie das \\\"raise NotImplementedError()\\\"\")"
   ]
  },
  {
   "cell_type": "markdown",
   "metadata": {
    "nbgrader": {
     "grade": false,
     "grade_id": "cell-b419954c1c992b20",
     "locked": true,
     "schema_version": 1,
     "solution": false
    }
   },
   "source": [
    "## Test 1 - Korrekte Berechnung der gesamten Umsatzsteuer\n",
    "Die Umsatzsteuer (`taxes`) soll für jede Liste korrekt berechnet werden."
   ]
  },
  {
   "cell_type": "code",
   "execution_count": 8,
   "metadata": {
    "nbgrader": {
     "grade": true,
     "grade_id": "cell-6a7e886faa4b80e2",
     "locked": true,
     "points": 0,
     "schema_version": 1,
     "solution": false
    }
   },
   "outputs": [
    {
     "name": "stdout",
     "output_type": "stream",
     "text": [
      "Test 1 erfolgreich\n",
      "Test 2 erfolgreich\n",
      "Test 3 erfolgreich\n"
     ]
    }
   ],
   "source": [
    "from nose.tools import assert_equal\n",
    "\n",
    "sales = [300, 250.45, 19.78, 123.56, 50.23]\n",
    "taxes = analyse_taxes(sales)\n",
    "try:\n",
    "    assert_equal(taxes[0], 141.3638)\n",
    "    print(\"Test 1 erfolgreich\")\n",
    "except AssertionError as e:\n",
    "    print(\"Das Ergebnis ist falsch\")\n",
    "    print(e)\n",
    "\n",
    "    \n",
    "sales = [99999999, 1234567, 9876543]\n",
    "taxes = analyse_taxes(sales)\n",
    "try:\n",
    "    assert_equal(taxes[0], 21111110.71)\n",
    "    print(\"Test 2 erfolgreich\")\n",
    "except AssertionError as e:\n",
    "    print(\"Das Ergebnis ist falsch\")\n",
    "    print(e)\n",
    "\n",
    "    \n",
    "sales = [12, 20]\n",
    "taxes = analyse_taxes(sales)\n",
    "try:\n",
    "    assert_equal(taxes[0], 6.08)\n",
    "    print(\"Test 3 erfolgreich\")\n",
    "except AssertionError as e:\n",
    "    print(\"Das Ergebnis ist falsch\")\n",
    "    print(e)"
   ]
  },
  {
   "cell_type": "markdown",
   "metadata": {
    "nbgrader": {
     "grade": false,
     "grade_id": "cell-1f08330ae6f23387",
     "locked": true,
     "schema_version": 1,
     "solution": false
    }
   },
   "source": [
    "## Test 2 - Korrekte Berechnung des Durchschnitts\n",
    "Der Durchschnitt (`average`) soll für jede Liste korrekt berechnet werden."
   ]
  },
  {
   "cell_type": "code",
   "execution_count": 18,
   "metadata": {
    "nbgrader": {
     "grade": true,
     "grade_id": "cell-70e120823526c483",
     "locked": true,
     "points": 0,
     "schema_version": 1,
     "solution": false
    }
   },
   "outputs": [
    {
     "name": "stdout",
     "output_type": "stream",
     "text": [
      "Test 1 erfolgreich\n",
      "Test 2 erfolgreich\n",
      "Test 3 erfolgreich\n",
      "Test 4 erfolgreich\n"
     ]
    }
   ],
   "source": [
    "from nose.tools import assert_equal\n",
    "\n",
    "sales = [500, 250.45, 19.78, 123.56, 50.23]\n",
    "average = analyse_taxes(sales)\n",
    "try:\n",
    "    assert_equal(average[1], 35.87276, \"Das Ergebnis ist falsch\")\n",
    "    print(\"Test 1 erfolgreich\")\n",
    "except AssertionError as e:\n",
    "    print(\"Das Ergebnis ist falsch\")\n",
    "    print(e)\n",
    "    \n",
    "\n",
    "sales = [99999999, 1234567, 9876543]\n",
    "average = analyse_taxes(sales)\n",
    "try:\n",
    "    assert_equal(average[1], 7037036.903333333, \"Das Ergebnis ist falsch\")\n",
    "    print(\"Test 2 erfolgreich\")\n",
    "except AssertionError as e:\n",
    "    print(\"Das Ergebnis ist falsch\")\n",
    "    print(e)\n",
    "    \n",
    "\n",
    "sales = [12, 20]\n",
    "average = analyse_taxes(sales)\n",
    "try:\n",
    "    assert_equal(average[1], 3.04)\n",
    "    print(\"Test 3 erfolgreich\")\n",
    "except AssertionError as e:\n",
    "    print(\"Das Ergebnis ist falsch\")\n",
    "    print(e)\n",
    "    \n",
    "\n",
    "sales = [20]\n",
    "average = analyse_taxes(sales)\n",
    "try:\n",
    "    assert_equal(average[1], 3.8)\n",
    "    print(\"Test 4 erfolgreich\")\n",
    "except AssertionError as e:\n",
    "    print(\"Das Ergebnis ist falsch\")\n",
    "    print(e)"
   ]
  },
  {
   "cell_type": "markdown",
   "metadata": {
    "nbgrader": {
     "grade": false,
     "grade_id": "cell-5fe3e7d0739a97af",
     "locked": true,
     "schema_version": 1,
     "solution": false
    }
   },
   "source": [
    "## Test 3 - Korrekte Bestimmung der höchsten Umsatzsteuer\n",
    "Der Betrag (`highest_tax`) soll für jede Liste korrekt herausgefiltert werden."
   ]
  },
  {
   "cell_type": "code",
   "execution_count": 3,
   "metadata": {
    "nbgrader": {
     "grade": true,
     "grade_id": "cell-bd0f620abcd1ffda",
     "locked": true,
     "points": 0,
     "schema_version": 1,
     "solution": false
    }
   },
   "outputs": [
    {
     "name": "stdout",
     "output_type": "stream",
     "text": [
      "Test 1 erfolgreich\n",
      "Test 2 erfolgreich\n",
      "Test 3 erfolgreich\n",
      "Test 4 erfolgreich\n"
     ]
    }
   ],
   "source": [
    "from nose.tools import assert_equal\n",
    "\n",
    "sales = [300, 250.45, 19.78, 123.56, 50.23]\n",
    "highest_tax = analyse_taxes(sales)\n",
    "try:\n",
    "    assert_equal(highest_tax[2], 57)\n",
    "    print(\"Test 1 erfolgreich\")\n",
    "except AssertionError as e:\n",
    "    print(\"Das Ergebnis ist falsch\")\n",
    "    print(e)\n",
    "    \n",
    "\n",
    "sales = [99999999, 1234567, 9876543]\n",
    "highest_tax = analyse_taxes(sales)\n",
    "try:\n",
    "    assert_equal(highest_tax[2], 18999999.81)\n",
    "    print(\"Test 2 erfolgreich\")\n",
    "except AssertionError as e:\n",
    "    print(\"Das Ergebnis ist falsch\")\n",
    "    print(e)\n",
    "    \n",
    "\n",
    "sales = [12, 20]\n",
    "highest_tax = analyse_taxes(sales)\n",
    "try:\n",
    "    assert_equal(highest_tax[2], 3.8)\n",
    "    print(\"Test 3 erfolgreich\")\n",
    "except AssertionError as e:\n",
    "    print(\"Das Ergebnis ist falsch\")\n",
    "    print(e)\n",
    "    \n",
    "\n",
    "sales = [20]\n",
    "highest_tax = analyse_taxes(sales)\n",
    "try:\n",
    "    assert_equal(highest_tax[2], 3.8)\n",
    "    print(\"Test 4 erfolgreich\")\n",
    "except AssertionError as e:\n",
    "    print(\"Das Ergebnis ist falsch\")\n",
    "    print(e)"
   ]
  }
 ],
 "metadata": {
  "celltoolbar": "Create Assignment",
  "file_extension": ".py",
  "kernelspec": {
   "display_name": "Python 3",
   "language": "python",
   "name": "python3"
  },
  "language_info": {
   "codemirror_mode": {
    "name": "ipython",
    "version": 3
   },
   "file_extension": ".py",
   "mimetype": "text/x-python",
   "name": "python",
   "nbconvert_exporter": "python",
   "pygments_lexer": "ipython3",
   "version": "3.7.2"
  },
  "mimetype": "text/x-python",
  "name": "python",
  "npconvert_exporter": "python",
  "pygments_lexer": "ipython3",
  "version": 3
 },
 "nbformat": 4,
 "nbformat_minor": 2
}
