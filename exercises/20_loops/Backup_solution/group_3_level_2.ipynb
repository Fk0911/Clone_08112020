{
 "cells": [
  {
   "cell_type": "markdown",
   "metadata": {
    "nbgrader": {
     "grade": false,
     "grade_id": "cell-e0e50dc30adf934a",
     "locked": true,
     "schema_version": 1,
     "solution": false
    }
   },
   "source": [
    "# Aufgabe 2\n",
    "\n",
    "Im Rahmen der Materialverwaltung soll ein Programm zur automatischen Analyse von Materialeingängen und Materialabgängen implementiert werden. So soll aus einer großen Liste von Eingängen und Abgängen erkannt werden welche Transaktion die größte ist.  \n",
    "\n",
    "Implementieren Sie nun die Funktion `analyse_stock`. Diese Funktion erhält als Parameter eine Liste `incoming_outgoing`, welche in Form von Integer-Werten die Eingänge und Abgänge eines Materials in eine Lagerhalle angibt (in etwa `[+500, -200, +70, -65]`).   \n",
    "Als Ergebnis soll die höchste Transaktion(`highest_transaction`) als Integer-Wert zurückgegeben werden. Hierbei sollen sowohl Eingänge als auch Abgänge berücksichtigt werden.\n",
    "\n",
    "\n",
    "\n",
    "### Hilfe\n",
    "Sie können Ihre Lösung mit den automatisierten [Tests](#Automatische-Tests) weiter unten im Dokument überprüfen.<br>\n",
    "Eine Einführung in die `For-Schleifen` in Python finden Sie [hier](../../50_loops/for_loop.ipynb)."
   ]
  },
  {
   "cell_type": "code",
   "execution_count": 6,
   "metadata": {
    "nbgrader": {
     "grade": false,
     "grade_id": "cell-ac48f4aedf1f6935",
     "locked": false,
     "schema_version": 1,
     "solution": true
    }
   },
   "outputs": [
    {
     "name": "stdout",
     "output_type": "stream",
     "text": [
      "Bei \"incoming_outgoing = [20, 30, 40]\" liefert Ihre Funktion: 40\n"
     ]
    }
   ],
   "source": [
    "def analyse_stock(incoming_outgoing):\n",
    "    \n",
    "    ###BEGIN SOLUTION\n",
    "    highest_transaction = 0\n",
    "    for transaction in incoming_outgoing:\n",
    "        if transaction ** 2 > highest_transaction ** 2:\n",
    "            highest_transaction = transaction\n",
    "    \n",
    "    ###END SOLUTION\n",
    "    return highest_transaction\n",
    "\n",
    "print(\"Bei \\\"incoming_outgoing = [20, 30, 40]\\\" liefert Ihre Funktion:\", analyse_stock([20, 30, 40]))"
   ]
  },
  {
   "cell_type": "markdown",
   "metadata": {
    "nbgrader": {
     "grade": false,
     "grade_id": "cell-c318d0e29556a5bd",
     "locked": true,
     "schema_version": 1,
     "solution": false
    }
   },
   "source": [
    "  ***\n",
    "  # Automatische Tests\n",
    "  Ab hier finden Sie einige automatisierte Tests um Ihre Lösungen zu überprüfen. Um Ihre Lösung zu prüfen führen Sie bitte zuerst die Zelle mit Ihrer Lösung und danach die Zelle mit dem zugehörigen Test aus.\n"
   ]
  },
  {
   "cell_type": "code",
   "execution_count": 4,
   "metadata": {
    "nbgrader": {
     "grade": true,
     "grade_id": "cell-bfa0e7649eab31c7",
     "locked": true,
     "points": 0,
     "schema_version": 1,
     "solution": false
    }
   },
   "outputs": [],
   "source": [
    "try:\n",
    "    analyse_stock([0, 0, 0, 0])\n",
    "except NotImplementedError:\n",
    "    print(\"Bitte entfernen Sie das \\\"raise NotImplementedError()\\\"\")"
   ]
  },
  {
   "cell_type": "markdown",
   "metadata": {
    "nbgrader": {
     "grade": false,
     "grade_id": "cell-2ff9883d9c50da23",
     "locked": true,
     "schema_version": 1,
     "solution": false
    }
   },
   "source": [
    "## Test 1 - Korrekte Bestimmung der höchsten Materialtransaktion\n",
    "Die höchste Warenbewegung (`highest_transaction`) soll für jede Liste korrekt bestimmt werden.  \n",
    "Hierbei gilt es insbesondere auch Materialabgänge zu berücksichtigen."
   ]
  },
  {
   "cell_type": "code",
   "execution_count": 5,
   "metadata": {
    "nbgrader": {
     "grade": true,
     "grade_id": "cell-b2c5e9ad80aa9392",
     "locked": true,
     "points": 0,
     "schema_version": 1,
     "solution": false
    }
   },
   "outputs": [
    {
     "name": "stdout",
     "output_type": "stream",
     "text": [
      "Test 1 erfolgreich\n",
      "Test 2 erfolgreich\n",
      "Test 3 erfolgreich\n",
      "Test 4 erfolgreich\n"
     ]
    }
   ],
   "source": [
    "from nose.tools import assert_equal\n",
    "\n",
    "incoming_outgoing = [+100, -26, -23, +210, +234]\n",
    "highest_transaction = analyse_stock(incoming_outgoing)\n",
    "try:\n",
    "    assert_equal(highest_transaction, 234)\n",
    "    print(\"Test 1 erfolgreich\")\n",
    "except AssertionError as e:\n",
    "    print(\"Das Ergebnis ist falsch\")\n",
    "    print(e)\n",
    "    \n",
    "\n",
    "incoming_outgoing = [+200, -200, +200, -200]\n",
    "highest_transaction = analyse_stock(incoming_outgoing)\n",
    "try:\n",
    "    assert_equal(highest_transaction, 200)\n",
    "    print(\"Test 2 erfolgreich\")\n",
    "except AssertionError as e:\n",
    "    print(\"Das Ergebnis ist falsch\")\n",
    "    print(e)\n",
    "    \n",
    "\n",
    "incoming_outgoing = [+15]\n",
    "highest_transaction = analyse_stock(incoming_outgoing)\n",
    "try:\n",
    "    assert_equal(highest_transaction, 15)\n",
    "    print(\"Test 3 erfolgreich\")\n",
    "except AssertionError as e:\n",
    "    print(\"Das Ergebnis ist falsch\")\n",
    "    print(e)\n",
    "    \n",
    "\n",
    "incoming_outgoing = [+300, -500, -23, +210, +234]\n",
    "highest_transaction = analyse_stock(incoming_outgoing)\n",
    "try:\n",
    "    assert_equal(highest_transaction, -500)\n",
    "    print(\"Test 4 erfolgreich\")\n",
    "except AssertionError as e:\n",
    "    print(\"Das Ergebnis ist falsch\")\n",
    "    print(e)"
   ]
  }
 ],
 "metadata": {
  "celltoolbar": "Create Assignment",
  "file_extension": ".py",
  "kernelspec": {
   "display_name": "Python 3",
   "language": "python",
   "name": "python3"
  },
  "language_info": {
   "codemirror_mode": {
    "name": "ipython",
    "version": 3
   },
   "file_extension": ".py",
   "mimetype": "text/x-python",
   "name": "python",
   "nbconvert_exporter": "python",
   "pygments_lexer": "ipython3",
   "version": "3.7.2"
  },
  "mimetype": "text/x-python",
  "name": "python",
  "npconvert_exporter": "python",
  "pygments_lexer": "ipython3",
  "version": 3
 },
 "nbformat": 4,
 "nbformat_minor": 2
}
