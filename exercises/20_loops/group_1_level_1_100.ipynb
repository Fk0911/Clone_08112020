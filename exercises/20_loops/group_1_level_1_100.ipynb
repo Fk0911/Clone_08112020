{
 "cells": [
  {
   "cell_type": "markdown",
   "metadata": {},
   "source": [
    "<nav>\n",
    "    <a href=\"for_loop_exercises.ipynb\">&#9664; Übungsaufgaben zu Schleifen</a> |\n",
    "    <a href=\"group_1_level_1_75.ipynb\">Viel Unterstützung &#9685;</a> |\n",
    "    <a href=\"group_1_level_1.ipynb\">Keine Unterstützung &#9711;</a> |\n",
    "</nav>\n"
   ]
  },
  {
   "cell_type": "markdown",
   "metadata": {
    "nbgrader": {
     "grade": false,
     "grade_id": "cell-7590e37bc8fb12f6",
     "locked": true,
     "schema_version": 1,
     "solution": false
    }
   },
   "source": [
    "<div class=\"alert alert-warning\"><strong>Aufgabe 1 - Produktionsplanung</strong>\n",
    "    \n",
    "Im Rahmen der operativen Planung in einem Fertigungsunternehmen sollen auf der Basis eines gegebenen\n",
    "Absatzplans eine Produktionsplanung für die nächsten 12 Monate erstellt werden. Zur Berechnung der\n",
    "Produktionsplanung wird folgende Formel verwendet\n",
    "\n",
    "   $$ P_t = A_t \\cdot 1.1$$\n",
    "   \n",
    "In dieser Formel steht $P_t$ für die Produktionsmenge in einem Monat $t$ und $A_t$ für die geplante Absatzmenge in einem Monat $t$.\n",
    "Implementieren Sie nun die Funktion `create_production_plan`. Die Funktion erhält als Parameter\n",
    "`sales_plan` eine Liste von geplanten Absatzmengen der nächsten 12 Monate. Als Ergebnis soll eine neue Liste\n",
    "`production_plan` erstellt werden, die die Propduktionsmenge der nächsten 12 Monate enthält.\n",
    "</div>\n",
    "\n",
    "<div class=\"alert alert-block alert-info\"><strong>Hilfe</strong>\n",
    "    \n",
    "Sie können Ihre Lösung mit den automatisierten [Tests](#Automatische-Test) weiter unten im Dokument überprüfen.<br>\n",
    "Eine Einführung in die `for`-Schleife in Python finden Sie [hier](../for_loop.ipynb).\n",
    "</div>"
   ]
  },
  {
   "cell_type": "code",
   "execution_count": null,
   "metadata": {
    "nbgrader": {
     "grade": false,
     "grade_id": "cell-319c848acf6498ba",
     "locked": false,
     "schema_version": 1,
     "solution": true
    },
    "pycharm": {
     "is_executing": false
    }
   },
   "outputs": [],
   "source": [
    "def create_production_plan(sales_plan):\n",
    "    ###BEGIN SOLUTION\n",
    "    # create empty list\n",
    "    production_plan = []\n",
    "    # iterate over the input list\n",
    "    for sales_quantity in sales_plan:\n",
    "        # append each calculation value to the output list\n",
    "        production_plan.append(sales_quantity * 1.1)\n",
    "    ###END SOLUTION\n",
    "    return production_plan\n",
    "\n",
    "#print(\"Bei \\\"sales_plan = [20, 30, 40]\\\" liefert Ihre Funktion:\", create_production_plan([20, 30, 40]))"
   ]
  },
  {
   "cell_type": "markdown",
   "metadata": {
    "nbgrader": {
     "grade": false,
     "grade_id": "cell-b1274ac8e6a45913",
     "locked": true,
     "schema_version": 1,
     "solution": false
    }
   },
   "source": [
    "---\n",
    "<a id=\"Automatische-Tests\"></a>\n",
    "# Automatische Tests\n",
    "Ab hier finden Sie einige automatisierte Tests um Ihre Lösungen zu überprüfen. Um Ihre Lösung zu prüfen führen Sie bitte zuerst die Zelle mit Ihrer Lösung und danach die Zelle mit dem zugehörigen Test aus.\n"
   ]
  },
  {
   "cell_type": "markdown",
   "metadata": {
    "nbgrader": {
     "grade": false,
     "grade_id": "cell-260da9237e7376b2",
     "locked": true,
     "schema_version": 1,
     "solution": false
    }
   },
   "source": [
    "- Einfacher Test\n",
    "> Es werden typische Fehler bei der Programmierung aufgedeckt\n",
    "-  Test 1 - Ergebnis ist eine Liste\n",
    "> Das von der Funktion `create_production_plan` zurückgegebne Ergebnis  `production_plan` sollte eine Liste sein.\n",
    "- Test 2 - Länge der Ergebnisliste\n",
    "> Das von der Funktion `create_production_plan` zurückgegebne Ergebnis  `production_plan` ist eine Liste.\n",
    "Diese Liste muss genau so viele Einträge enthalten wie\n",
    "die übergebene List `sales_plan`. In diesem Test hat die übergebene Liste die Länge 12.\n",
    "- Test 3 - Korrekte Berechnung der Produktionsmenge\n",
    "> Die von der Funktion `create_production_plan` zurückgegebne Liste `production_plan` muss die korrekten Produktionsmengen in\n",
    "Abhängigkeit von den übergebenen Absatzmengen enthalten."
   ]
  },
  {
   "cell_type": "code",
   "execution_count": null,
   "metadata": {
    "nbgrader": {
     "grade": false,
     "grade_id": "cell-584f358963cdf4b6",
     "locked": false,
     "schema_version": 1,
     "solution": true
    },
    "pycharm": {
     "is_executing": false
    }
   },
   "outputs": [],
   "source": [
    "# import unittest\n",
    "import os\n",
    "import sys\n",
    "module_path = os.path.abspath(os.path.join('..','..'))\n",
    "if module_path not in sys.path:\n",
    "    sys.path.append(module_path)\n",
    "from utils.test_basic import test\n",
    "print(test(create_production_plan))"
   ]
  },
  {
   "cell_type": "code",
   "execution_count": null,
   "metadata": {
    "nbgrader": {
     "grade": false,
     "grade_id": "cell-584f358963cdf4b6",
     "locked": false,
     "schema_version": 1,
     "solution": true
    },
    "pycharm": {
     "is_executing": false
    }
   },
   "outputs": [],
   "source": [
    "import unittest\n",
    "class TestNotebookClass(unittest.TestCase):\n",
    "    \"\"\"Testing function create_production_plan\"\"\"\n",
    "    \n",
    "    def test_list(self):\n",
    "        \"\"\"Test1: Is die Ausgabe eine Liste?\"\"\"\n",
    "        sales_plan = (0, 0, 0, 0, 0, 0, 0, 0, 0, 0, 0, 0)\n",
    "        production_plan = create_production_plan(sales_plan)\n",
    "        self.assertTrue(isinstance(production_plan, list))\n",
    "    \n",
    "    def test_length(self):\n",
    "        \"\"\"Test2: Ist die Ausgabe ein Liste mit 12 Einträgen?\"\"\"\n",
    "        sales_plan = (0, 0, 0, 0, 0, 0, 0, 0, 0, 0, 0, 0)\n",
    "        production_plan = create_production_plan(sales_plan)\n",
    "        self.assertEqual(len(production_plan), 12)\n",
    "    \n",
    "    def test_correct_result(self):\n",
    "        \"\"\"Test3: Sind die berechneten Produktionsmengen korrekt?\"\"\"\n",
    "        sales_plan = [570, 500, 520, 500, 600, 550, 530, 520, 530, 590, 600, 590]\n",
    "        expected_production_plan = [627.0, 550.0, 572.0, 550.0, 660.0, 605.0, 583.0, 572.0, 583.0, 649.0, 660.0, 649.0]\n",
    "        production_plan = create_production_plan(sales_plan)\n",
    "        self.assertEqual(production_plan, expected_production_plan)\n",
    "    \n",
    "suite = unittest.TestLoader().loadTestsFromTestCase(TestNotebookClass)\n",
    "unittest.TextTestRunner(verbosity=4,stream=sys.stderr).run(suite)"
   ]
  }
 ],
 "metadata": {
  "celltoolbar": "Create Assignment",
  "file_extension": ".py",
  "kernelspec": {
   "display_name": "Python 3",
   "language": "python",
   "name": "python3"
  },
  "language_info": {
   "codemirror_mode": {
    "name": "ipython",
    "version": 3
   },
   "file_extension": ".py",
   "mimetype": "text/x-python",
   "name": "python",
   "nbconvert_exporter": "python",
   "pygments_lexer": "ipython3",
   "version": "3.7.7"
  },
  "mimetype": "text/x-python",
  "name": "python",
  "npconvert_exporter": "python",
  "pycharm": {
   "stem_cell": {
    "cell_type": "raw",
    "metadata": {
     "collapsed": false
    },
    "source": []
   }
  },
  "pygments_lexer": "ipython3",
  "version": 3
 },
 "nbformat": 4,
 "nbformat_minor": 2
}
