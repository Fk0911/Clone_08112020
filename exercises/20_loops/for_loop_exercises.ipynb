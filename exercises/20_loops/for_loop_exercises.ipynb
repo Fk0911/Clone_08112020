{
 "cells": [
  {
   "cell_type": "markdown",
   "metadata": {},
   "source": [
    "# Übungsaufgaben zu Schleifen\n",
    "In folgender Tabelle finden Sie eine Reihe von Übungsaufgaben zum Themenblock Schleifen in Python. Starten Sie mit einer der Aufgabe in der Stufe 1....\n",
    "\n",
    "## Hilfe\n",
    "Eine detaillierte Beschreibung der `while`-Schleife finden Sie [hier](./for_loop.ipynb).<br>\n",
    "Eine detaillierte Beschreibung der `for`-Schleife finden Sie [hier](././for_loop.ipynb)."
   ]
  },
  {
   "source": [
    "| Übungsaufgaben | Stufe 1 | Stufe 2 | Stufe 3 | Stufe 4 | Stufe 5 |\n",
    " |:----------|:--------|:--------|:--------|:--------|:--------|\n",
    " | Gruppe 1 | 🥉 [viel Unterstützung](./group_1_level_1_75.ipynb) <br>🥈 [wenig Unterstützung](./group_1_level_1_25.ipynb) <br> 🥇 [keine Unterstützung](./group_1_level_1.ipynb) <br> &#9989; [Worked-out example](./group_1_level_1_100.ipynb) | 🥉 [viel Unterstützung](./group_1_level_2_75.ipynb) <br>🥈 [wenig Unterstützung](./group_1_level_2_25.ipynb) <br>🥇 [keine Unterstützung](./group_1_level_2.ipynb) <br> &#9989; [Worked-out example](./group_1_level_2_100.ipynb) | 🥉 [viel Unterstützung](./group_1_level_3_75.ipynb) <br>🥈 [wenig Unterstützung](./group_1_level_3_25.ipynb) <br>🥇 [keine Unterstützung](./group_1_level_3.ipynb) | 🥉 [viel Unterstützung](./group_1_level_4_75.ipynb) <br>🥈 [wenig Unterstützung](./group_1_level_4_25.ipynb) <br>🥇 [keine Unterstützung](./group_1_level_4.ipynb)  | 🥉 [viel Unterstützung](./group_1_level_5_75.ipynb) <br>🥈 [wenig Unterstützung](./group_1_level_5_25.ipynb) <br>🥇 [keine Unterstützung](./group_1_level_5.ipynb)  |\n",
    " | Gruppe 2 | 🥉 [viel Unterstützung](./group_2_level_1_75.ipynb) <br>🥈 [wenig Unterstützung](./group_2_level_1_25.ipynb) <br> 🥇 [keine Unterstützung](./group_2_level_1.ipynb) | 🥉 [viel Unterstützung](./group_2_level_2_75.ipynb) <br>🥈 [wenig Unterstützung](./group_2_level_2_25.ipynb) <br>🥇 [keine Unterstützung](./group_2_level_2.ipynb) | 🥉 [viel Unterstützung](./group_2_level_3_75.ipynb) <br>🥈 [wenig Unterstützung](./group_2_level_3_25.ipynb) <br>🥇 [keine Unterstützung](./group_2_level_3.ipynb) | 🥉 [viel Unterstützung](./group_2_level_4_75.ipynb) <br>🥈 [wenig Unterstützung](./group_2_level_4_25.ipynb) <br>🥇 [keine Unterstützung](./group_2_level_4.ipynb)  | 🥉 [viel Unterstützung](./group_2_level_5_75.ipynb) <br>🥈 [wenig Unterstützung](./group_2_level_5_25.ipynb) <br>🥇 [keine Unterstützung](./group_2_level_5.ipynb)  |\n",
    "  | Gruppe 3 | 🥉 [viel Unterstützung](./group_3_level_1_75.ipynb) <br>🥈 [wenig Unterstützung](./group_3_level_1_25.ipynb) <br> 🥇 [keine Unterstützung](./group_3_level_1.ipynb) | 🥉 [viel Unterstützung](./group_3_level_2_75.ipynb) <br>🥈 [wenig Unterstützung](./group_3_level_2_25.ipynb) <br>🥇 [keine Unterstützung](./group_3_level_2.ipynb) | 🥉 [viel Unterstützung](./group_3_level_3_75.ipynb) <br>🥈 [wenig Unterstützung](./group_3_level_3_25.ipynb) <br>🥇 [keine Unterstützung](./group_3_level_3.ipynb) | 🥉 [viel Unterstützung](./group_3_level_4_75.ipynb) <br>🥈 [wenig Unterstützung](./group_3_level_4_25.ipynb) <br>🥇 [keine Unterstützung](./group_3_level_4.ipynb)  | 🥉 [viel Unterstützung](./group_3_level_5_75.ipynb) <br>🥈 [wenig Unterstützung](./group_3_level_5_25.ipynb) <br>🥇 [keine Unterstützung](./group_3_level_5.ipynb)  |\n",
    "  | Gruppe 4 | 🥉 [viel Unterstützung](./group_4_level_1_75.ipynb) <br>🥈 [wenig Unterstützung](./group_4_level_1_25.ipynb) <br> 🥇 [keine Unterstützung](./group_4_level_1.ipynb) | 🥉 [viel Unterstützung](./group_4_level_2_75.ipynb) <br>🥈 [wenig Unterstützung](./group_4_level_2_25.ipynb) <br>🥇 [keine Unterstützung](./group_4_level_2.ipynb) | 🥉 [viel Unterstützung](./group_4_level_3_75.ipynb) <br>🥈 [wenig Unterstützung](./group_4_level_3_25.ipynb) <br>🥇 [keine Unterstützung](./group_4_level_3.ipynb) | 🥉 [viel Unterstützung](./group_4_level_4_75.ipynb) <br>🥈 [wenig Unterstützung](./group_4_level_4_25.ipynb) <br>🥇 [keine Unterstützung](./group_4_level_4.ipynb)  | 🥉 [viel Unterstützung](./group_4_level_5_75.ipynb) <br>🥈 [wenig Unterstützung](./group_4_level_5_25.ipynb) <br>🥇 [keine Unterstützung](./group_4_level_5.ipynb)  |\n",
    "  | Gruppe 5 | 🥉 [viel Unterstützung](./group_5_level_1_75.ipynb) <br>🥈 [wenig Unterstützung](./group_5_level_1_25.ipynb) <br> 🥇 [keine Unterstützung](./group_5_level_1.ipynb) | 🥉 [viel Unterstützung](./group_5_level_2_75.ipynb) <br>🥈 [wenig Unterstützung](./group_5_level_2_25.ipynb) <br>🥇 [keine Unterstützung](./group_5_level_2.ipynb) | 🥉 [viel Unterstützung](./group_5_level_3_75.ipynb) <br>🥈 [wenig Unterstützung](./group_5_level_3_25.ipynb) <br>🥇 [keine Unterstützung](./group_5_level_3.ipynb) | \n",
    "  | Gruppe 6 | 🥉 [viel Unterstützung](./group_6_level_1_75.ipynb) <br>🥈 [wenig Unterstützung](./group_6_level_1_25.ipynb) <br> 🥇 [keine Unterstützung](./group_6_level_1.ipynb) | 🥉 [viel Unterstützung](./group_6_level_2_75.ipynb) <br>🥈 [wenig Unterstützung](./group_6_level_2_25.ipynb) <br>🥇 [keine Unterstützung](./group_6_level_2.ipynb) | 🥉 [viel Unterstützung](./group_6_level_3_75.ipynb) <br>🥈 [wenig Unterstützung](./group_6_level_3_25.ipynb) <br>🥇 [keine Unterstützung](./group_6_level_3.ipynb) | 🥉 [viel Unterstützung](./group_6_level_4_75.ipynb) <br>🥈 [wenig Unterstützung](./group_6_level_4_25.ipynb) <br>🥇 [keine Unterstützung](./group_6_level_4.ipynb)  | 🥉 [viel Unterstützung](./group_6_level_5_75.ipynb) <br>🥈 [wenig Unterstützung](./group_6_level_5_25.ipynb) <br>🥇 [keine Unterstützung](./group_6_level_5.ipynb)  |\n",
    "  | Gruppe 7 | 🥉 [viel Unterstützung](./group_7_level_1_75.ipynb) <br>🥈 [wenig Unterstützung](./group_7_level_1_25.ipynb) <br> 🥇 [keine Unterstützung](./group_7_level_1.ipynb) | 🥉 [viel Unterstützung](./group_7_level_2_75.ipynb) <br>🥈 [wenig Unterstützung](./group_7_level_2_25.ipynb) <br>🥇 [keine Unterstützung](./group_7_level_2.ipynb) |\n",
    "  | Gruppe 8 | 🥉 [viel Unterstützung](./group_8_level_1_75.ipynb) <br>🥈 [wenig Unterstützung](./group_8_level_1_25.ipynb) <br> 🥇 [keine Unterstützung](./group_8_level_1.ipynb) | 🥉 [viel Unterstützung](./group_8_level_2_75.ipynb) <br>🥈 [wenig Unterstützung](./group_8_level_2_25.ipynb) <br>🥇 [keine Unterstützung](./group_8_level_2.ipynb) | 🥉 [viel Unterstützung](./group_8_level_3_75.ipynb) <br>🥈 [wenig Unterstützung](./group_8_level_3_25.ipynb) <br>🥇 [keine Unterstützung](./group_8_level_3.ipynb) |\n",
    "\n",
    "\n"
   ],
   "cell_type": "markdown",
   "metadata": {}
  }
 ],
 "metadata": {
  "file_extension": ".py",
  "kernelspec": {
   "display_name": "Python 3",
   "language": "python",
   "name": "python3"
  },
  "language_info": {
   "codemirror_mode": {
    "name": "ipython",
    "version": 3
   },
   "file_extension": ".py",
   "mimetype": "text/x-python",
   "name": "python",
   "nbconvert_exporter": "python",
   "pygments_lexer": "ipython3",
   "version": "3.7.1"
  },
  "mimetype": "text/x-python",
  "name": "python",
  "npconvert_exporter": "python",
  "pycharm": {
   "stem_cell": {
    "cell_type": "raw",
    "metadata": {
     "collapsed": false
    },
    "source": []
   }
  },
  "pygments_lexer": "ipython3",
  "version": 3
 },
 "nbformat": 4,
 "nbformat_minor": 2
}