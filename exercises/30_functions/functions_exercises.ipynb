{
 "cells": [
  {
   "cell_type": "markdown",
   "metadata": {},
   "source": [
    "# Übungsaufgaben zu Funktionen\n",
    "In folgender Tabelle finden Sie eine Reihe von Übungsaufgaben zum Themenblock Funktionen in Python. Starten Sie mit einer der Aufgabe in der Stufe 1....\n",
    "\n",
    "## Hilfe\n",
    "Eine detaillierte Beschreibung der `Funktionen` finden Sie [hier](./functions.ipynb)."
   ]
  },
  {
   "source": [
    "| Übungsaufgaben | Stufe 1 | Stufe 2 | Stufe 3 | Stufe 4 | Stufe 5 |\n",
    " |:----------|:--------|:--------|:--------|:--------|:--------|\n",
    " | Gruppe 1 | 🥉 [viel Unterstützung](./group_1_level_1_75.ipynb) <br>🥈 [wenig Unterstützung](./group_1_level_1_25.ipynb) <br> 🥇 [keine Unterstützung](./group_1_level_1.ipynb) | 🥉 [viel Unterstützung](./group_1_level_2_75.ipynb) <br>🥈 [wenig Unterstützung](./group_1_level_2_25.ipynb) <br>🥇 [keine Unterstützung](./group_1_level_2.ipynb) | 🥉 [viel Unterstützung](./group_1_level_3_75.ipynb) <br>🥈 [wenig Unterstützung](./group_1_level_3_25.ipynb) <br>🥇 [keine Unterstützung](./group_1_level_3.ipynb) | 🥉 [viel Unterstützung](./group_1_level_4_75.ipynb) <br>🥈 [wenig Unterstützung](./group_1_level_4_25.ipynb) <br>🥇 [keine Unterstützung](./group_1_level_4.ipynb)  | 🥉 [viel Unterstützung](./group_1_level_5_75_.ipynb) <br>🥈 [wenig Unterstützung](./group_1_level_5_25.ipynb) <br>🥇 [keine Unterstützung](./group_1_Level_5.ipynb)  |\n",
    " | Gruppe 2 | 🥉 [viel Unterstützung](./group_2_level_1_75.ipynb) <br>🥈 [wenig Unterstützung](./group_2_level_1_25.ipynb) <br> 🥇 [keine Unterstützung](./group_2_level_1.ipynb) | 🥉 [viel Unterstützung](./group_2_level_2_75.ipynb) <br>🥈 [wenig Unterstützung](./group_2_level_2_25.ipynb) <br>🥇 [keine Unterstützung](./group_2_level_2.ipynb) | 🥉 [viel Unterstützung](./group_2_level_3_75.ipynb) <br>🥈 [wenig Unterstützung](./group_2_level_3_25.ipynb) <br>🥇 [keine Unterstützung](./group_2_level_3.ipynb) | 🥉 [viel Unterstützung](./group_2_level_4_75.ipynb) <br>🥈 [wenig Unterstützung](./group_2_level_4_25.ipynb) <br>🥇 [keine Unterstützung](./group_2_level_4.ipynb)  | 🥉 [viel Unterstützung](./group_2_level_5_75_.ipynb) <br>🥈 [wenig Unterstützung](./group_2_level_5_25.ipynb) <br>🥇 [keine Unterstützung](./group_2_Level_5.ipynb)  |\n",
    "  | Gruppe 3 | 🥉 [viel Unterstützung](./group_3_level_1_75.ipynb) <br>🥈 [wenig Unterstützung](./group_3_level_1_25.ipynb) <br> 🥇 [keine Unterstützung](./group_3_level_1.ipynb) | 🥉 [viel Unterstützung](./group_3_level_2_75.ipynb) <br>🥈 [wenig Unterstützung](./group_3_level_2_25.ipynb) <br>🥇 [keine Unterstützung](./group_3_level_2.ipynb) | 🥉 [viel Unterstützung](./group_3_level_3_75.ipynb) <br>🥈 [wenig Unterstützung](./group_3_level_3_25.ipynb) <br>🥇 [keine Unterstützung](./group_3_level_3.ipynb) | 🥉 [viel Unterstützung](./group_3_level_4_75.ipynb) <br>🥈 [wenig Unterstützung](./group_3_level_4_25.ipynb) <br>🥇 [keine Unterstützung](./group_3_level_4.ipynb)  | 🥉 [viel Unterstützung](./group_3_level_5_75_.ipynb) <br>🥈 [wenig Unterstützung](./group_3_level_5_25.ipynb) <br>🥇 [keine Unterstützung](./group_3_Level_5.ipynb)  |\n",
    "  | Gruppe 4 | 🥉 [viel Unterstützung](./group_4_level_1_75.ipynb) <br>🥈 [wenig Unterstützung](./group_4_level_1_25.ipynb) <br> 🥇 [keine Unterstützung](./group_4_level_1.ipynb) | 🥉 [viel Unterstützung](./group_4_level_2_75.ipynb) <br>🥈 [wenig Unterstützung](./group_4_level_2_25.ipynb) <br>🥇 [keine Unterstützung](./group_4_level_2.ipynb) | 🥉 [viel Unterstützung](./group_4_level_3_75.ipynb) <br>🥈 [wenig Unterstützung](./group_4_level_3_25.ipynb) <br>🥇 [keine Unterstützung](./group_4_level_3.ipynb) | 🥉 [viel Unterstützung](./group_4_level_4_75.ipynb) <br>🥈 [wenig Unterstützung](./group_4_level_4_25.ipynb) <br>🥇 [keine Unterstützung](./group_4_level_4.ipynb)  | 🥉 [viel Unterstützung](./group_4_level_5_75_.ipynb) <br>🥈 [wenig Unterstützung](./group_4_level_5_25.ipynb) <br>🥇 [keine Unterstützung](./group_4_Level_5.ipynb)  |\n",
    "  \n",
    "\n",
    "\n"
   ],
   "cell_type": "markdown",
   "metadata": {}
  }
 ],
 "metadata": {
  "file_extension": ".py",
  "kernelspec": {
   "display_name": "Python 3",
   "language": "python",
   "name": "python3"
  },
  "language_info": {
   "codemirror_mode": {
    "name": "ipython",
    "version": 3
   },
   "file_extension": ".py",
   "mimetype": "text/x-python",
   "name": "python",
   "nbconvert_exporter": "python",
   "pygments_lexer": "ipython3",
   "version": "3.7.2"
  },
  "mimetype": "text/x-python",
  "name": "python",
  "npconvert_exporter": "python",
  "pygments_lexer": "ipython3",
  "version": 3
 },
 "nbformat": 4,
 "nbformat_minor": 2
}