{
 "cells": [
  {
   "cell_type": "markdown",
   "metadata": {
    "nbgrader": {
     "grade": false,
     "grade_id": "cell-834e472684f0c2e4",
     "locked": true,
     "schema_version": 1,
     "solution": false
    }
   },
   "source": [
    "<div class=\"alert alert-block alert-warning\">\n",
    "\n",
    "# Aufgabe 3\n",
    "\n",
    "Es soll ein Programm zur automatischen Bewertung mehrerer Konten implementiert werden. So sollen aus einer Liste mehrerer Konten alle herausgefiltert werden, deren Kontostand negativ ist.  \n",
    "\n",
    "Implementieren Sie nun die Funktion `analyse_accounts`. Diese Funktion erhält als Parameter eine Liste `accounts`. Diese Liste besteht allerding aus mehreren Listen. So ist jedes Element der Liste `accounts` eine Liste bestehend aus dem Kontonamen als erstem Wert, gefolgt von dem Kontostand als zweitem Wert. Die Liste sieht also in etwa so aus: `[[\"Kasse\", +330], [\"Immobilien\", +25000], [\"Fuhrpark\", -16500]]`.  \n",
    "\n",
    "Als Ergebnis soll eine Liste mit nur den negativen Einträgen zurückgegeben werden. Ergebnis für obiges Beispiel wäre also: `[[\"Fuhrpark\", -16500]]`\n",
    "</div>\n",
    "<div class=\"alert alert-block alert-info\">\n",
    "\n",
    "### Hilfe\n",
    "Sie können Ihre Lösung mit den automatisierten [Tests](#Automatische-Tests) weiter unten im Dokument überprüfen.<br>\n",
    "Eine Einführung in die `For-Schleifen` in Python finden Sie [hier](../../50_loops/for_loop.ipynb).\n",
    "</div>"
   ]
  },
  {
   "cell_type": "code",
   "execution_count": 1,
   "metadata": {
    "nbgrader": {
     "grade": false,
     "grade_id": "cell-6c46c6f9957c625c",
     "locked": false,
     "schema_version": 1,
     "solution": true
    }
   },
   "outputs": [],
   "source": [
    "\n",
    "    \n",
    "    negative_accounts = []\n",
    "    for # durchlaufe alle accounts:\n",
    "        if #Prüfe ob der Kontostand negativ ist:\n",
    "            negative_accounts.append(account)\n",
    "    \n",
    "    "
   ]
  },
  {
   "cell_type": "markdown",
   "metadata": {
    "nbgrader": {
     "grade": false,
     "grade_id": "cell-5909ecae4711758d",
     "locked": true,
     "schema_version": 1,
     "solution": false
    }
   },
   "source": [
    "  ***\n",
    "  # Automatische Tests\n",
    "  Ab hier finden Sie einige automatisierte Tests um Ihre Lösungen zu überprüfen. Um Ihre Lösung zu prüfen führen Sie bitte zuerst die Zelle mit Ihrer Lösung und danach die Zelle mit dem zugehörigen Test aus.\n"
   ]
  },
  {
   "cell_type": "code",
   "execution_count": null,
   "metadata": {},
   "outputs": [],
   "source": [
    "import sys\n",
    "sys.path.append(\"../..\")\n",
    "from nose.tools import assert_equal, assert_not_equal\n",
    "from utils import * \n",
    "\n",
    "try:\n",
    "    accounts = [[\"Kasse\", +330], [\"Immobilien\", +25000], [\"Fuhrpark\", -16500]]\n",
    "    Erg = analyse_accounts(accounts)\n",
    "    expected_out = [[\"Fuhrpark\", -16500]]\n",
    "    assert_equal(Erg, expected_out)\n",
    "    print(\"[OK] Die negativen Einträge wurden korrekt zurückgegeben!\")\n",
    "except AssertionError as e:\n",
    "    print(\"[FEHLER] Es wurde\",Erg ,\"als negative Einträge erkannt, obwohl \", expected_out, \"die negativen Einträge sind.\")\n",
    "    print(\"       \",e)\n",
    "except Exception as e:\n",
    "    print(\"[FEHLER]\", friendly_exceptions.msg(e))\n",
    "\n",
    "try:\n",
    "    accounts = [[\"Kasse\", -330], [\"Immobilien\", -25000], [\"Fuhrpark\", -16500]]\n",
    "    Erg = analyse_accounts(accounts)\n",
    "    expected_out = [[\"Kasse\", -330], [\"Immobilien\", -25000], [\"Fuhrpark\", -16500]]\n",
    "    assert_equal(Erg, expected_out)\n",
    "    print(\"[OK] Die negativen Einträge wurden korrekt zurückgegeben!\")\n",
    "except AssertionError as e:\n",
    "    print(\"[FEHLER] Es wurde\",Erg ,\"als negative Einträge erkannt, obwohl \", expected_out, \"die negativen Einträge sind.\")\n",
    "    print(\"       \",e)\n",
    "except Exception as e:\n",
    "    print(\"[FEHLER]\", friendly_exceptions.msg(e))\n",
    "\n",
    "try:\n",
    "    accounts = [[\"Kasse\", -330], [\"Immobilien\", +25000], [\"Fuhrpark\", +16500], [\"Lager\", -200]]\n",
    "    Erg = analyse_accounts(accounts)\n",
    "    expected_out = [[\"Kasse\", -330], [\"Lager\", -200]]\n",
    "    assert_equal(Erg, expected_out)\n",
    "    print(\"[OK] Die negativen Einträge wurden korrekt zurückgegeben!\")\n",
    "except AssertionError as e:\n",
    "    print(\"[FEHLER] Es wurde\",Erg ,\"als negative Einträge erkannt, obwohl \", expected_out, \"die negativen Einträge sind.\")\n",
    "    print(\"       \",e)\n",
    "except Exception as e:\n",
    "    print(\"[FEHLER]\", friendly_exceptions.msg(e))"
   ]
  }
 ],
 "metadata": {
  "celltoolbar": "Create Assignment",
  "file_extension": ".py",
  "kernelspec": {
   "display_name": "Python 3",
   "language": "python",
   "name": "python3"
  },
  "language_info": {
   "codemirror_mode": {
    "name": "ipython",
    "version": 3
   },
   "file_extension": ".py",
   "mimetype": "text/x-python",
   "name": "python",
   "nbconvert_exporter": "python",
   "pygments_lexer": "ipython3",
   "version": "3.7.2"
  },
  "mimetype": "text/x-python",
  "name": "python",
  "npconvert_exporter": "python",
  "pygments_lexer": "ipython3",
  "version": 3
 },
 "nbformat": 4,
 "nbformat_minor": 2
}