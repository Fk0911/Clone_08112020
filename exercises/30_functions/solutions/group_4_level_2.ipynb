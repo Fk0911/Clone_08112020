{
 "cells": [
  {
   "source": [
    "<div class=\"alert alert-block alert-warning\">\n",
    "\n",
    "# Aufgabe 2\n",
    "\n",
    "Sie arbeiten bei einem Energiekonzern. Sie sollen ein Programm entwickeln, welches eine Liste an Messständen der Stromzähler entgegennimmt und am Ende die Kosten für den Verbrauchten Strom ausgibt. Die Kosten pro KWH ist immer der letzte Eintrag vom array des Stromzählers. Um den Stromverbrauch auszurechnen müssen Sie den array aufsummieren. Achten Sie darauf, alle Einträge des Arrays aufzusummieren, jedoch nicht den letzten Eintrag.\n",
    "\n",
    "</div>\n",
    "<div class=\"alert alert-block alert-info\">\n",
    "\n",
    "### Hilfe\n",
    "\n",
    "1. Nutzen sie die Funktion len() aus der Standartbibliothek. (Falls Sie diese nicht kennen nutzen Sie die Dokumentation.)\n",
    "2. Die Länge eines arrays ist ungleich der position des letzten Eintrags.\n",
    "\n",
    "</div>"
   ],
   "cell_type": "markdown",
   "metadata": {}
  },
  {
   "cell_type": "code",
   "execution_count": null,
   "metadata": {},
   "outputs": [],
   "source": [
    "def Strom_Kosten(Stromzaehler_staende):\n",
    "###START\n",
    "    Kosten = 0\n",
    "    for x in range(0,len(Stromzaehler_staende) - 1):\n",
    "        Kosten += Stromzaehler_staende[x]\n",
    "    Kosten = Kosten * Stromzaehler_staende[len(Stromzaehler_staende)- 1]\n",
    "    return Kosten\n",
    "###ENDE"
   ]
  },
  {
   "cell_type": "markdown",
   "metadata": {},
   "source": [
    "***\n",
    "  # Automatische Tests\n",
    "  Ab hier finden Sie einige automatisierte Tests um Ihre Lösungen zu überprüfen. Um Ihre Lösung zu prüfen führen Sie bitte zuerst die Zelle mit Ihrer Lösung und danach die Zelle mit dem zugehörigen Test aus."
   ]
  },
  {
   "cell_type": "code",
   "execution_count": null,
   "metadata": {
    "tags": []
   },
   "outputs": [],
   "source": [
    "import sys\n",
    "sys.path.append(\"../..\")\n",
    "from nose.tools import assert_equal, assert_not_equal\n",
    "from utils import * \n",
    "\n",
    "Strom1 = []\n",
    "Strom2 = []\n",
    "Strom3 = []\n",
    "for x in range(0,365):\n",
    "    Strom1.append(int(x*x/100 + x)) \n",
    "    Strom2.append(int(x/10 * x))\n",
    "    Strom3.append(int(x * x))\n",
    "Strom1.append(0.3)\n",
    "Strom2.append(0.1)\n",
    "Strom3.append(0.05)\n",
    "\n",
    "\n",
    "try:\n",
    "    Erg = Strom_Kosten(Strom1)\n",
    "    expected_out = 68312.4\n",
    "    assert_equal(Erg, expected_out)\n",
    "    print(\"[OK] Stromkosten von\", Erg ,\"in Ordnung!\")\n",
    "except AssertionError as e:\n",
    "    print(\"[FEHLER] Stromkosten von\", Erg ,\"sollten \", expected_out ,\"sein.\")\n",
    "    print(\"       \",e)\n",
    "except Exception as e:\n",
    "    print(\"[FEHLER]\", friendly_exceptions.msg(e))\n",
    "\n",
    "try:\n",
    "    Erg = Strom_Kosten(Strom2)\n",
    "    expected_out = 161408.5\n",
    "    assert_equal(Erg, expected_out)\n",
    "    print(\"[OK] Stromkosten von\", Erg ,\"in Ordnung!\")\n",
    "except AssertionError as e:\n",
    "    print(\"[FEHLER] Stromkosten von\", Erg ,\"sollten \", expected_out ,\"sein.\")\n",
    "    print(\"       \",e)\n",
    "except Exception as e:\n",
    "    print(\"[FEHLER]\", friendly_exceptions.msg(e))\n",
    "\n",
    "try:\n",
    "    Erg = Strom_Kosten(Strom3)\n",
    "    expected_out = 807124.5\n",
    "    assert_equal(Erg, expected_out)\n",
    "    print(\"[OK] Stromkosten von\", Erg ,\"in Ordnung!\")\n",
    "except AssertionError as e:\n",
    "    print(\"[FEHLER] Stromkosten von\", Erg ,\"sollten \", expected_out ,\"sein.\")\n",
    "    print(\"       \",e)\n",
    "except Exception as e:\n",
    "    print(\"[FEHLER]\", friendly_exceptions.msg(e))"
   ]
  },
  {
   "cell_type": "code",
   "execution_count": null,
   "metadata": {},
   "outputs": [],
   "source": []
  }
 ],
 "metadata": {
  "language_info": {
   "codemirror_mode": {
    "name": "ipython",
    "version": 3
   },
   "file_extension": ".py",
   "mimetype": "text/x-python",
   "name": "python",
   "nbconvert_exporter": "python",
   "pygments_lexer": "ipython3",
   "version": "3.8.5-final"
  },
  "orig_nbformat": 2,
  "kernelspec": {
   "name": "Python 3.8.5 32-bit",
   "display_name": "Python 3.8.5 32-bit",
   "metadata": {
    "interpreter": {
     "hash": "7987c57931f2365761dc2a5f85e647decf73af6edff0c78918b92bfe7c5512ba"
    }
   }
  }
 },
 "nbformat": 4,
 "nbformat_minor": 2
}