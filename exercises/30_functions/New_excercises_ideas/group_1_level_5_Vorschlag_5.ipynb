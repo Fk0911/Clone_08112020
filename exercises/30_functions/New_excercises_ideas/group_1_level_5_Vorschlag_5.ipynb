{
 "cells": [
  {
   "source": [
    "<div class=\"alert alert-block alert-warning\">\n",
    "\n",
    "# Aufgabe 4\n",
    "\n",
    "Sie sind angestellter bei einem Speditionsunternehmen. Sie sollen ein Tool entwickeln, welches ein Element im Lager verstaut. Hieru sollen Sie zuerst schauen, ob die Nummer des einzulagernden Gegenstandes schon vorhanden ist. Falls dies so ist, erhöhen Sie den Bestand. Falls dieses Produkt noch nicht vorhanden ist, fügen Sie einen neuen Lagerplatz hinzu. Damit die IT-Abteilung Ihr Programm aktzeptiert, muss die Such-Funktion seperat von der Einlagerungs-Funktion sein. Die Such-Funktion soll hierbei -1 zurcükgeben wenn noch kein Lagerplatz vorhanden ist und die jeweilige Position, wenn ein Lagerplatz vorhanden ist.\n",
    "</div>\n",
    "<div class=\"alert alert-block alert-info\">\n",
    "\n",
    "### Hilfe\n",
    "\n",
    "1. Das Lager ist ein Array und wird daher ab 0 gezählt.\n",
    "2. Nutzen Sie die array.append() Funktion.\n",
    "3. Es handelt sich um ein zweidimensionalen array beim Lager. Dieser hat an erster Stelle die Artikelnummer und an zweiter die Menge.\n",
    "4. Um alle Elemente eines Arrays zu adressieren benutzten sie range(0,len(Lager)).\n",
    "</div>"
   ],
   "cell_type": "markdown",
   "metadata": {}
  },
  {
   "cell_type": "code",
   "execution_count": null,
   "metadata": {},
   "outputs": [],
   "source": [
    "###BEGIN SOLUTION\n",
    "def Search_Lager(Lager,Artikelnummer,Menge):\n",
    "    for x in range(0,len(Lager)):\n",
    "        if(Lager[x][0] == Artikelnummer):\n",
    "            return x\n",
    "    return -1\n",
    "def Einlagern(Lager,Artikelnummer,Menge):\n",
    "    Ergebnis = Search_Lager(Lager,Artikelnummer,Menge)\n",
    "    if(Ergebnis == -1):\n",
    "        Lager.append([Artikelnummer,Menge])\n",
    "    else:\n",
    "        Lager[Ergebnis][1] += Menge\n",
    "    return Lager\n",
    "###END SOLUTION"
   ]
  },
  {
   "cell_type": "markdown",
   "metadata": {},
   "source": [
    "***\n",
    "  # Automatische Tests\n",
    "  Ab hier finden Sie einige automatisierte Tests um Ihre Lösungen zu überprüfen. Um Ihre Lösung zu prüfen führen Sie bitte zuerst die Zelle mit Ihrer Lösung und danach die Zelle mit dem zugehörigen Test aus."
   ]
  },
  {
   "cell_type": "code",
   "execution_count": null,
   "metadata": {},
   "outputs": [],
   "source": [
    "Lager = []\n",
    "for x in range(0,1000):\n",
    "    List = [int(((x*x)/10)+10*x), x ]\n",
    "    Lager.append(List)\n",
    "Lager = Einlagern(Lager,0,10)\n",
    "Lager = Einlagern(Lager,20,10)\n",
    "if(Lager[0][1] != 10):\n",
    "    print(\"Einlagern funktioniert nicht!\")\n",
    "if(Lager[2][1] != 12):\n",
    "    print(\"Einlagern funktioniert nicht!\")"
   ]
  }
 ],
 "metadata": {
  "language_info": {
   "codemirror_mode": {
    "name": "ipython",
    "version": 3
   },
   "file_extension": ".py",
   "mimetype": "text/x-python",
   "name": "python",
   "nbconvert_exporter": "python",
   "pygments_lexer": "ipython3",
   "version": "3.8.0-final"
  },
  "orig_nbformat": 2,
  "kernelspec": {
   "name": "python38064bitbaef836a98804bf8802a43249a276387",
   "display_name": "Python 3.8.0 64-bit"
  }
 },
 "nbformat": 4,
 "nbformat_minor": 2
}