{
 "cells": [
  {
   "cell_type": "markdown",
   "metadata": {},
   "source": [
    " # How-Tos For for Loops And Ranges\n",
    " ## for Loops\n",
    " * [Processing elements of a string](#Processing-elements-of-a-string)\n",
    " * [Process elements of a list](#Process-elements-of-a-list)\n",
    " * [Leave for loop with break](#Leave-for-loop-with-break)"
   ]
  },
  {
   "cell_type": "markdown",
   "metadata": {},
   "source": [
    " ## Ranges\n",
    " * [Range with end value](#Range-with-end-value)\n",
    " * [Range with start and end values](#Range-with-start-and-end-values)\n",
    " * [Range with start, end and increment values](#Range-with-start,-end-and-increment-values)"
   ]
  },
  {
   "cell_type": "markdown",
   "metadata": {},
   "source": [
    "## Processing elements of a string"
   ]
  },
  {
   "cell_type": "code",
   "execution_count": null,
   "metadata": {},
   "outputs": [],
   "source": [
    "s = \"Hello fellow Python programmer\"\n",
    "for char in s:\n",
    "    print(char)\n",
    "\n",
    "count = 0\n",
    "for char in s:\n",
    "    if char == 'o':\n",
    "        count += 1\n",
    "        \n",
    "print(\"The string contains character 'o' \", count, \" times.\")"
   ]
  },
  {
   "cell_type": "markdown",
   "metadata": {},
   "source": [
    "## Process elements of a list"
   ]
  },
  {
   "cell_type": "code",
   "execution_count": null,
   "metadata": {},
   "outputs": [],
   "source": [
    "records = [\"Leave Home\", \"Rocket to Russia\", \"Road to Ruin\", \"Mondo Bizarro\"]\n",
    "\n",
    "for record in records:\n",
    "    print(\"I am listening to album: \", record)\n"
   ]
  },
  {
   "cell_type": "markdown",
   "metadata": {},
   "source": [
    "## Leave for loop with break"
   ]
  },
  {
   "cell_type": "code",
   "execution_count": null,
   "metadata": {},
   "outputs": [],
   "source": [
    "list1 = [2, 4, 12, 5, 37, 100, 23, 16, 36]\n",
    "for i in list1:\n",
    "    print(i)\n",
    "    if i == 12:\n",
    "        break"
   ]
  },
  {
   "cell_type": "markdown",
   "metadata": {},
   "source": [
    "## Process elements within a range"
   ]
  },
  {
   "cell_type": "code",
   "execution_count": null,
   "metadata": {},
   "outputs": [],
   "source": [
    "for i in range(10):\n",
    "    print(i, i**2, i**3)    \n"
   ]
  },
  {
   "cell_type": "markdown",
   "metadata": {},
   "source": [
    "## Range with end value"
   ]
  },
  {
   "cell_type": "code",
   "execution_count": null,
   "metadata": {},
   "outputs": [],
   "source": [
    "for number in range(10):\n",
    "    print(number)"
   ]
  },
  {
   "cell_type": "markdown",
   "metadata": {},
   "source": [
    "## Range with start and end values"
   ]
  },
  {
   "cell_type": "code",
   "execution_count": null,
   "metadata": {},
   "outputs": [],
   "source": [
    "for number in range(10, 20):\n",
    "    print(number)\n"
   ]
  },
  {
   "cell_type": "markdown",
   "metadata": {},
   "source": [
    "## Range with start, end and increment values"
   ]
  },
  {
   "cell_type": "code",
   "execution_count": null,
   "metadata": {},
   "outputs": [],
   "source": [
    "for number in range(10, 0, -2):\n",
    "    print(number)    "
   ]
  }
 ],
 "metadata": {
  "file_extension": ".py",
  "kernelspec": {
   "display_name": "Python 3",
   "language": "python",
   "name": "python3"
  },
  "language_info": {
   "codemirror_mode": {
    "name": "ipython",
    "version": 3
   },
   "file_extension": ".py",
   "mimetype": "text/x-python",
   "name": "python",
   "nbconvert_exporter": "python",
   "pygments_lexer": "ipython3",
   "version": "3.7.6"
  },
  "mimetype": "text/x-python",
  "name": "python",
  "npconvert_exporter": "python",
  "pygments_lexer": "ipython3",
  "version": 3
 },
 "nbformat": 4,
 "nbformat_minor": 2
}