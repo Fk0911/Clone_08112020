{
 "cells": [
  {
   "cell_type": "markdown",
   "metadata": {},
   "source": [
    "# While Loops\n",
    "\n",
    "```python\n",
    "while condition:\n",
    "    command 1\n",
    "    ...\n",
    "    command n\n",
    "```"
   ]
  },
  {
   "cell_type": "code",
   "execution_count": null,
   "metadata": {},
   "outputs": [],
   "source": [
    "i = 0\n",
    "while i < 10:\n",
    "    print(i)\n",
    "    i += 1\n"
   ]
  },
  {
   "cell_type": "code",
   "execution_count": null,
   "metadata": {},
   "outputs": [],
   "source": [
    "top_secret_fort_knox_pin_number = 1234\n",
    "\n",
    "pin = int(input(\"Please enter your PIN: \"))\n",
    "\n",
    "while pin != top_secret_fort_knox_pin_number:\n",
    "    print(\"Unfortunately the PIN was wrong.\")\n",
    "    pin = int(input(\"Please enter PIN (again uggghhh!): \"))\n",
    "\n",
    "print(pin, \"it's right :D \\n enjoy all the fortune\")"
   ]
  },
  {
   "cell_type": "code",
   "execution_count": null,
   "metadata": {},
   "outputs": [],
   "source": [
    "import random\n",
    "\n",
    "secret_number = random.randint(1,100)\n",
    "\n",
    "guessed_number = int(input(\"Please pick a number \"))\n",
    "\n",
    "while guessed_number != secret_number:\n",
    "    if guessed_number < secret_number:\n",
    "        print(\"Too small\")\n",
    "    else: \n",
    "        print(\"Too big\")\n",
    "        \n",
    "    guessed_number = int(input(\"Please pick a number\"))\n",
    "\n",
    "print(\"Correct!\", guessed_number, \" was the number we were looking for.\")"
   ]
  },
  {
   "cell_type": "code",
   "execution_count": null,
   "metadata": {
    "pycharm": {
     "name": "#%%\n"
    }
   },
   "outputs": [],
   "source": [
    "while True:\n",
    "    sleep(30)\n",
    "    print(...)\n",
    "\n"
   ]
  }
 ],
 "metadata": {
  "kernelspec": {
   "display_name": "Python 3",
   "language": "python",
   "name": "python3"
  },
  "language_info": {
   "codemirror_mode": {
    "name": "ipython",
    "version": 3
   },
   "file_extension": ".py",
   "mimetype": "text/x-python",
   "name": "python",
   "nbconvert_exporter": "python",
   "pygments_lexer": "ipython3",
   "version": "3.7.4"
  }
 },
 "nbformat": 4,
 "nbformat_minor": 2
}