{
 "cells": [
  {
   "cell_type": "markdown",
   "metadata": {},
   "source": [
    "# For Loops and Ranges\n",
    "## Requirements\n",
    "This unit assumes that you are familiar with the following content: variables, input, and output, primitive data types,\n",
    "strings, and lists.\n",
    "## For Loops\n",
    "Loops are required in programming to run through a group of instructions numerous times.\n",
    "The Python programming language knows two types of loops, the `while` loop and the` for` loop.\n",
    "The `for` loop is a language element that is very well suited for editing character strings (letter by letter), lists\n",
    "(element by element), or number intervals. Strings, lists, and number intervals are also more commonly referred\n",
    "to as [* sequence *] (https://docs.python.org/3/library/stdtypes.html#sequence-types-list-tuple-range) in Python.\n",
    "Sequences are simply several parts in succession. Letters follow one another in a string, the individual list elements\n",
    "follow one another in a list.\n",
    "\n",
    "When processing a sequence with a `for` loop, one element of the sequence is assigned to a variable in each run.\n",
    "If e.g. a `for` loop is iterating over a string, one character is processed in each loop. What exactly editing means\n",
    "is determined by the instructions in the * loop body *. Just like `if-elif-else`, the loop body is set by indenting it.\n",
    "All instructions are carried out in the loop body. The general syntax of the `for` loop in Python is:\n",
    "```python\n",
    "for Variable in Sequenz:\n",
    "    command_1\n",
    "    command_2\n",
    "    ...\n",
    "    command_n\n",
    "```\n",
    "The following graphic illustrates the execution of a `for` loop\n",
    "![for_loop.png](./img/for_loop_eng.png)\n",
    "### documentation\n",
    "You can find the official Python documentation for the `for` loop [here] (https://docs.python.org/3/tutorial/controlflow.html#for-statements).\n",
    "### examples\n",
    "To e.g. The following Python code can be used to run through a string letter by letter and display each letter."
   ]
  },
  {
   "cell_type": "code",
   "execution_count": null,
   "metadata": {},
   "outputs": [],
   "source": [
    "for char in \"Hello fellow Python programmer \":\n",
    "    print(char)\n"
   ]
  },
  {
   "cell_type": "markdown",
   "metadata": {},
   "source": [
    "You can iterate over a list in the same way:"
   ]
  },
  {
   "cell_type": "code",
   "execution_count": null,
   "metadata": {},
   "outputs": [],
   "source": [
    "list1 = [3, 4, 234, -12, \"abc\", True]\n",
    "for element in list1:\n",
    "    print(element)"
   ]
  },
  {
   "cell_type": "markdown",
   "metadata": {},
   "source": [
    "\n",
    "Of course, it is also possible to combine the `for` loop with other control structures. In the following example,\n",
    "an `if-elif-else` construct is placed in the loop body. Note that the statement block after the `if` has been indented\n",
    "twice! The example counts how often the letter \"o\" occurs in the given string. Something similar to the string\n",
    "method `.count()`."
   ]
  },
  {
   "cell_type": "code",
   "execution_count": null,
   "metadata": {},
   "outputs": [],
   "source": [
    "count = 0\n",
    "for char in \"Hello fellow Python programmer\":\n",
    "    if char == 'o':\n",
    "        count += 1\n",
    "        \n",
    "print(\"The String hast letter 'o'\", count, \" times.\")\n"
   ]
  },
  {
   "cell_type": "markdown",
   "metadata": {},
   "source": [
    "## Task 1\n",
    "Now it's your turn to perform some magic. Write a program that first expects the user to enter a sentence and then a\n",
    "letter. The program is supposed to Output the sentence you entered, removing any occurrence of the letter you typed.\n",
    "\n",
    "The output should look like this (user input for clarification __bold__):\n",
    "> Which sentence should be output? __What a nice bath!__ <br>\n",
    "> Which letter is not? __s__ <br>\n",
    "Wht  nice bth!\n",
    "\n",
    "** Note: ** First read the sentence with input(), then the letter to be deleted. Create an empty string\n",
    "with `result = \"\"`. Then iterate over the letters. If a letter is not the same as the letter to be deleted,\n",
    "add this letter to the result `` result + = letter ''. After the `for` loop, print the variable` result`."
   ]
  },
  {
   "cell_type": "code",
   "execution_count": null,
   "metadata": {},
   "outputs": [],
   "source": [
    "# place magic code here\n"
   ]
  },
  {
   "cell_type": "markdown",
   "metadata": {},
   "source": [
    "# Ranges\n",
    "Python has its data type to represent an interval of numbers. This data type is called\n",
    "[*Range*](https://docs.python.org/3/library/stdtypes.html#ranges).\n",
    "Ranges can be called in Python by calling the Function `range`.\n",
    "The call to the 'range' function in Python is shown in the following code snippet:\n",
    "```python\n",
    "  range([start,] end [,step])\n",
    "  ```\n",
    "\n",
    "The call of the `range` function must contain the end of the interval (parameter` end`). Optional parameters can be\n",
    "passed: the start of the interval (parameter `start`) and the step size (paramteter` step`). A\n",
    "Range that contains the numbers from 0 to 4 can therefore be created with the following function call:\n",
    "```python\n",
    "  range(5) # -> 0 1 2 3 4\n",
    "```\n",
    "\n",
    "Alternatively, an initial value other than 0 can be defined for a range. To do this, the `range` function is called with\n",
    "two parameters. The following function call creates a range in the interval from 10 to 15.\n",
    "```python\n",
    "  range(10,16) # -> 10 11 12 13 14 15\n",
    "```\n",
    "MWith the help of the step size, the spacing of the numbers in the interval can be defined.\n",
    "The step size can be both negative and positive.\n",
    "```python\n",
    "  range(2,12,3) # -> 2 5 8 11\n",
    "  range(20,5,-5) # -> 20 15 10\n",
    "```\n",
    "\n",
    "### documentation\n",
    "You can find the documentation for the `range` function [here] (https://docs.python.org/3/tutorial/controlflow.html#the-range-function).\n",
    "\n",
    "### Ranges and the `for` loop\n",
    "In combination with the `for` loops, ranges can be used to control the number of loop iterations.\n",
    "This is explained in more detail in following examples. This Python code can be used to display the numbers from 0 to 9:"
   ]
  },
  {
   "cell_type": "code",
   "execution_count": null,
   "metadata": {},
   "outputs": [],
   "source": [
    "for number in range(10):\n",
    "    print(number)\n"
   ]
  },
  {
   "cell_type": "markdown",
   "metadata": {},
   "source": [
    "The numbers from 10 to 19 can be displayed as follows:"
   ]
  },
  {
   "cell_type": "code",
   "execution_count": null,
   "metadata": {},
   "outputs": [],
   "source": [
    "for number in range(10, 20):\n",
    "    print(number)\n"
   ]
  },
  {
   "cell_type": "markdown",
   "metadata": {},
   "source": [
    "Last but not least, the step size of the interval represented by the range can also be adjusted.\n",
    "The following Python code gives e.g. all numbers from 10 to 0 in steps of two."
   ]
  },
  {
   "cell_type": "code",
   "execution_count": null,
   "metadata": {},
   "outputs": [],
   "source": [
    "for number in range(10, 0, -2):\n",
    "    print(number)\n"
   ]
  },
  {
   "cell_type": "markdown",
   "metadata": {},
   "source": [
    "## Task 2\n",
    "Now it's your turn again. Write a Python program that expects three natural numbers as input: start, end, and stepsize.\n",
    "The numbers in this range are then displayed with the corresponding stepsize.\n",
    "Note: Remember to convert the inputs to the correct data types."
   ]
  },
  {
   "cell_type": "code",
   "execution_count": null,
   "metadata": {},
   "outputs": [],
   "source": [
    "# place magic code here\n"
   ]
  },
  {
   "cell_type": "markdown",
   "metadata": {},
   "source": [
    "\n",
    "## Task 3\n",
    "Yet another miraculous task: An integer is read in via `input()`.\n",
    "Calculate the sum of all numbers from 1 to the number entered (including the number entered!).\n",
    "Note: You must define a variable **before** the loop (which starting value?) to which the individual numbers in the\n",
    "loop are added.\n",
    "\n",
    "The output should look like this (user input for clarification __bold__):\n",
    "> Up to which number should the total be calculated? __100__ <br>\n",
    "5050"
   ]
  },
  {
   "cell_type": "code",
   "execution_count": null,
   "metadata": {},
   "outputs": [],
   "source": [
    "# place your miraculous code here\n"
   ]
  },
  {
   "cell_type": "markdown",
   "metadata": {},
   "source": [
    "## Task 4 - FizzBuzz\n",
    "Write a program that prints the numbers from 1 to 100.\n",
    "All numbers that are divisible by three should be replaced by \"Fizz\" and all numbers that are divisible by 5 should be replaced by \"Buzz\".\n",
    "Numbers that are divisible by 3 and 5 are replaced by \"FizzBuzz\".\n",
    "Note: You can check the divisibility with the modulo operator `%`.\n",
    "The output of the function should look like this:\n",
    ">1  <br>\n",
    "2  <br>\n",
    "Fizz  <br>\n",
    "4  <br>\n",
    "Buzz  <br>\n",
    "Fizz  <br>\n",
    "7 <br>\n",
    "...\n"
   ]
  },
  {
   "cell_type": "code",
   "execution_count": null,
   "metadata": {
    "scrolled": true
   },
   "outputs": [],
   "source": []
  },
  {
   "cell_type": "markdown",
   "metadata": {},
   "source": [
    "## Task 5 - The Little One Once\n",
    "Write a program that prints the numbers of the small one-time one. I.e. the result of the following products: `1 * 1, 1 * 2, 1 * 3, ... 1 * 10, 2 * 1, 2 * 2, ... 2 * 10, 3 * 1, ... 4 * 1, ... 10 * 1, ... 10 * 10`. Note: You need **two** nested loops\n",
    "The result should look like this:\n",
    ">1 <br>\n",
    "2 <br>\n",
    "3 <br>\n",
    ".<br>\n",
    ".<br>\n",
    ".<br>\n",
    "10 <br>\n",
    "2 <br>\n",
    "4 <br>\n",
    ".<br>\n",
    ".<br>\n",
    ".<br>\n",
    "100\n"
   ]
  },
  {
   "cell_type": "code",
   "execution_count": null,
   "metadata": {
    "pycharm": {
     "name": "#%%\n"
    }
   },
   "outputs": [],
   "source": []
  }
 ],
 "metadata": {
  "file_extension": ".py",
  "kernelspec": {
   "display_name": "Python 3",
   "language": "python",
   "name": "python3"
  },
  "language_info": {
   "codemirror_mode": {
    "name": "ipython",
    "version": 3
   },
   "file_extension": ".py",
   "mimetype": "text/x-python",
   "name": "python",
   "nbconvert_exporter": "python",
   "pygments_lexer": "ipython3",
   "version": "3.7.6"
  },
  "mimetype": "text/x-python",
  "name": "python",
  "npconvert_exporter": "python",
  "pygments_lexer": "ipython3",
  "version": 3
 },
 "nbformat": 4,
 "nbformat_minor": 2
}