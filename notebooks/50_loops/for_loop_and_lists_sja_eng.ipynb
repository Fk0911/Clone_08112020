{
 "cells": [
  {
   "cell_type": "markdown",
   "metadata": {},
   "source": [
    "# for loops and lists\n",
    "\n",
    "## Requirements\n",
    "This unit assumes that you are familiar with the following content: variables, input and output, primitive data types,\n",
    "strings, lists, and for-loops with ranges.\n",
    "## `for` loops and lists\n",
    "The `for` loop in connection with lists has already been mentioned briefly.\n",
    "This notebook should deepen the processing with lists by using `for`-loops.\n",
    "It has already been said that lists are sequences therefore are suitable for the `for`-loop.\n",
    "Again as a reminder: Lists consist of several elements in consecutive order in a list.\n",
    "\n",
    "## Create a list\n",
    "\n",
    "### Filling a list with values\n",
    "In the following program, an initially empty list is gradually filled with numbers from a `range`.\n",
    "Modify the program so that the list is filled with the numbers squence 10, 20, ... 100."
   ]
  },
  {
   "cell_type": "code",
   "execution_count": null,
   "metadata": {},
   "outputs": [],
   "source": [
    "list1 = []\n",
    "for i in range(0,10):\n",
    "    list1.append(i)\n",
    "print(list1)"
   ]
  },
  {
   "cell_type": "markdown",
   "metadata": {},
   "source": [
    "### Filling a list with different `inputs()`\n",
    "Instead of the values of the `range`, an` input() `can be imported."
   ]
  },
  {
   "cell_type": "code",
   "execution_count": null,
   "metadata": {},
   "outputs": [],
   "source": [
    "list1 = []\n",
    "for i in range (0,10):\n",
    "    eingabe = input(\"Please enter a value: \")\n",
    "    list1.append(eingabe)\n",
    "print(list1)"
   ]
  },
  {
   "cell_type": "markdown",
   "metadata": {},
   "source": [
    "### Enter an arbitrarily long list of values\n",
    "In the example above, exactly 10 values ​​are always entered.\n",
    "How can the program be adapted so that any number of values ​​can be entered?\n",
    "You can trick a `for` loop. (A `while` loop is more suitable here.)\n",
    "You can leave a loop directly using the `break` statement.\n",
    "This means that the loop body is no longer run through to the end but is broken off directly.\n",
    "In particular, it does not jump back to the loop head but leaves the loop directly.\n",
    "The `break` should always be connected in a loop with an` if` statement.\n",
    "Think for yourself why that otherwise doesn't make much sense ...\n",
    "\n",
    "\n",
    "The following program reads in values ​​until an empty entry is made (i.e. an entry in which the return key (enter key)\n",
    "was pressed directly). The while loop here is more appropriate since the for loop has an upper limit."
   ]
  },
  {
   "cell_type": "code",
   "execution_count": null,
   "metadata": {},
   "outputs": [],
   "source": [
    "list1 = []\n",
    "for i in range(0,1000):\n",
    "    eingabe = input(\"Please enter a value: \")\n",
    "    if eingabe == \"\":\n",
    "        break\n",
    "    list1.append(eingabe)\n",
    "print(list1)"
   ]
  },
  {
   "cell_type": "markdown",
   "metadata": {},
   "source": [
    "## displaying Lists\n",
    "To display elements of lists using the `for` loop use the following example, that has been already introduced:"
   ]
  },
  {
   "cell_type": "code",
   "execution_count": null,
   "metadata": {},
   "outputs": [],
   "source": [
    "list1 = [1, 2, 34, \"ad\", True, 3.456, 34, 2, 1]\n",
    "for element in list1:\n",
    "    print(element)"
   ]
  },
  {
   "cell_type": "markdown",
   "metadata": {},
   "source": [
    "## Edit lists\n",
    "Editing lists is very common in programs. Below are a few examples that deepen the handling of `for` loops with lists.\n",
    "Number lists are always used for the examples.\n",
    "### Find the minimum in a list of numbers.\n",
    "Yes, there is the function `min()`. But if it didn't exist, how could you find the minimum yourself in a list?\n",
    "You step through the list and compare the current number with the minimum found so far.\n",
    "If the current number is smaller than the minimum found so far, the current number becomes the (new) current minimum.\n",
    "When you have reached the end of the list, the current minimum is also the minimum of the entire list.\n",
    "Important: You have to define and initialize the \"current minimum\" as a variable at the beginning.\n",
    "But with what value? If the value is chosen too small and there is no smaller value in the list, then you will end up\n",
    " with an incorrect result. In this case, you can simply initialize with the first value in the list."
   ]
  },
  {
   "cell_type": "code",
   "execution_count": null,
   "metadata": {},
   "outputs": [],
   "source": [
    "# list1 enthält 100 Zufallszahlen zwischen 0 und 1000\n",
    "\n",
    "list1=[342, 185, 782, 847, 590, 556, 745, 430, 988, 832, 463, 803, 326, 511, 551, 928, 588, 820, 201,\n",
    "       269, 346, 57, 823, 693, 2, 688, 190, 505, 841, 389, 957, 354, 81, 909, 230, 977, 103, 445, 706,\n",
    "       932, 472, 218, 293, 442, 385, 200, 179, 852, 919, 402, 200, 753, 521, 501, 986, 366, 720, 342,\n",
    "       443, 456, 360, 770, 584, 85, 250, 209, 374, 363, 140, 107, 898, 658, 519, 622, 798, 298, 593,\n",
    "       983, 394, 200, 575, 790, 586, 604, 185, 95, 583, 301, 681, 754, 866, 141, 589, 749, 749, 708,\n",
    "       68, 458, 465, 507, 567]\n",
    "\n",
    "current_minimum = list1[0]\n",
    "for number in list1:\n",
    "    # Compare current minimum and possibly update it\n",
    "    if number < current_minimum:\n",
    "        current_minimum = number\n",
    "print(\"Minimum of the numbers list is \", current_minimum)\n"
   ]
  },
  {
   "cell_type": "markdown",
   "metadata": {},
   "source": [
    "## Task 1\n",
    "Find the maximum in the following list of numbers **without** using the `max()` function."
   ]
  },
  {
   "cell_type": "code",
   "execution_count": null,
   "metadata": {},
   "outputs": [],
   "source": [
    "# list1 enthält 100 Zufallszahlen zwischen 0 und 1000\n",
    "\n",
    "list1=[342, 185, 782, 847, 590, 556, 745, 430, 988, 832, 463, 803, 326, 511, 551, 928, 588, 820, 201, 269, 346, 57, 823, 693, 2, 688, 190, 505, 841, 389, 957, 354, 81, 909, 230, 977, 103, 445, 706, 932, 472, 218, 293, 442, 385, 200, 179, 852, 919, 402, 200, 753, 521, 501, 986, 366, 720, 342, 443, 456, 360, 770, 584, 85, 250, 209, 374, 363, 140, 107, 898, 658, 519, 622, 798, 298, 593, 983, 394, 200, 575, 790, 586, 604, 185, 95, 583, 301, 681, 754, 866, 141, 589, 749, 749, 708, 68, 458, 465, 507, 567]\n",
    "\n"
   ]
  },
  {
   "cell_type": "markdown",
   "metadata": {},
   "source": [
    "##Filtering Lists\n",
    "The following exercise gives a list of different elements. Those elements have different data types.\n",
    "Create a new list in which only the integer values ​​of the list are found.\n",
    "How to proceed? You need a new list that is initially empty `new_list = []`.\n",
    "Then iterate over the input list and check the data type of each element.\n",
    "If the data type is an integer, the element is appended to the new list.\n",
    "\n",
    "How could the data type be checked? The function `type()` does not help here, since it cannot be queried as a condition.\n",
    "Instead, the function `isinstance(var, class)` helps.\n",
    "In object-orientation, one speaks of instantiation if an instance/object of an abstract class is defined.\n",
    "For example, `student` could be a class, if Peter Müller now enrolls, he (in the software system) becomes an instance\n",
    " of the student class.\n",
    "\n",
    "The data types are classes, each variable is, therefore, an instantiation of a class.\n",
    "The above function can be used to check whether a variable (an object) is an instance of a class.\n",
    "The return value is either `True` or` False`."
   ]
  },
  {
   "cell_type": "code",
   "execution_count": null,
   "metadata": {},
   "outputs": [],
   "source": [
    "# List of 100 random values, all primitive data types are available.\n",
    "list1 = [22.19, True, 'b', 0, 84, 67.31, 'l', 2.1, 93, True, 1, True, 'r', 60.2, 'l', 'a', 92.43, 4.84, 15, '^', 75, False, False, 58, 15.91, 'q', '`', 18, 70.65, 'g', 98.09, 79.49, 65.38, 70, 60, 40, 37, 7.99, True, 'r', False, False, False, 17.75, '_', 0.41, False, 55, True, 31.19, 'a', 'z', 60.29, 44, False, 'i', 'u', 'k', 64.08, True, 88.77, 7.43, 16, 'u', 21, 'r', 23.1, True, 19.96, False, True, 't', 46.85, 'n', 90.85, True, 17, 89, 81.38, False, 35, 7, True, True, 57, True, False, 39.92, 'n', True, 85.59, 'x', 'p', 3.48, False, 92.23, 'j', 'v', False, 6, 6, 17.46]\n",
    "new_list = []\n",
    "for element in list1:\n",
    "    if isinstance(element, int):\n",
    "        new_list.append(element)\n",
    "print(new_list)"
   ]
  },
  {
   "cell_type": "markdown",
   "metadata": {},
   "source": [
    "The first result is not yet satisfying. All boolean values have slipped through. Why? A `false` corresponds to a 0,\n",
    "a` true` to another integer value. The program still has to be adjusted so that the boolean values **are not** copied\n",
    "into the new list."
   ]
  },
  {
   "cell_type": "code",
   "execution_count": null,
   "metadata": {},
   "outputs": [],
   "source": [
    "# List of 100 random values, all primitive data types are available.\n",
    "list1 = [22.19, True, 'b', 0, 84, 67.31, 'l', 2.1, 93, True, 1, True, 'r', 60.2, 'l', 'a', 92.43, 4.84, 15, '^', 75, False, False, 58, 15.91, 'q', '`', 18, 70.65, 'g', 98.09, 79.49, 65.38, 70, 60, 40, 37, 7.99, True, 'r', False, False, False, 17.75, '_', 0.41, False, 55, True, 31.19, 'a', 'z', 60.29, 44, False, 'i', 'u', 'k', 64.08, True, 88.77, 7.43, 16, 'u', 21, 'r', 23.1, True, 19.96, False, True, 't', 46.85, 'n', 90.85, True, 17, 89, 81.38, False, 35, 7, True, True, 57, True, False, 39.92, 'n', True, 85.59, 'x', 'p', 3.48, False, 92.23, 'j', 'v', False, 6, 6, 17.46]\n",
    "\n",
    "new_list = []\n",
    "for element in list1:\n",
    "    if isinstance(element, int) and not isinstance(element, bool):\n",
    "        new_list.append(element)\n",
    "print(new_list)"
   ]
  },
  {
   "cell_type": "markdown",
   "metadata": {},
   "source": [
    "##Sorting Lists\n",
    "Sorting (of lists) is one of the standard problems in computer science.\n",
    "In every computer science course, there is a lecture on algorithms, in which sorting is discussed.\n",
    "\n",
    "How do you sort? Imagine you have a batch with a hundred exams and you are supposed to sort the batch based on student numbers.\n",
    "How do you do that?\n",
    "\n",
    "### Bubblesort\n",
    "A simple and well-known method for sorting is bubble sort.\n",
    "You have a list of numbers and this should be sorted from small to large.\n",
    "Bubblesort goes through the list and compares the two neighboring elements in turn.\n",
    "If they are in the right order, they will stay as they are. If they are in the wrong order, they are swapped.\n",
    "The first time you go through the list, the largest number is at the back. Then repeat the procedure.\n",
    "Now the two largest numbers at the back are in the correct position.\n",
    "If you have performed the procedure n times (n = number of elements in the list), the list is eventually sorted.\n",
    "\n",
    "Small problem: How do you swap the values ​​of two variables? You need a third variable as a buffer!\n",
    "```python\n",
    "a = 5\n",
    "b = 7\n",
    "c = a\n",
    "a = b\n",
    "b = c\n",
    "# a and b are swapped\n",
    "```\n",
    "\n",
    "You need two `for` loops that are nested inside each other. Important:\n",
    "The loops run over the index, not over the elements! The complete list is displayed after each iteration.\n",
    "This serves to make the interim result understandable."
   ]
  },
  {
   "cell_type": "code",
   "execution_count": null,
   "metadata": {},
   "outputs": [],
   "source": [
    "list1 = [98, 49, 60, 13, 62, 43, 92, 24, 9, 39]\n",
    "\n",
    "for i in range(0, len(list1)):\n",
    "    for j in range(0, len(list1)-1):\n",
    "        # Compare the two elements given via the index j and j + 1 and replace if necessary\n",
    "        if list1[j] > list1[j+1]:\n",
    "            interim_result = list1[j]\n",
    "            list1[j] = list1[j+1]\n",
    "            list1[j+1] = interim_result\n",
    "    print(list1)"
   ]
  },
  {
   "cell_type": "markdown",
   "metadata": {},
   "source": [
    "Maybe not all iterations were needed, the result was already known earlier. How long the procedure *really* takes depends on how \"messy\" the list is sorted.\n",
    "Quiz question: Why can the inner loop only run to `len(list1) - 1`? Could you shorten the outer loop by one iteration?"
   ]
  },
  {
   "cell_type": "markdown",
   "metadata": {},
   "source": [
    "## Task 2\n",
    "The list from above is given, with various data types.\n",
    "Write a program that searches the minimum of all numbers (Integers **and** Floats) on this list."
   ]
  },
  {
   "cell_type": "code",
   "execution_count": null,
   "metadata": {},
   "outputs": [],
   "source": [
    "# List of 100 elements of different data types\n",
    "list1 = [22.19, True, 'b', 84, 67.31, 'l', 2.1, 93, True, True, 'r', 60.2, 'l', 'a', 92.43, 4.84, 15, '^', 75, False, False, 58, 15.91, 'q', '`', 18, 70.65, 'g', 98.09, 79.49, 65.38, 70, 60, 40, 37, 7.99, True, 'r', False, False, False, 17.75, '_', 0.41, False, 55, True, 31.19, 'a', 'z', 60.29, 44, False, 'i', 'u', 'k', 64.08, True, 88.77, 7.43, 16, 'u', 21, 'r', 23.1, True, 19.96, False, True, 't', 46.85, 'n', 90.85, True, 17, 89, 81.38, False, 35, 7, True, True, 57, True, False, 39.92, 'n', True, 85.59, 'x', 'p', 3.48, False, 92.23, 'j', 'v', False, 6, 6, 17.46]\n",
    "\n"
   ]
  },
  {
   "cell_type": "markdown",
   "metadata": {},
   "source": [
    "## Task 3\n",
    "Generate from the previous list a new list in which all numbers (integers and floats) are sorted."
   ]
  },
  {
   "cell_type": "code",
   "execution_count": null,
   "metadata": {},
   "outputs": [],
   "source": [
    "# List of 100 elements of different data types\n",
    "list1 = [22.19, True, 'b', 84, 67.31, 'l', 2.1, 93, True, True, 'r', 60.2, 'l', 'a', 92.43, 4.84, 15, '^', 75, False, False, 58, 15.91, 'q', '`', 18, 70.65, 'g', 98.09, 79.49, 65.38, 70, 60, 40, 37, 7.99, True, 'r', False, False, False, 17.75, '_', 0.41, False, 55, True, 31.19, 'a', 'z', 60.29, 44, False, 'i', 'u', 'k', 64.08, True, 88.77, 7.43, 16, 'u', 21, 'r', 23.1, True, 19.96, False, True, 't', 46.85, 'n', 90.85, True, 17, 89, 81.38, False, 35, 7, True, True, 57, True, False, 39.92, 'n', True, 85.59, 'x', 'p', 3.48, False, 92.23, 'j', 'v', False, 6, 6, 17.46]\n",
    "\n"
   ]
  },
  {
   "cell_type": "markdown",
   "metadata": {},
   "source": [
    "## Task 4\n",
    "A more elegant way:\n",
    "Sorting numbers works in many different ways. Implement the following: Search for the Minimum of the source list.\n",
    "The minimum is then appended at the end of a new list with `.append()` and deleted in the source list.\n",
    "The whole process is repeated until the source list is empty. After each round (if the minimum has been moved from the\n",
    "old list to the new list), display both lists for control)."
   ]
  },
  {
   "cell_type": "code",
   "execution_count": null,
   "metadata": {},
   "outputs": [],
   "source": [
    "list1 = [98, 49, 60, 13, 62, 43, 92, 24, 9, 39]\n"
   ]
  },
  {
   "cell_type": "code",
   "execution_count": null,
   "metadata": {},
   "outputs": [],
   "source": []
  }
 ],
 "metadata": {
  "file_extension": ".py",
  "kernelspec": {
   "display_name": "Python 3",
   "language": "python",
   "name": "python3"
  },
  "language_info": {
   "codemirror_mode": {
    "name": "ipython",
    "version": 3
   },
   "file_extension": ".py",
   "mimetype": "text/x-python",
   "name": "python",
   "nbconvert_exporter": "python",
   "pygments_lexer": "ipython3",
   "version": "3.7.6"
  },
  "mimetype": "text/x-python",
  "name": "python",
  "npconvert_exporter": "python",
  "pygments_lexer": "ipython3",
  "version": 3
 },
 "nbformat": 4,
 "nbformat_minor": 2
}