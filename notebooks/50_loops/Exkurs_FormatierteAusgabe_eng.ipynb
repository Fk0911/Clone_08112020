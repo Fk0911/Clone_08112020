{
 "cells": [
  {
   "cell_type": "markdown",
   "metadata": {},
   "source": [
    "# Formatted output with `print()`\n",
    "So far you have used the output with the `print()` function several times. Either with one or with multiple arguments.\n",
    "The output of the function `print()` can still be adjusted to e.g. make it more readable.\n",
    "\n",
    "### Requirements\n",
    "To understand this notebook, you need some familiarity with variables and input/output.\n",
    "You need to be familiar with `for` loops also to accomplish proper exercises.\n",
    "\n",
    "If you look at the output of the next cell, you can see the following properties of `print()`.\n",
    "- You can use different data types (integer, string, ...)\n",
    "- `print()` can be called with one or more arguments. These must be comma-separated.\n",
    "- between two arguments, `print()` always inserts a space in the output\n",
    "- At the end of the output there is always a line break, i.e. the next `print()` always writes on the next line"
   ]
  },
  {
   "cell_type": "code",
   "execution_count": null,
   "metadata": {},
   "outputs": [],
   "source": [
    "x = 10\n",
    "y = 20\n",
    "print(\"Simple output\")\n",
    "print(x, \"is a number\")\n",
    "print(x, \"times\", y, \"is\", x*y)"
   ]
  },
  {
   "cell_type": "markdown",
   "metadata": {},
   "source": [
    "Further conditions are possible:\n",
    "- something other than the space between two arguments (e.g. nothing or a colon or ...)\n",
    "- It should be possible to write two `print()`s in a row on the same line\n",
    "`print()` offers both of these features. The output of `print()` can be controlled by entering parameters.\n",
    "In Jupyter Notebooks you can easily display possible parameters (and other helping statements) for functions\n",
    "by adding the function name (without brackets!) followed by a \"?\", entering it into a cell, and executing it."
   ]
  },
  {
   "cell_type": "code",
   "execution_count": null,
   "metadata": {},
   "outputs": [],
   "source": [
    "print?"
   ]
  },
  {
   "cell_type": "markdown",
   "metadata": {},
   "source": [
    "## The parameters `sep` and` end`\n",
    "With parameters `sep` and` end` exactly this behavior can be achieved.\n",
    "With `sep` you can define the separator, which is the character between the arguments.\n",
    "The default value - the value that is used if nothing else is explicitly stated - is space.\n",
    "With the help of `sep =\". \"`, For example, the point can be chosen as a separator."
   ]
  },
  {
   "cell_type": "code",
   "execution_count": null,
   "metadata": {},
   "outputs": [],
   "source": [
    "print(192, 168, 1, 1, sep=\".\")\n",
    "print(\"abc\", \"def\", \"ghi\", sep=\"\")"
   ]
  },
  {
   "cell_type": "markdown",
   "metadata": {},
   "source": [
    "Similarly, the `end` parameter specifies the character at the end of the output.\n",
    "The default value is the line break (also called Carriage Return). This can be specified with `\\n`.\n",
    "### Excursus in Excursus: Escape Characters\n",
    "To be able to display some special characters in Python, there are so-called escape characters.\n",
    "These are each introduced with a backslash \"\\\" and have special meanings:\n",
    "- \\n line break, new line\n",
    "- \\t tab\n",
    "- \\\" Quotation marks above (e.g. if you want to put a quotation mark in a string).\n",
    "see also (https://www.w3schools.com/python/gloss_python_escape_characters.asp)\n",
    "If you don't want a line break at the end of a `print()` but e.g. space, then this must be specified with the\n",
    "parameter `end =\" \"`. Conversely, `end =\"\\n\\n\"` specifies that two line breaks follow the output.\n",
    "Quiz question: Why is the \"0\" of the second loop behind the numbers of the first loop? How can this be changed?"
   ]
  },
  {
   "cell_type": "code",
   "execution_count": null,
   "metadata": {},
   "outputs": [],
   "source": [
    "for i in range(5):\n",
    "    print(i, end=\" \")\n",
    "\n",
    "for i in range(5):\n",
    "    print(i, end=\"\\n\\n\")"
   ]
  },
  {
   "cell_type": "markdown",
   "metadata": {},
   "source": [
    "## Task 1\n",
    "Create a one-time-one (remember?) Using two `for` loops. The results should be displayed line by line as follows:\n",
    "\n",
    "1 2 3 ... 9 10<br>\n",
    "2 4 6 ..... 20<br>\n",
    "..<br>\n",
    "10 20 ...  100<br>"
   ]
  },
  {
   "cell_type": "code",
   "execution_count": null,
   "metadata": {},
   "outputs": [],
   "source": [
    "# put your magic code here\n"
   ]
  },
  {
   "cell_type": "markdown",
   "metadata": {},
   "source": [
    "## The method `.format()`\n",
    "Imagine that you have a bill and want the numbers to be nice in columns, sometimes to the left, partly to the right.\n",
    "Then those previously mentioned options will not help you much."
   ]
  },
  {
   "cell_type": "code",
   "execution_count": null,
   "metadata": {},
   "outputs": [],
   "source": [
    "num_table = 3\n",
    "price_table = 123.45\n",
    "num_chair = 12\n",
    "price_chair = 79.90\n",
    "num_closet = 1\n",
    "price_closet = 1250.99\n",
    "print(\"Table\", num_table, price_table)\n",
    "print(\"chair\", num_chair, price_chair)\n",
    "print(\"closet\", num_closet, price_closet)"
   ]
  },
  {
   "cell_type": "markdown",
   "metadata": {},
   "source": [
    "To achieve the appropriate formatting, there is the method `.format()`, which is now being introduced in three steps.\n",
    "You only see the effect after the third step, but the first two steps are necessary to be able to finally use the third step.\n",
    "\n",
    "**Step 1**\n",
    "Take a look at the following assignment:\n",
    "\n",
    "`print(\"Table  {}{}\".format(num_table, price_table))`\n",
    "\n",
    "\n",
    "As always, the string is delimited by quotation marks.\n",
    "The string itself contains two fields, which are represented by braces `{}`.\n",
    "The method `.format()` is applied to the string. The two arguments `num_table` and` price_table` are passed to the method.\n",
    "The fields are now replaced by these arguments when `print()` is called."
   ]
  },
  {
   "cell_type": "code",
   "execution_count": null,
   "metadata": {},
   "outputs": [],
   "source": [
    "# run this to see the effect\n",
    "print(\"Table  {}{}\".format(num_table, price_table))"
   ]
  },
  {
   "cell_type": "markdown",
   "metadata": {},
   "source": [
    "**Step 2**\n",
    "\n",
    "The result from above looks almost worse than before, the space between the two arguments is missing.\n",
    "\n",
    "In the second step, an argument is entered in the fields (see below).\n",
    "This allows you to control the order of argument assignments from the `.format()` method.\n",
    "Sounds complicated, but is very simple (see example)."
   ]
  },
  {
   "cell_type": "code",
   "execution_count": null,
   "metadata": {},
   "outputs": [],
   "source": [
    "print(\"Table  {0}{1}\".format(num_table, price_table))\n",
    "print(\"Table  {1}{0}\".format(num_table, price_table))"
   ]
  },
  {
   "cell_type": "markdown",
   "metadata": {},
   "source": [
    "**Step 3**\n",
    "\n",
    "In the last step, *formatting instructions* can now be appended to the argument in brackets.\n",
    "This is followed by a colon after the number introduced in step 2 and then information about the format.\n",
    "This consists of a number (how many digits should be displayed) and a letter that indicates the data type.\n",
    "- 5d: d stands for decimal or integer, a total of 5 characters *right-justification* is used\n",
    "- 8.2f: f stands for float, a total of 8 characters are reserved, two of them after the decimal point.\n",
    "The numbers are aligned with the decimal point\n",
    "- 10s: s stands for string, 10 characters are used. The string is displayed left-justified.\n",
    "\n",
    "Documentation with even more details on formatting can be found [here] (https://docs.python.org/3/library/string.html#formatstrings). Tables with all formatting symbols for string, integer, ... can be found [here] (https://docs.python.org/3/library/string.html#index-9)"
   ]
  },
  {
   "cell_type": "code",
   "execution_count": null,
   "metadata": {},
   "outputs": [],
   "source": [
    "print(\"{0:8s}{1:8s}{2:8s}\".format(\"Article\", \"Number\", \"Price\"))\n",
    "print(\"{0:8s}{1:8d}{2:8.2f}\".format(\"Table\", num_table, price_table))\n",
    "print(\"{0:8s}{1:8d}{2:8.2f}\".format(\"chair\", num_chair, price_chair))\n",
    "print(\"{0:8s}{1:8d}{2:8.2f}\".format(\"closet\", num_closet, price_closet))\n"
   ]
  },
  {
   "cell_type": "markdown",
   "metadata": {},
   "source": [
    "The example above looks much better, the individual columns are aligned according to the data type.\n",
    "Maybe you want to adjust the headings? Maybe the number and price should be right justified so that they align better\n",
    " with the values in the column?\n",
    "\n",
    "By default, strings are left-justified. But this can also be adjusted by using a \"<\" or \">\".\n",
    "A full table of alignment symbols can be found [here] (https://docs.python.org/3/library/string.html#index-3)."
   ]
  },
  {
   "cell_type": "code",
   "execution_count": null,
   "metadata": {},
   "outputs": [],
   "source": [
    "print(\"{0:8s}{1:>8s}{2:>8s}\".format(\"Article\", \"Number\", \"Price\"))\n",
    "print(\"{0:8s}{1:8d}{2:8.2f}\".format(\"Table\", num_table, price_table))\n",
    "print(\"{0:8s}{1:8d}{2:8.2f}\".format(\"chair\", num_chair, price_chair))\n",
    "print(\"{0:8s}{1:8d}{2:8.2f}\".format(\"closet\", num_closet, price_closet))\n"
   ]
  },
  {
   "cell_type": "markdown",
   "metadata": {},
   "source": [
    "## Exercise 2\n",
    "Play with the inputs from the cell above. What happens if the entered integer is larger than the available digits.\n",
    "Or: You have a float number with more than two decimal places. Just try it out."
   ]
  },
  {
   "cell_type": "markdown",
   "metadata": {},
   "source": [
    "## Task 3 Polish the multiplication table like a pro\n",
    "Create a new version of the multiplication table, where the numbers are all nicely arranged in columns."
   ]
  },
  {
   "cell_type": "code",
   "execution_count": null,
   "metadata": {},
   "outputs": [],
   "source": []
  }
 ],
 "metadata": {
  "kernelspec": {
   "display_name": "Python 3",
   "language": "python",
   "name": "python3"
  },
  "language_info": {
   "codemirror_mode": {
    "name": "ipython",
    "version": 3
   },
   "file_extension": ".py",
   "mimetype": "text/x-python",
   "name": "python",
   "nbconvert_exporter": "python",
   "pygments_lexer": "ipython3",
   "version": "3.7.6"
  }
 },
 "nbformat": 4,
 "nbformat_minor": 2
}