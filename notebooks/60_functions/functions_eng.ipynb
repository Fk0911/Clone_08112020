{
 "cells": [
  {
   "cell_type": "markdown",
   "metadata": {},
   "source": [
    "# Functions\n",
    "## Prerequisites\n",
    "This unit assumes that you are familiar with the following content:\n",
    "- [Variables](../20_variables_and_datatypes/10_variables_eng.ipynb)\n",
    "- [In- and Output](../20_variables_and_datatypes/20_in_and_output_eng.ipynb)\n",
    "- [Primitive Datatypes](../20_variables_and_datatypes/30_datatypes_eng.ipynb)\n",
    "- [Conditionals](../30_conditionals/conditionals_eng.ipynb)\n",
    "- [Complex Data Types](../40_complex_data_types/lists_eng.ipynb)\n",
    "- [Loops](../50_loops/for_loop_sja_eng.ipynb)"
   ]
  },
  {
   "cell_type": "markdown",
   "metadata": {},
   "source": [
    "## Motivation\n",
    "One of the basic concepts of mathematics is that of [functions](https://en.wikipedia.org/wiki/Function_(mathematics)).\n",
    "A function $ f $ assigns exactly one element $ y $ to a target set $ Z $ to each element $ x $ of a set $ D $.\n",
    "\n",
    "Examples:\n",
    "- $ f (x) = x ^ 2  \\text{ for } x \\in \\mathbb{N} $\n",
    "- $ s (x, y) = x + y $ for $ x \\in \\mathbb{R} $\n",
    "\n",
    "A function is therefore clearly defined by its parameters and the associated mapping rule(s)."
   ]
  },
  {
   "cell_type": "markdown",
   "metadata": {},
   "source": [
    "## Functions in programming\n",
    "A function in programming is structured similarly to a function in mathematics.\n",
    "A function in programming consists of a series of 'parameters' and a set of instructions.\n",
    "These then make it possible to call those instructions numerous times at different points in a program without having to copy the instructions.\n",
    "Functions enable you therefor to:\n",
    "- structure programs\n",
    "- modularize programs."
   ]
  },
  {
   "cell_type": "markdown",
   "metadata": {},
   "source": [
    "## functions in Python\n",
    "We have already learned some `functions` from the Python standard library.\n",
    "For example, we already used the function `print()`(https://docs.python.org/3/library/functions.html#print) or the\n",
    "function `int()` (https://docs.python.org/3/library/functions.html#int).\n",
    "\n",
    "Of course, as in other programming languages, it is also possible to write your functions in Python.\n",
    "The following simple function `double()` doubles each passed value."
   ]
  },
  {
   "cell_type": "code",
   "execution_count": 11,
   "metadata": {},
   "outputs": [],
   "source": [
    "def double(x):\n",
    "    \"\"\"\n",
    "    Doubles the value x.\n",
    "    \"\"\"\n",
    "    return x * 2\n"
   ]
  },
  {
   "cell_type": "markdown",
   "metadata": {},
   "source": [
    "This function can now be called as shown in the cell below."
   ]
  },
  {
   "cell_type": "code",
   "execution_count": 12,
   "metadata": {},
   "outputs": [
    {
     "name": "stdout",
     "output_type": "stream",
     "text": [
      "42\n",
      "HalloHallo\n"
     ]
    }
   ],
   "source": [
    "d = double(21)\n",
    "print(d)\n",
    "\n",
    "print(double(\"Hello\"))\n"
   ]
  },
  {
   "cell_type": "markdown",
   "metadata": {},
   "source": [
    "Functions in Python are structured as shown in the following excerpt:\n",
    "```python\n",
    "def function_name(parameter_list):\n",
    "    command(s)\n",
    "    return output_value(s)\n",
    "```\n",
    "A function in Python consists of the following components:\n",
    "- The keyword `def` followed by a *function name*. The function name can be used to call the function.\n",
    "- An optional *parameter list*. The parameter list can, therefore, be empty or contain several parameters.\n",
    "Several parameters are separated by commas.\n",
    "- An optional *docstring*. This can be used to store documentation for the function.\n",
    "- The functional body. This consists of the instructions and the return value.\n",
    "  - The *instructions* that form the functional body are indented. A function must contain at least one instruction.\n",
    "  - The *return value* of the function follows the keyword `return`. The return value is optional too.\n",
    "\n",
    "The individual components are explained in detail in the following sections.\n",
    "First, however, we check out how a function is called."
   ]
  },
  {
   "cell_type": "markdown",
   "metadata": {},
   "source": [
    "### function Calls\n",
    "In the cell below is a Python program that consists of several parts.\n",
    "A function `say_hello()` is defined first. This is then repeated several times with various parameters."
   ]
  },
  {
   "cell_type": "code",
   "execution_count": 13,
   "metadata": {},
   "outputs": [
    {
     "name": "stdout",
     "output_type": "stream",
     "text": [
      "Hello Informationstechnik 1\n",
      "Hello Christian\n"
     ]
    }
   ],
   "source": [
    "def greet(name):\n",
    "    return name + \" I am your father\"\n",
    "\n",
    "n = \"Information technology 1:\"\n",
    "greeting = greet(n)\n",
    "print(greeting)\n",
    "\n",
    "print(greet(\"Darth Vader:\"))\n"
   ]
  },
  {
   "cell_type": "markdown",
   "metadata": {},
   "source": [
    "### function Calls\n",
    "In the cell below is a Python program that consists of several parts.\n",
    "A function `greet()` is defined first. Then it is called repeatedly several times with various parameters.\n",
    "\n",
    "If this Python program is executed, the function `greet()` is defined first. This definition has no output.\n",
    "Then the function `greet()` is called twice with different parameters.\n",
    "The result of the function call is displayed with `print()` (and `print()` is in itself a function call).\n",
    "\n",
    "The execution of the program is shown graphically in the figure below.\n",
    "\n",
    "![function_invocation.png](./img/function_invocation_eng.png)\n",
    "\n",
    "\n",
    "First, the variable `n` is set to the value`\"Information technology 1\"`.\n",
    "Then the function `greet(n)` is called and the variable `n` is passed as a parameter.\n",
    "By calling the function, the parameter `name` is assigned the value passed in as `n` (i.e. \"Information Technology 1:'').\n",
    "The return value of the function is `\"Information Technology 1: I am your father\"`.\n",
    "This is assigned to the variable `greeting`.\n",
    "Finally, the value of the variable `greeting` is displayed by calling the function` print()`.\n",
    "If you haven't noticed the output is not quite the expectation.\n",
    "Now let's change the input parameter to something more suitable.\n",
    "In the next step the function `greet()` is called again.\n",
    "With the second call, the character string \"Darth Vader:\" is now passed as a parameter.\n",
    "The return value of the function is, therefore `\"Darth Vader: I am your Father\"`.\n",
    "This is passed to the `print()` function and is displayed directly.\n",
    "The return value is hence not assigned to any variables on the second call.\n",
    "Now, as you can see, the output of the function `greet()`sounds more plausible (depending on which side you are)."
   ]
  },
  {
   "cell_type": "markdown",
   "metadata": {},
   "source": [
    "\n",
    "### parameters\n",
    "A function has an optional parameter list. That means that a function has either:\n",
    "- no parameter\n",
    "- a parameter\n",
    "- or multiple parameters\n",
    "\n",
    "The following cell contains examples of a function with no and several parameters:"
   ]
  },
  {
   "cell_type": "code",
   "execution_count": 14,
   "metadata": {},
   "outputs": [
    {
     "name": "stdout",
     "output_type": "stream",
     "text": [
      "Was ist die Antwort auf die Frage nach dem Leben, dem Universum und dem ganzen Rest? 42\n",
      "Was ist die Summe von 39 und 3? 42\n"
     ]
    }
   ],
   "source": [
    "def the_answer_to_everything():\n",
    "    return 42\n",
    "\n",
    "print(\"Was ist die Antwort auf die Frage nach dem Leben, dem Universum und dem ganzen Rest?\", the_answer_to_everything())  \n",
    "\n",
    "def sum(a, b):\n",
    "    return a + b\n",
    "    \n",
    "print(\"Was ist die Summe von 39 und 3?\", sum(39,3))\n"
   ]
  },
  {
   "cell_type": "markdown",
   "metadata": {},
   "source": [
    "### Task 1\n",
    "Now it's your turn. Write a Python `function` that checks whether a given string is a palindrome. Examples of palindromes are Anna, Otto, ''evil olive'' or 24742. So Palindromes are words or phrases (strings) that read the same backward and forward.\n",
    "\n",
    "The return value should simply be True or False, depending on whether the string passed is a palindrome or not.\n",
    "\n",
    "An automated [test](# tests-to-task-1) for your solution can be found below in the document.\n",
    "For this to work, you must call your function `palindrome`."
   ]
  },
  {
   "cell_type": "code",
   "execution_count": 15,
   "metadata": {},
   "outputs": [],
   "source": [
    "###BEGIN SOLUTION\n",
    "\n",
    "def palindrome(sentence):\n",
    "    reverse = \"\"\n",
    "    for letter in sentence:\n",
    "        reverse = letter + reverse\n",
    "    \n",
    "    if reverse.lower() == sentence.lower():\n",
    "        return True\n",
    "    else:\n",
    "        return False\n",
    "    \n",
    "###END SOLUTION\n"
   ]
  },
  {
   "cell_type": "markdown",
   "metadata": {},
   "source": [
    "\n",
    "### Default Values Of Parameters\n",
    "When defining functions, default values for parameters can be defined.\n",
    "These standard values are used if no value is passed for a parameter upon calling the function.\n",
    "\n",
    "The following example shows a function for multiplying a number by a certain factor.\n",
    "The parameter `factor` is set to the standard value` 2`.\n",
    "The function can now be called with or without the parameter `factor`."
   ]
  },
  {
   "cell_type": "code",
   "execution_count": 16,
   "metadata": {},
   "outputs": [
    {
     "name": "stdout",
     "output_type": "stream",
     "text": [
      "10\n",
      "15\n"
     ]
    }
   ],
   "source": [
    "def multiply_with_factor(number, factor = 2):\n",
    "    return number * factor\n",
    "\n",
    "print(multiply_with_factor(5))\n",
    "print(multiply_with_factor(5, 3))"
   ]
  },
  {
   "cell_type": "markdown",
   "metadata": {},
   "source": [
    "So far, functions have always been called by its parameters according to the order of the parameter list.\n",
    "But Python also offers the possibility to address certain parameters with their names.\n",
    "this way the order of the parameters in the parameter list can be ignored.\n",
    "\n",
    "Calling functions with this fashion makes even more sense if it's combined with standard values.\n",
    "You can see that e.g. with the function `print()`. It is defined in the standard Python library as follows:\n",
    "\n",
    "`print(* objects, sep = ' ', end = '\\n', file = sys.stdout, flush = False)`\n",
    "\n",
    "You can see that the function e.g. defines the parameters `sep` and` end`, to which standard values are assigned.\n",
    "For now, we are not examining other parameters."
   ]
  },
  {
   "cell_type": "code",
   "execution_count": 17,
   "metadata": {},
   "outputs": [
    {
     "name": "stdout",
     "output_type": "stream",
     "text": [
      "Hallo Christian Drumm\n",
      "Hallo<->Christian<->Drumm\n",
      "FH***Aachen***!\n"
     ]
    }
   ],
   "source": [
    "print(\"Hallo\", \"Christian\", \"Drumm\")\n",
    "print(\"Hallo\", \"Christian\", \"Drumm\", sep=\"<->\")\n",
    "print(\"FH\", end=\"***\")\n",
    "print(\"Aachen\", end=\"***\")\n",
    "print(\"!\")\n"
   ]
  },
  {
   "cell_type": "markdown",
   "metadata": {},
   "source": [
    "\n",
    "### Docstring\n",
    "The functions we have defined so far are relatively easy to understand.\n",
    "In general, though, functions perform complex tasks. For this reason, they are often difficult to use without explanation.\n",
    "(You may have noticed this yourself. 😉)\n",
    "\n",
    "Good functions always include documentation of their behavior.\n",
    "In Python, this documentation is called *Docstring*.\n",
    "The *Docstring* is a description of the behavior of a function and its parameters.\n",
    "A docstring is at the beginning of a function."
   ]
  },
  {
   "cell_type": "code",
   "execution_count": 18,
   "metadata": {},
   "outputs": [],
   "source": [
    "def percent(x, total):\n",
    "    \"\"\"Convert x to a percentage of the total.\n",
    "\n",
    "     More specifically, this function divides x by total,\n",
    "     multiplies the result by 100 and rounds the result\n",
    "     to two decimal places.\n",
    "    \n",
    "    >>> percent(4, 16)\n",
    "    25.0\n",
    "    >>> percent(1, 6)\n",
    "    16.67\n",
    "    \"\"\"\n",
    "    return round((x/total)*100, 2)\n"
   ]
  },
  {
   "cell_type": "markdown",
   "metadata": {},
   "source": [
    "You can display the docstring of a function in a Jupyter notebook with a `?` after the function name."
   ]
  },
  {
   "cell_type": "code",
   "execution_count": 19,
   "metadata": {},
   "outputs": [
    {
     "ename": "SyntaxError",
     "evalue": "invalid syntax (<ipython-input-19-938b6e5ec6cd>, line 1)",
     "output_type": "error",
     "traceback": [
      "\u001B[0;36m  File \u001B[0;32m\"<ipython-input-19-938b6e5ec6cd>\"\u001B[0;36m, line \u001B[0;32m1\u001B[0m\n\u001B[0;31m    percent?\u001B[0m\n\u001B[0m           ^\u001B[0m\n\u001B[0;31mSyntaxError\u001B[0m\u001B[0;31m:\u001B[0m invalid syntax\n"
     ]
    }
   ],
   "source": [
    "percent? "
   ]
  },
  {
   "cell_type": "markdown",
   "metadata": {},
   "source": [
    "\n",
    "### Visibility Of Variables\n",
    "\n",
    "Variables and parameters that are defined in a function are only visible within this function.\n",
    "Outside of the function, the variables and parameters are unknown.\n",
    "The *visibility* of the variable in Python is limited to the function in which the variable was defined.\n",
    "These variables are also called *local variables*.\n",
    "\n",
    "In contrast, variables that are not defined within functions have *visibility* throughout the program.\n",
    "In particular, these are also visible within functions.\n",
    "Such variables are also referred to as *global variables*.\n",
    "\n",
    "**Attention!** The use of global variables leads to very confusing and difficult to maintain programs and should be avoided if possible.\n",
    "\n",
    "The visibility of variables is explained below using two examples. In particular, in the second program, you see\n",
    "that a local variable *hides* a global variable with the same name.\n",
    "In the function, the local variable in the example has a value that differs from the global variable."
   ]
  },
  {
   "cell_type": "code",
   "execution_count": 0,
   "metadata": {},
   "outputs": [],
   "source": [
    "def global_variable():\n",
    "    print(s)\n",
    "\n",
    "s = \"Python\"\n",
    "global_variable()"
   ]
  },
  {
   "cell_type": "code",
   "execution_count": 0,
   "metadata": {},
   "outputs": [],
   "source": [
    "def local_variable():\n",
    "    s = \"Cobra\"\n",
    "    print(s)\n",
    "\n",
    "s = \"Python\"\n",
    "local_variable()\n",
    "print(s)\n"
   ]
  },
  {
   "cell_type": "markdown",
   "metadata": {},
   "source": [
    "### Complex Outputs Of Functions\n",
    "As the previous examples have shown, functions have an optional return value.\n",
    "The return value of the function is after the keyword `return`.\n",
    "A function can return exactly one object as a return value.\n",
    "This return value can be, for example, a numerical value such as an integer (integer) or a floating-point number (float).\n",
    "However, it is just as possible to use a complex data type such as to return a list or dictionary.\n",
    "\n",
    "For example, if a function is to return three integer values, they can be packed into a tuple or a list.\n",
    "This list or tuple can then be used as a return value after the return keyword."
   ]
  },
  {
   "cell_type": "code",
   "execution_count": 25,
   "metadata": {},
   "outputs": [
    {
     "name": "stdout",
     "output_type": "stream",
     "text": [
      "[6, 7, 40, 43, 45, 46, 48]\n",
      "[1, 17, 18, 20, 25, 26, 36]\n"
     ]
    }
   ],
   "source": [
    "import random\n",
    "\n",
    "def lottery_draw():\n",
    "    lottery_numbers = []\n",
    "    for _ in range(7):\n",
    "        lottery_numbers.append(random.randint(1, 49))\n",
    "\n",
    "    lottery_numbers.sort()\n",
    "    return lottery_numbers\n",
    "\n",
    "print(lottery_draw())\n",
    "print(lottery_draw())"
   ]
  },
  {
   "cell_type": "markdown",
   "metadata": {},
   "source": [
    "\n",
    "### Task 2\n",
    "Now it's your turn again. Write a Python `function` that calculates the area of a rectangle.\n",
    "To do this, the length and width of the rectangle should be passed as parameters.\n",
    "Besides, the function should offer the option of only transferring the length.\n",
    "In this case, the area of a square should be calculated (area = length * length).\n",
    "To facilitate this, you have to define a default value for the width parameter, which you can use to see whether the parameter has been passed or not.\n",
    "\n",
    "The return value of the function should be the area of the rectangle.\n",
    "\n",
    "An automated [test](# tests-to-task-2) for your solution can be found below in the document.\n",
    "In order for this to work, be sure to call your function `rect_area`.\n",
    "Also name your parameters \"length\" and \"width\"."
   ]
  },
  {
   "cell_type": "code",
   "execution_count": 0,
   "metadata": {},
   "outputs": [],
   "source": [
    "###BEGIN SOLUTION\n",
    "\n",
    "def rect_area(length, width = -1):\n",
    "    if width == -1:\n",
    "        return length * length\n",
    "    else:\n",
    "        return length * width\n",
    "\n",
    "###END SOLUTION\n"
   ]
  },
  {
   "cell_type": "markdown",
   "metadata": {},
   "source": [
    "## Restructuring in Assignments\n",
    "In Python, it is possible to break down lists or tuples into their components as part of an assignment.\n",
    "This is shown in the cell below:"
   ]
  },
  {
   "cell_type": "code",
   "execution_count": 27,
   "metadata": {},
   "outputs": [
    {
     "name": "stdout",
     "output_type": "stream",
     "text": [
      "a:  1\n",
      "b:  2\n",
      "c:  3\n",
      "Hallo\n"
     ]
    }
   ],
   "source": [
    "l1 = [1,2,3]\n",
    "a,b,c = l1\n",
    "print(\"a: \", a)\n",
    "print(\"b: \", b)\n",
    "print(\"c: \", c)\n",
    "\n",
    "t1 = (\"Hello\", \"World!\")\n",
    "x,y = t1\n",
    "print(x)"
   ]
  },
  {
   "cell_type": "markdown",
   "metadata": {},
   "source": [
    "For the assignments shown in the previous cell, there must be as many variables on the left side of the `=` as there are elements in the list or tuple.\n",
    "If there are more or fewer variables on the left side of the assignment, an error occurs."
   ]
  },
  {
   "cell_type": "code",
   "execution_count": 28,
   "metadata": {},
   "outputs": [
    {
     "ename": "ValueError",
     "evalue": "too many values to unpack (expected 2)",
     "output_type": "error",
     "traceback": [
      "\u001B[0;31m---------------------------------------------------------------------------\u001B[0m",
      "\u001B[0;31mValueError\u001B[0m                                Traceback (most recent call last)",
      "\u001B[0;32m<ipython-input-28-ba78b8031a49>\u001B[0m in \u001B[0;36m<module>\u001B[0;34m\u001B[0m\n\u001B[1;32m      1\u001B[0m \u001B[0ml1\u001B[0m \u001B[0;34m=\u001B[0m \u001B[0;34m[\u001B[0m\u001B[0;36m1\u001B[0m\u001B[0;34m,\u001B[0m\u001B[0;36m2\u001B[0m\u001B[0;34m,\u001B[0m\u001B[0;36m3\u001B[0m\u001B[0;34m]\u001B[0m\u001B[0;34m\u001B[0m\u001B[0;34m\u001B[0m\u001B[0m\n\u001B[0;32m----> 2\u001B[0;31m \u001B[0ma\u001B[0m\u001B[0;34m,\u001B[0m\u001B[0mb\u001B[0m \u001B[0;34m=\u001B[0m \u001B[0ml1\u001B[0m\u001B[0;34m\u001B[0m\u001B[0;34m\u001B[0m\u001B[0m\n\u001B[0m",
      "\u001B[0;31mValueError\u001B[0m: too many values to unpack (expected 2)"
     ]
    }
   ],
   "source": [
    "l1 = [1,2,3]\n",
    "a,b = l1"
   ]
  },
  {
   "cell_type": "code",
   "execution_count": 29,
   "metadata": {},
   "outputs": [
    {
     "ename": "ValueError",
     "evalue": "not enough values to unpack (expected 4, got 3)",
     "output_type": "error",
     "traceback": [
      "\u001B[0;31m---------------------------------------------------------------------------\u001B[0m",
      "\u001B[0;31mValueError\u001B[0m                                Traceback (most recent call last)",
      "\u001B[0;32m<ipython-input-29-9fad2498646f>\u001B[0m in \u001B[0;36m<module>\u001B[0;34m\u001B[0m\n\u001B[1;32m      1\u001B[0m \u001B[0ml1\u001B[0m \u001B[0;34m=\u001B[0m \u001B[0;34m[\u001B[0m\u001B[0;36m1\u001B[0m\u001B[0;34m,\u001B[0m\u001B[0;36m2\u001B[0m\u001B[0;34m,\u001B[0m\u001B[0;36m3\u001B[0m\u001B[0;34m]\u001B[0m\u001B[0;34m\u001B[0m\u001B[0;34m\u001B[0m\u001B[0m\n\u001B[0;32m----> 2\u001B[0;31m \u001B[0ma\u001B[0m\u001B[0;34m,\u001B[0m\u001B[0mb\u001B[0m\u001B[0;34m,\u001B[0m\u001B[0mc\u001B[0m\u001B[0;34m,\u001B[0m\u001B[0md\u001B[0m  \u001B[0;34m=\u001B[0m \u001B[0ml1\u001B[0m\u001B[0;34m\u001B[0m\u001B[0;34m\u001B[0m\u001B[0m\n\u001B[0m",
      "\u001B[0;31mValueError\u001B[0m: not enough values to unpack (expected 4, got 3)"
     ]
    }
   ],
   "source": [
    "l1 = [1,2,3]\n",
    "a,b,c,d  = l1"
   ]
  },
  {
   "cell_type": "markdown",
   "metadata": {},
   "source": [
    "However, it is also possible to ignore certain elements in the assignment. A`_` is used for this purpose.\n",
    "Part of the assignment can also be assigned to a list. This is shown in the cell below."
   ]
  },
  {
   "cell_type": "code",
   "execution_count": 30,
   "metadata": {},
   "outputs": [
    {
     "name": "stdout",
     "output_type": "stream",
     "text": [
      "4\n"
     ]
    }
   ],
   "source": [
    "l1 = [1,2,3, 4]\n",
    "a, _, _ , b = l1\n",
    "print(b)"
   ]
  },
  {
   "cell_type": "code",
   "execution_count": 31,
   "metadata": {},
   "outputs": [
    {
     "name": "stdout",
     "output_type": "stream",
     "text": [
      "a:  1\n",
      "rest:  [2, 3, 4, 5, 6, 7, 8, 9]\n",
      "a:  1\n",
      "mitte:  [2, 3, 4, 5, 6, 7, 8]\n",
      "b:  9\n"
     ]
    }
   ],
   "source": [
    "l1 = [1,2,3,4,5,6,7,8,9]\n",
    "a, *rest = l1\n",
    "print(\"a: \", a)\n",
    "print(\"rest: \", rest)\n",
    "\n",
    "\n",
    "a, *middle, b = l1\n",
    "print(\"a: \", a)\n",
    "print(\"middle: \", middle)\n",
    "print(\"b: \", b)"
   ]
  },
  {
   "cell_type": "code",
   "execution_count": 32,
   "metadata": {},
   "outputs": [
    {
     "name": "stdout",
     "output_type": "stream",
     "text": [
      "a:  1\n",
      "b:  3\n",
      "teil:  [4, 5, 6, 7, 8]\n"
     ]
    }
   ],
   "source": [
    "l1 = [1,2,3,4,5,6,7,8,9]\n",
    "a, _, b, *part, _ = l1\n",
    "print(\"a: \", a)\n",
    "print(\"b: \", b)\n",
    "print(\"part: \", part)"
   ]
  },
  {
   "cell_type": "markdown",
   "metadata": {
    "pycharm": {
     "name": "#%% md\n"
    }
   },
   "source": [
    "The restructuring is particularly useful in combination with functions that use complex data types as return values."
   ]
  },
  {
   "cell_type": "code",
   "execution_count": 33,
   "metadata": {},
   "outputs": [
    {
     "name": "stdout",
     "output_type": "stream",
     "text": [
      "1\n",
      "44\n"
     ]
    }
   ],
   "source": [
    "import random\n",
    "\n",
    "def lottery_draw():\n",
    "    lottery_numbers = []\n",
    "    for _ in range(7):\n",
    "        lottery_numbers.append(random.randint(1, 49))\n",
    "\n",
    "    lottery_numbers.sort()\n",
    "    return lottery_numbers\n",
    "\n",
    "smallest_lottery_number, *remaining_lottery_number, biggest_lottery_number = lottery_draw()\n",
    "\n",
    "print(smallest_lottery_number)\n",
    "print(biggest_lottery_number)"
   ]
  },
  {
   "cell_type": "markdown",
   "metadata": {},
   "source": [
    " ***\n",
    "\n",
    "## Automated Tests For The Tasks\n",
    "Here you will find some automated tests to check your solutions.\n",
    "To test your solution, please first run the cell with your solution and then the cell with the associated test."
   ]
  },
  {
   "cell_type": "markdown",
   "metadata": {},
   "source": [
    "### Tests For [Task 1](#Aufgabe-1)"
   ]
  },
  {
   "cell_type": "code",
   "execution_count": 0,
   "metadata": {},
   "outputs": [],
   "source": [
    "assert palindrome(\"89kjhg \\~~\\ ghjk98\") == True, \"The function does not work correctly. The pallindrome 89kjhg \\~~\\ ghjk98 was not recognized.\"\n"
   ]
  },
  {
   "cell_type": "code",
   "execution_count": 0,
   "metadata": {},
   "outputs": [],
   "source": [
    "assert palindrome(\"89kjhghjk98\") == True, \"The function should also work with strings of odd length\"\n"
   ]
  },
  {
   "cell_type": "code",
   "execution_count": 0,
   "metadata": {},
   "outputs": [],
   "source": [
    "assert palindrome(\"Lagerregal\") == True, \"The function should ignore capitalization.\"\n"
   ]
  },
  {
   "cell_type": "markdown",
   "metadata": {},
   "source": [
    "### Tests For [Task 2](#Aufgabe-2)"
   ]
  },
  {
   "cell_type": "code",
   "execution_count": 0,
   "metadata": {},
   "outputs": [],
   "source": [
    "assert rect_area(5, 7) == 35, \"The function does not work correctly. The area of a rectangle with sides 5 and 7 should be 35.\"\n",
    "\n"
   ]
  },
  {
   "cell_type": "code",
   "execution_count": 0,
   "metadata": {},
   "outputs": [],
   "source": [
    "assert rect_area(length = 5, width = 7) == 35, \"Names of input parameters mismatch\"\n",
    "\n"
   ]
  },
  {
   "cell_type": "code",
   "execution_count": 0,
   "metadata": {},
   "outputs": [],
   "source": [
    "assert rect_area(length = 7) == 49, \"The function should also work if only the length is passed.\"\n",
    "\n",
    "\n"
   ]
  }
 ],
 "metadata": {
  "file_extension": ".py",
  "kernelspec": {
   "display_name": "Python 3",
   "language": "python",
   "name": "python3"
  },
  "language_info": {
   "codemirror_mode": {
    "name": "ipython",
    "version": 3
   },
   "file_extension": ".py",
   "mimetype": "text/x-python",
   "name": "python",
   "nbconvert_exporter": "python",
   "pygments_lexer": "ipython3",
   "version": "3.7.7"
  },
  "mimetype": "text/x-python",
  "name": "python",
  "npconvert_exporter": "python",
  "pygments_lexer": "ipython3",
  "version": 3
 },
 "nbformat": 4,
 "nbformat_minor": 2
}