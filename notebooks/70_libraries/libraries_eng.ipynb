{
 "nbformat": 4,
 "nbformat_minor": 2,
 "metadata": {
  "language_info": {
   "name": "python",
   "codemirror_mode": {
    "name": "ipython",
    "version": 3
   }
  },
  "orig_nbformat": 2,
  "file_extension": ".py",
  "mimetype": "text/x-python",
  "name": "python",
  "npconvert_exporter": "python",
  "pygments_lexer": "ipython3",
  "version": 3
 },
 "cells": [
  {
   "cell_type": "markdown",
   "execution_count": null,
   "metadata": {},
   "outputs": [],
   "source": [
    "# Libraries\n",
    "\n",
    "## Prerequisites\n",
    "This unit assumes that you are familiar with the following content:\n",
    "- [Variables](../20_variables_and_datatypes/10_variables_eng.ipynb)\n",
    "- [In- and Output](../20_variables_and_datatypes/20_in_and_output_eng.ipynb)\n",
    "- [Primitive Datatypes](../20_variables_and_datatypes/30_datatypes_eng.ipynb)\n",
    "- [Conditionals](../30_conditionals/conditionals_eng.ipynb)\n",
    "- [Complex Data Types](../40_complex_data_types/lists_eng.ipynb)\n",
    "- [Loops](../50_loops/for_loop_sja_eng.ipynb)\n",
    "- [Functions](../60_functions/functions_eng.ipynb)"
   ]
  },
  {
   "cell_type": "markdown",
   "execution_count": null,
   "metadata": {},
   "outputs": [],
   "source": [
    "## Motivation\n",
    "\n",
    "So far, our Python programs consist of only one file. In practice, this leads to many problems, e.g .:\n",
    "\n",
    "- Complex programs become very confusing and difficult to maintain\n",
    "- No reuse of existing functions\n",
    "\n",
    "To avoid this problem, programs are divided into small units, so-called modules.\n",
    "This modularization is an important principle in programming.\n",
    "\n",
    "## Modularization\n",
    "Systems are not only modular in programming, but also many other areas of technology. What does that mean?\n",
    "- A system consists of **smaller, self-sufficient components**, which are often referred to as modules.\n",
    "- A module can **be created and tested** independently of the overall system.\n",
    "- (Good) modules can be **reused** in different systems.\n",
    "\n",
    "Questions:\n",
    "- Is a human being modular?\n",
    "- Is a car modular?\n",
    "\n",
    "## Modularization of software\n",
    "Software is generally modular. You recognize that e.g. the functions you have programmed.\n",
    "These functions have a **clear task**, are **developed and tested** independently of their later use, and can be used universally in other programs.\n",
    "\n",
    "Software is one of the most complex systems made by humans\n",
    "(see (https://informationisbeautiful.net/visualizations/million-lines-of-code/), which is why modularization and abstraction play an important role here.\n",
    "- Functions are at a lower level of modularization.\n",
    "- Several related functions can be joined in libraries (libraries or modules).\n",
    "- Several libraries are sometimes coupled in packages."
   ]
  },
  {
   "cell_type": "markdown",
   "execution_count": null,
   "metadata": {},
   "outputs": [],
   "source": [
    "## Use of libraries\n",
    "A library is integrated or imported into Python using the `import` statement."
   ]
  },
  {
   "cell_type": "code",
   "execution_count": 1,
   "metadata": {},
   "outputs": [],
   "source": [
    "import math"
   ]
  },
  {
   "cell_type": "markdown",
   "execution_count": null,
   "metadata": {},
   "outputs": [],
   "source": [
    "As the name suggests, the `math` library provides further mathematical functions and constants.\n",
    "Examples include `sin()`, `cos()` and `pi`. These functions can now be \"appropriately\" used, i.e. stating the name of the library."
   ]
  },
  {
   "cell_type": "code",
   "execution_count": 7,
   "metadata": {},
   "outputs": [],
   "source": [
    "print(math.pi)\n",
    "\n",
    "x = math.cos(math.pi)\n",
    "print(x)\n",
    "\n",
    "print(math.sin(math.pi/2))"
   ]
  },
  {
   "cell_type": "markdown",
   "execution_count": null,
   "metadata": {},
   "outputs": [],
   "source": [
    "It is also possible to provide only individual functions of a library (and not the entire library)."
   ]
  },
  {
   "cell_type": "code",
   "execution_count": 8,
   "metadata": {},
   "outputs": [],
   "source": [
    "from math import sin, pi"
   ]
  },
  {
   "cell_type": "markdown",
   "execution_count": 9,
   "metadata": {},
   "outputs": [],
   "source": [
    "Then these functions can also be accessed inappropriately."
   ]
  },
  {
   "cell_type": "code",
   "execution_count": 11,
   "metadata": {},
   "outputs": [],
   "source": [
    "x = sin(3 * pi / 2)\n",
    "print(x)"
   ]
  },
  {
   "cell_type": "markdown",
   "execution_count": null,
   "metadata": {},
   "outputs": [],
   "source": [
    "If it is too tedious for you to always write `math.` in front of a function from the library, you can also rename the namespace through the import.\n",
    "Then the functions with the shorter prefix can be called."
   ]
  },
  {
   "cell_type": "code",
   "execution_count": 12,
   "metadata": {},
   "outputs": [],
   "source": [
    "import math as m\n",
    "\n",
    "x = m.cos(m.pi) + m.sin(1)\n",
    "\n",
    "print(x)"
   ]
  },
  {
   "cell_type": "markdown",
   "execution_count": null,
   "metadata": {},
   "outputs": [],
   "source": [
    "## Namespaces\n",
    "Some names are already known or assigned within Python:\n",
    "- Keywords: `with`,` for`, or `and`\n",
    "- Built-in functions: `print()`, or `input()`\n",
    "\n",
    "By importing a library, other names are being made accessible.\n",
    "With the help of the `dir()` function, all known names can be displayed."
   ]
  },
  {
   "cell_type": "code",
   "execution_count": 13,
   "metadata": {},
   "outputs": [],
   "source": [
    "dir()"
   ]
  },
  {
   "cell_type": "markdown",
   "execution_count": null,
   "metadata": {},
   "outputs": [],
   "source": [
    "What happens if two functions with identical names exist?"
   ]
  },
  {
   "cell_type": "code",
   "execution_count": 15,
   "metadata": {},
   "outputs": [],
   "source": [
    "from math import sin\n",
    "\n",
    "print(sin(0))\n",
    "\n",
    "def sin(n):\n",
    "    \"Hey Rick: What's the Sine of \" + str(n) + \"?\"\n",
    "\n",
    "print(sin(0)) "
   ]
  },
  {
   "cell_type": "markdown",
   "execution_count": null,
   "metadata": {},
   "outputs": [],
   "source": [
    "## Task 1\n",
    "Use functions from the math library to:\n",
    "\n",
    "1. Calculate the factorial of a number (x!)\n",
    "1. Calculate the greatest common divisor of two numbers\n",
    "1. Calculate the natural logarithm and the logarithm to the base 10\n",
    "\n",
    "Use functions from the statistics and random library to:\n",
    "\n",
    "1. Generate a list of random numbers between 1 and 10\n",
    "1. Calculate the mean of this list\n",
    "1. Calculate the median of this list\n",
    "1. Calculate the variance of this list"
   ]
  },
  {
   "cell_type": "markdown",
   "execution_count": null,
   "metadata": {},
   "outputs": [],
   "source": [
    "## Find Suitable Libraries\n",
    "The principles of using libraries are simple, but finding the right library may be difficult. Here are a few references where to look:\n",
    "\n",
    "1. The [Python Standard Library](https://docs.python.org/3/library/)\n",
    "Many additions\n",
    "1. [20 Python libraries you can't live without](https://pythontips.com/2013/07/30/20-python-libraries-you-cant-live-without/)\n",
    "1. [14 Python libraries too good to overlook](https://www.infoworld.com/article/3164409/application-development/hidden-gems-14-python-libraries-too-good-to-overlook.html)\n",
    "1. Google. Ideally with a specific question, e.g. Python library for GUI"
   ]
  },
  {
   "cell_type": "markdown",
   "execution_count": null,
   "metadata": {},
   "outputs": [],
   "source": [
    "\n",
    "## Installation of libraries\n",
    "The `pip` tool is available for installing libraries.\n",
    "- Start the CMD shell under Windows or the terminal under Mac.\n",
    "- Use pip help to display the help for pip.\n",
    "\n",
    "With `pip install <package>` (most) packages can then be installed.\n",
    "The site (pypi.org) contains more than 100,000 projects (= libraries??)."
   ]
  },
  {
   "cell_type": "markdown",
   "execution_count": null,
   "metadata": {},
   "outputs": [],
   "source": [
    "## Nice Graphics With The Turtle Library\n",
    "The following code does not work as a Jupyter notebook. To execute, please do the following:\n",
    "- Create a file `turtle_example.py`\n",
    "- Copy the program code below into this file and save.\n",
    "- Execute the file in the terminal with the command `python3 <path to your file>`."
   ]
  },
  {
   "cell_type": "code",
   "execution_count": 16,
   "metadata": {
    "pycharm": {
     "name": "#%%\n"
    }
   },
   "outputs": [],
   "source": [
    "from turtle import *\n",
    "color('red', 'yellow')\n",
    "begin_fill()\n",
    "while True:\n",
    "    forward(200)\n",
    "    left(170)\n",
    "    if abs(pos()) < 1:\n",
    "        break\n",
    "end_fill()\n",
    "done()"
   ]
  }
 ]
}