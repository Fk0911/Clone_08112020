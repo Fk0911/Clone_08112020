{
 "cells": [
  {
   "cell_type": "markdown",
   "metadata": {
    "nbgrader": {
     "grade": false,
     "grade_id": "cell-1a4b43324610e208",
     "locked": true,
     "schema_version": 1,
     "solution": false
    }
   },
   "source": [
    "# Try Except\n",
    "## Catch An Error\n",
    "Python programs rarely run without errors. You often get an error message and the program stops completely.\n",
    "To prevent this from happening repeatedly, you can catch various types of errors in Python and try to deal with them so that the program doesn't have to be stopped.\n",
    "\n",
    "### Examples\n",
    "The program below requests a number as input. This input is converted to an integer value and simply output in the second line.\n",
    "However, if the user ignores the instruction (\"Please enter a number\") and, for example, enters a letter, the program is immediately ended and an error message is displayed. Give it a try."
   ]
  },
  {
   "cell_type": "code",
   "execution_count": null,
   "metadata": {},
   "outputs": [],
   "source": [
    "number = int(input(\"Please enter a number \"))\n",
    "print(number)"
   ]
  },
  {
   "cell_type": "markdown",
   "metadata": {
    "nbgrader": {
     "grade": false,
     "grade_id": "cell-f45d48711bc7bc7d",
     "locked": true,
     "schema_version": 1,
     "solution": false
    }
   },
   "source": [
    "You can use `Try` and` Except` to catch these errors so that the entire program does not have to be stopped.\n",
    "Instead, you can, for example, explain to the user where the problem lies to avoid this.\n",
    "In the program below you can see the same code from above again, but this time within the `try:` block.\n",
    "For the program, this means that it can try these two lines first.\n",
    "If an error occurs, the code is not executed but the program goes into the `except` statement and executes it."
   ]
  },
  {
   "cell_type": "code",
   "execution_count": null,
   "metadata": {},
   "outputs": [],
   "source": [
    "try:\n",
    "    number = int(input(\"Please enter a number \"))\n",
    "    print(number)\n",
    "    \n",
    "except:\n",
    "    print(\"Something went wrong here\")"
   ]
  },
  {
   "cell_type": "markdown",
   "metadata": {
    "nbgrader": {
     "grade": false,
     "grade_id": "cell-73d48b3b28922d97",
     "locked": true,
     "schema_version": 1,
     "solution": false
    }
   },
   "source": [
    "### Detect different types of errors\n",
    "To be able to react correctly to each type of error, the `Except` statement must be adapted so that it recognizes various errors.\n",
    "To do this, you can simply write the type of error you want to filter out behind the `Except` (can be seen in the program below).\n",
    "This program can now differentiate between several errors:\n",
    "If you enter a letter instead of a number, as usual, this is a `ValueError` (more on this later).\n",
    "However, if you now enter a 0 you will encounter another problem in the following program.\n",
    "0 is also a number, but division by zero is undefined. Accordingly, this error is intercepted as `ZeroDivisionError` and both are handled differently.\n",
    "A different message is displayed here:"
   ]
  },
  {
   "cell_type": "code",
   "execution_count": null,
   "metadata": {},
   "outputs": [],
   "source": [
    "try:\n",
    "    number = int(input(\"Please enter a number \"))\n",
    "    division = 100/number\n",
    "    print(number)\n",
    "    \n",
    "except ValueError:\n",
    "    print(\"No number was entered \")\n",
    "except ZeroDivisionError:\n",
    "    print(\"It cannot be divided by 0\")"
   ]
  },
  {
   "cell_type": "markdown",
   "metadata": {
    "nbgrader": {
     "grade": false,
     "grade_id": "cell-7e759d3fdae009d1",
     "locked": true,
     "schema_version": 1,
     "solution": false
    }
   },
   "source": [
    "\n",
    "### Use exact error message\n",
    "Sometimes it is very useful to be able to see the exact error message of a program.\n",
    "In the above programs, however, these are no longer visible because they are intercepted by the `Except` statement.\n",
    "However, you can save the error message in a variable and have it displayed without stopping the program.\n",
    "To do this, write \"as *variable name*\" after the specified error.\n",
    "In the following program, the `ValueError` is saved as a \"message\" and displayed within the `Except` block."
   ]
  },
  {
   "cell_type": "code",
   "execution_count": null,
   "metadata": {},
   "outputs": [],
   "source": [
    "try:\n",
    "    number = int(input(\"Please enter a number \"))\n",
    "    print(number)\n",
    "    \n",
    "except ValueError as message:\n",
    "    print(\"No number was entered \")\n",
    "    print(message)"
   ]
  },
  {
   "cell_type": "markdown",
   "metadata": {
    "nbgrader": {
     "grade": false,
     "grade_id": "cell-9e9904291444c42a",
     "locked": true,
     "schema_version": 1,
     "solution": false
    }
   },
   "source": [
    "### Finally\n",
    "The `finally` block is executed (if you use it) regardless of whether an error was caught using `exception` or not:"
   ]
  },
  {
   "cell_type": "code",
   "execution_count": null,
   "metadata": {},
   "outputs": [],
   "source": [
    "try:\n",
    "    number = int(input(\"Please enter a number \"))\n",
    "    division = 100/number\n",
    "    print(number)\n",
    "    \n",
    "except ValueError:\n",
    "    print(\"No number was entered \")\n",
    "except ZeroDivisionError:\n",
    "    print(\"It cannot be divided by 0\")\n",
    "finally:\n",
    "    print(\"Try-Except has been executed\")"
   ]
  },
  {
   "cell_type": "markdown",
   "metadata": {
    "nbgrader": {
     "grade": false,
     "grade_id": "cell-68b72964a2ca5aaf",
     "locked": true,
     "schema_version": 1,
     "solution": false
    }
   },
   "source": [
    "## Error Types In Python\n",
    "The following table lists the main types of errors in Python. You can catch these using Try-Except.\n",
    "\n",
    " | Error               | Reason                                                                                 |\n",
    " |:--------------------|:--------------------------------------------------------------------------------------|\n",
    " | ValueError          | A function parameter is of the wrong data type|\n",
    " | NameError           | A variable cannot be found|\n",
    " | ZeroDivisionError   | An attempt is made to divide by 0|\n",
    " | TypeError           | An operation or function is applied to an object with an inappropriate data type|\n",
    " | IndexError          | An attempt is made to access a position that does not exist|\n",
    " \n",
    "If you want to get to know other types of errors:\n",
    "https://www.tutorialsteacher.com/python/error-types-in-python"
   ]
  }
 ],
 "metadata": {
  "celltoolbar": "Create Assignment",
  "file_extension": ".py",
  "kernelspec": {
   "display_name": "Python 3",
   "language": "python",
   "name": "python3"
  },
  "language_info": {
   "codemirror_mode": {
    "name": "ipython",
    "version": 3
   },
   "file_extension": ".py",
   "mimetype": "text/x-python",
   "name": "python",
   "nbconvert_exporter": "python",
   "pygments_lexer": "ipython3",
   "version": "3.7.2"
  },
  "mimetype": "text/x-python",
  "name": "python",
  "npconvert_exporter": "python",
  "pygments_lexer": "ipython3",
  "version": 3
 },
 "nbformat": 4,
 "nbformat_minor": 2
}