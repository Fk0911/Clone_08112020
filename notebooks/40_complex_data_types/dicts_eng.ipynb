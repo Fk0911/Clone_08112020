{
 "cells": [
  {
   "cell_type": "markdown",
   "metadata": {},
   "source": [
    "# Dictionaries\n",
    "\n",
    "## Prerequisites\n",
    "This unit assumes that you are familiar with the following content: \n",
    "[Variables](../20_variables_and_datatypes/10_variables_eng.ipynb),\n",
    "[Input and Output](../20_variables_and_datatypes/20_in_and_output_eng.ipynb),\n",
    "[primitive Datatypes](../20_variables_and_datatypes/30_datatypes_eng.ipynb),\n",
    "[Conditionals](../30_conditionals/30_conditionals_eng.ipynb) and [lists](./lists_eng.ipynb).\n",
    "## Motivation\n",
    "A disadvantage of displaying structured data as lists or tuples is that you have to know the index of the elements.\n",
    "In the following example, student data is presented as a list. To be able to access the first names of the students,\n",
    " one has to know that the first name is saved under index 0.\n",
    "\n",
    "This is particularly a problem when the data structure changes at some point and additional data is added."
   ]
  },
  {
   "cell_type": "code",
   "execution_count": null,
   "metadata": {},
   "outputs": [],
   "source": [
    "students = [[\"Max\", \"Meier\", 12345678, \"mm@web.de\"],[\"Lisa\", \"Müller\", 87654321, \"ml@web.de\"], [\"Markus\", \"Peter\", 11223344, \"mp@google.de\"]]\n",
    "\n",
    "print(\"first names: \", students[0][0], \",\", students[1][0], \",\", students[2][0])"
   ]
  },
  {
   "cell_type": "markdown",
   "metadata": {},
   "source": [
    "## Dictionaries\n",
    "It would be better if the elements had a name. Exactly this property is made available by\n",
    "[`Dictionarie`] (https://docs.python.org/3/library/stdtypes.html#mapping-types-dict)s.\n",
    "A `dictionary` contains, similar to a dictionary, pairs of keys and its values. `Dictionaries` are created using \n",
    "the following syntax:`{<key>: <value>}`."
   ]
  },
  {
   "cell_type": "code",
   "execution_count": null,
   "metadata": {},
   "outputs": [],
   "source": [
    "s = {\"first name\" : \"Max\", \"last name\" : \"Meier\", \"matriculation number\" : 12345678, \"Email\" : \"mm@web.de\"}\n",
    "print(s)"
   ]
  },
  {
   "cell_type": "markdown",
   "metadata": {},
   "source": [
    "The values of a `dictionary` are accessed using the square brackets ` [] `.\n",
    "However, instead of an index within the square brackets, one of the `keys` is used."
   ]
  },
  {
   "cell_type": "code",
   "execution_count": null,
   "metadata": {},
   "outputs": [],
   "source": [
    "first_name = s[\"first name\"]\n",
    "print(first_name)\n",
    "\n",
    "print(s[\"Email\"])"
   ]
  },
  {
   "cell_type": "markdown",
   "metadata": {},
   "source": [
    "## Dictionaries can be changed\n",
    "`Dictionaries` can be changed in different ways:\n",
    "- Individual values can be changed\n",
    "- Key-value pairs can be inserted"
   ]
  },
  {
   "cell_type": "code",
   "execution_count": null,
   "metadata": {},
   "outputs": [],
   "source": [
    "s = {\"first name\" : \"Max\", \"last name\" : \"Meier\", \"matriculation number\" : 12345678, \"Email\" : \"mm@web.de\"}\n",
    "s[\"Email\"] = \"mm1234s@alumni.fh-aachen.de\"\n",
    "print(s)\n",
    "\n",
    "s[\"grades\"] = [1.0, 2.3, 4.0]\n",
    "print(s)\n"
   ]
  },
  {
   "cell_type": "markdown",
   "metadata": {},
   "source": [
    "## Error-free access to dictionaries\n",
    "What happens if a `key` that does not exist is used to access a `dictionary`?"
   ]
  },
  {
   "cell_type": "code",
   "execution_count": null,
   "metadata": {},
   "outputs": [],
   "source": [
    "en_de = { \"red\" : \"rot\", \"blue\" : \"blau\", \"green\" : \"grün\", \"pink\" : \"rosa\"}\n",
    "print(en_de[\"yellow\"])"
   ]
  },
  {
   "cell_type": "markdown",
   "metadata": {},
   "source": [
    "The keyword `in` can be used to check whether a key appears in a `Dictionary`."
   ]
  },
  {
   "cell_type": "code",
   "execution_count": null,
   "metadata": {},
   "outputs": [],
   "source": [
    "en_de = { \"red\" : \"rot\", \"blue\" : \"blau\", \"green\" : \"grün\", \"pink\" : \"rosa\"}\n",
    "english_word = \"yellow\"\n",
    "\n",
    "if english_word in en_de:\n",
    "     print(\"The translation from \",en_de[english_word] , \" is\", english_word)\n",
    "else:\n",
    "     print(\"The translation from \", en_de[english_word], \" is unfortunately not known.\")"
   ]
  },
  {
   "cell_type": "markdown",
   "metadata": {},
   "source": [
    "## Methods for dictionaries\n",
    "Many useful methods are defined in the standard Python library for [`Dictionaries`](https://docs.python.org/3/library/stdtypes.html#mapping-types-dict). Some of these methods are briefly introduced below.\n",
    "\n",
    "With `clear()` all entries of a `dictionary` are deleted."
   ]
  },
  {
   "cell_type": "code",
   "execution_count": null,
   "metadata": {},
   "outputs": [],
   "source": [
    "en_de = { \"red\" : \"rot\", \"blue\" : \"blau\", \"green\" : \"grün\", \"pink\" : \"rosa\"}\n",
    "en_de.clear()\n",
    "print(en_de)"
   ]
  },
  {
   "cell_type": "markdown",
   "metadata": {},
   "source": [
    "The `keys()` method returns all key values of the `dictionary`, the` items()` method all values."
   ]
  },
  {
   "cell_type": "code",
   "execution_count": null,
   "metadata": {},
   "outputs": [],
   "source": [
    "en_de = { \"red\" : \"rot\", \"blue\" : \"blau\", \"green\" : \"grün\", \"pink\" : \"rosa\"}\n",
    "k = en_de.keys()\n",
    "print(k)\n",
    "\n",
    "print(en_de.values())"
   ]
  },
  {
   "cell_type": "markdown",
   "metadata": {},
   "source": [
    "With the method `pop (key)` a key-value pair can be removed from the `dictionary`.\n",
    "The method returns the value of the transferred key as a return value."
   ]
  },
  {
   "cell_type": "code",
   "execution_count": null,
   "metadata": {},
   "outputs": [],
   "source": [
    "en_de = { \"red\" : \"rot\", \"blue\" : \"blau\", \"green\" : \"grün\", \"pink\" : \"rosa\"}\n",
    "translation = en_de.pop(\"blue\")\n",
    "print(translation)\n",
    "print(en_de)"
   ]
  },
  {
   "cell_type": "markdown",
   "metadata": {},
   "source": [
    "The method `popitem()` returns any key-value pair from the `dictionary` as a return value. \n",
    "The key-value pair is removed afterwards from the `dictionary"
   ]
  },
  {
   "cell_type": "code",
   "execution_count": null,
   "metadata": {},
   "outputs": [],
   "source": [
    "en_de = { \"red\" : \"rot\", \"blue\" : \"blau\", \"green\" : \"grün\", \"pink\" : \"rosa\"}\n",
    "translation = en_de.popitem()\n",
    "print(translation)\n",
    "print(en_de)"
   ]
  },
  {
   "cell_type": "markdown",
   "metadata": {},
   "source": [
    "## Aufgabe - Piratensprache\n",
    "\n",
    "In the given translation table below you will find English terms with their pirate language counterparts.\n",
    "Write a program that expects the user to input a sentence in English. The output should be the translation of the sentence into the pirate language.\n",
    "| Englisch | Piratensprache |\n",
    "|----------|----------------|\n",
    "|sir|matey|\n",
    "|hotel|fleabag inn|\n",
    "|student|swabbie|\n",
    "|boy|matey|\n",
    "|madam|proud beauty|\n",
    "|professor|foul blaggart|\n",
    "|restaurant|galley|\n",
    "|your|yer|\n",
    "|excuse|arr|\n",
    "|students|swabbies|\n",
    "|are|be|\n",
    "|lawyer|foul blaggart|\n",
    "|the|th’|\n",
    "|restroom|head|\n",
    "|my|me|\n",
    "|hello|avast|\n",
    "|is|be|\n",
    "|man|matey|"
   ]
  }
 ],
 "metadata": {
  "file_extension": ".py",
  "kernelspec": {
   "display_name": "Python 3",
   "language": "python",
   "name": "python3"
  },
  "language_info": {
   "codemirror_mode": {
    "name": "ipython",
    "version": 3
   },
   "file_extension": ".py",
   "mimetype": "text/x-python",
   "name": "python",
   "nbconvert_exporter": "python",
   "pygments_lexer": "ipython3",
   "version": "3.7.4"
  },
  "mimetype": "text/x-python",
  "name": "python",
  "npconvert_exporter": "python",
  "pygments_lexer": "ipython3",
  "version": 3,
  "pycharm": {
   "stem_cell": {
    "cell_type": "raw",
    "source": [],
    "metadata": {
     "collapsed": false
    }
   }
  }
 },
 "nbformat": 4,
 "nbformat_minor": 2
}