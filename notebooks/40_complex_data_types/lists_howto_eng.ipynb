{
 "cells": [
  {
   "cell_type": "markdown",
   "metadata": {},
   "source": [
    "# Listen - HowTo (Procedural Information)\n",
    "- [Create an empty list](#empty_list)\n",
    "- [Create a list](#create_list)\n",
    "- [Append an element to the end of a list](#append_element)\n",
    "- [Insert element in the middle of a list](#insert)\n",
    "- [Clear a list](#clear)\n",
    "- [Delete/remove an element](#delete)\n",
    "- [Delete/remove last element](#delete_last)\n",
    "- [Read a single list element](#read)\n",
    "- [Assign a new value to a list element](#assign)\n",
    "- [Sublists (Slice-Operator)](#sublists)\n",
    "- [Number of elements in a list (length of a list)](#list_length)\n",
    "- [Sort list (only works if elements are \"sortable\")](#sort)"
   ]
  },
  {
   "cell_type": "markdown",
   "metadata": {},
   "source": [
    "### Create an empty list\n",
    "<a id=\"empty_list\">"
   ]
  },
  {
   "cell_type": "code",
   "execution_count": null,
   "metadata": {},
   "outputs": [],
   "source": [
    "list1 = []\n",
    "print(list1)"
   ]
  },
  {
   "cell_type": "markdown",
   "metadata": {},
   "source": [
    "### Create a list\n",
    "<a id=\"create_list\">"
   ]
  },
  {
   "cell_type": "code",
   "execution_count": null,
   "metadata": {},
   "outputs": [],
   "source": [
    "list1 = [1, 3, \"lists\", True, 4.56]\n",
    "print(list1)"
   ]
  },
  {
   "cell_type": "markdown",
   "metadata": {},
   "source": [
    "### Append an element to the end of a list\n",
    "<a id=\"append_element\">"
   ]
  },
  {
   "cell_type": "code",
   "execution_count": null,
   "metadata": {},
   "outputs": [],
   "source": [
    "list1 = [1, 3, \"lists\", True, 4.56]\n",
    "list1.append(23)\n",
    "print(list1)"
   ]
  },
  {
   "cell_type": "markdown",
   "metadata": {},
   "source": [
    "### Insert element in the middle of a list\n",
    "<a id=\"insert\">"
   ]
  },
  {
   "cell_type": "code",
   "execution_count": null,
   "metadata": {},
   "outputs": [],
   "source": [
    "list1 = [1, 3, \"lists\", True, 4.56]\n",
    "list1.insert(4, \"new element\")\n",
    "print(list1)"
   ]
  },
  {
   "cell_type": "markdown",
   "metadata": {},
   "source": [
    "### Clear a list\n",
    "<a id=\"clear\">"
   ]
  },
  {
   "cell_type": "code",
   "execution_count": null,
   "metadata": {},
   "outputs": [],
   "source": [
    "list1 = [1, 3, \"lists\", True, 4.56]\n",
    "list1.clear()\n",
    "print(list1)"
   ]
  },
  {
   "cell_type": "markdown",
   "metadata": {},
   "source": [
    "### Delete/remove an element\n",
    "<a id=\"delete\">"
   ]
  },
  {
   "cell_type": "code",
   "execution_count": null,
   "metadata": {},
   "outputs": [],
   "source": [
    "list1 = [1, 3, \"lists\", True, 4.56]\n",
    "list1.remove(\"lists\")\n",
    "print(list1)"
   ]
  },
  {
   "cell_type": "markdown",
   "metadata": {},
   "source": [
    "### Delete/remove last element\n",
    "<a id=\"delete_last\">"
   ]
  },
  {
   "cell_type": "code",
   "execution_count": null,
   "metadata": {},
   "outputs": [],
   "source": [
    "list1 = [1, 3, \"lists\", True, 4.56]\n",
    "elem = list1.pop()\n",
    "print(elem)\n",
    "print(list1)"
   ]
  },
  {
   "cell_type": "markdown",
   "metadata": {},
   "source": [
    "### Read a single list element\n",
    "<a id=\"read\">"
   ]
  },
  {
   "cell_type": "code",
   "execution_count": null,
   "metadata": {},
   "outputs": [],
   "source": [
    "list1 = [1, 3, \"lists\", True, 4.56]\n",
    "elem = list1[2]\n",
    "print(elem)"
   ]
  },
  {
   "cell_type": "markdown",
   "metadata": {},
   "source": [
    "### Assign a new value to a list element\n",
    "<a id=\"assign\">"
   ]
  },
  {
   "cell_type": "code",
   "execution_count": null,
   "metadata": {},
   "outputs": [],
   "source": [
    "list1 = [1, 3, \"lists\", True, 4.56]\n",
    "list1[2] = \"disturb\"\n",
    "print(list1)"
   ]
  },
  {
   "cell_type": "markdown",
   "metadata": {},
   "source": [
    "### Sublists (Slice-Operator)\n",
    "<a id=\"sublists\">"
   ]
  },
  {
   "cell_type": "code",
   "execution_count": null,
   "metadata": {},
   "outputs": [],
   "source": [
    "list1 = [1, 3, \"lists\", True, 4.56]\n",
    "print(list1[2:4])\n",
    "print(list1[:3])\n",
    "print(list1[1:])"
   ]
  },
  {
   "cell_type": "markdown",
   "metadata": {},
   "source": [
    "### Number of elements in a list (length of a list)\n",
    "<a id=\"list_length\">"
   ]
  },
  {
   "cell_type": "code",
   "execution_count": null,
   "metadata": {},
   "outputs": [],
   "source": [
    "list1 = [1, 3, \"lists\", True, 4.56]\n",
    "print(len(list1))"
   ]
  },
  {
   "cell_type": "markdown",
   "metadata": {},
   "source": [
    "### Sort list (only works if elements are \"sortable\")\n",
    "<a id=\"sort\"></a>\n",
    "    \n",
    "Please note the following difference: The method `.sort` sorts the list to which the method is applied. The function\n",
    "`sorted()` returns a sorted list. The list passed as an argument remains unchanged."
   ]
  },
  {
   "cell_type": "code",
   "execution_count": null,
   "metadata": {},
   "outputs": [],
   "source": [
    "list1 = [3, 45, -20, 7, 2, 1, 1]\n",
    "print(sorted(list1))\n",
    "print(list1)\n",
    "list1.sort()\n",
    "print(list1)"
   ]
  }
 ],
 "metadata": {
  "kernelspec": {
   "display_name": "Python 3",
   "language": "python",
   "name": "python3"
  },
  "language_info": {
   "codemirror_mode": {
    "name": "ipython",
    "version": 3
   },
   "file_extension": ".py",
   "mimetype": "text/x-python",
   "name": "python",
   "nbconvert_exporter": "python",
   "pygments_lexer": "ipython3",
   "version": "3.7.6"
  }
 },
 "nbformat": 4,
 "nbformat_minor": 2
}