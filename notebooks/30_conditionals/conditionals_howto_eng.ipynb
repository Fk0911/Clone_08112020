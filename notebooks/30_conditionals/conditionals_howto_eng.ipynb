{
 "cells": [
  {
   "cell_type": "markdown",
   "metadata": {},
   "source": [
    "# How-tos For Comparison Operators And Conditional Statements\n",
    "\n",
    "## Comparison Operators\n",
    "* [List Of Comparison Operators](#List-Of-Comparison-Operators)\n",
    "\n",
    "## Conditional Statements\n",
    "* [Simple if](#Simple-if)\n",
    "* [if-else](#if-else)\n",
    "* [if-elif-else](#if-elif-else)\n",
    "* [Complex Conditions](Complex-Conditions)"
   ]
  },
  {
   "cell_type": "markdown",
   "metadata": {},
   "source": [
    "## List Of Comparison Operators\n",
    " | Operator | Explenation                    | Example True        | Example False       |\n",
    " |----------|------------------------------|----------------------|----------------------|\n",
    " | ==       | equality check               | 2 == 2               | 2 == 3               |\n",
    " | !=       | inequality check             | 2 != 3               | 2 != 2               |\n",
    " | <        | check on    \"smaller\"        | 2 < 3                | 3 < 2                |\n",
    " | >        | check on    \"bigger\"         | 3 > 2                | 2 > 3                |\n",
    " | <=       | check on \"Less than or equal\"| 3 <= 3               | 3 <= 2               |\n",
    " | >=       | check on \"Greater or equal\"  | 2 >= 2               | 2 >= 3               |"
   ]
  },
  {
   "cell_type": "code",
   "execution_count": null,
   "metadata": {},
   "outputs": [],
   "source": [
    "print(\"2 == 2\", 2 == 2)\n",
    "print(\"2 == 3\", 2 == 3)\n",
    "print(\"2 != 3\", 2 != 3 )\n",
    "print(\"3 < 2\", 3 < 2)\n",
    "print(\"3 > 2\", 3 > 2)\n"
   ]
  },
  {
   "cell_type": "markdown",
   "metadata": {},
   "source": [
    "## Simple if"
   ]
  },
  {
   "cell_type": "code",
   "execution_count": null,
   "metadata": {},
   "outputs": [],
   "source": [
    "number = 200\n",
    "if number > 100:\n",
    "    print(number, \"is bigger than 100\")\n"
   ]
  },
  {
   "cell_type": "markdown",
   "metadata": {},
   "source": [
    "## if-else"
   ]
  },
  {
   "cell_type": "code",
   "execution_count": null,
   "metadata": {},
   "outputs": [],
   "source": [
    "number = 42\n",
    "if number > 100:\n",
    "    print(number, \"is bigger than 100\")\n",
    "else: \n",
    "    print(number, \"is less or equal to 100\")\n"
   ]
  },
  {
   "cell_type": "markdown",
   "metadata": {},
   "source": [
    " ## if-elif-else"
   ]
  },
  {
   "cell_type": "code",
   "execution_count": null,
   "metadata": {},
   "outputs": [],
   "source": [
    "temperature = 15\n",
    "\n",
    "if temperature > 20:\n",
    "    print(\"warm\")\n",
    "elif temperature > 30:\n",
    "    print(\"hot\")\n",
    "else:\n",
    "    print(\"cold\")\n"
   ]
  },
  {
   "cell_type": "markdown",
   "metadata": {},
   "source": [
    " ## Complex Conditions"
   ]
  },
  {
   "cell_type": "code",
   "execution_count": null,
   "metadata": {},
   "outputs": [],
   "source": [
    "number = 15\n",
    "if (number % 3 == 0) and (number % 5 == 0):\n",
    "    print(number, \"is divisible by 3 and 5.\")"
   ]
  }
 ],
 "metadata": {
  "file_extension": ".py",
  "kernelspec": {
   "display_name": "Python 3",
   "language": "python",
   "name": "python3"
  },
  "language_info": {
   "codemirror_mode": {
    "name": "ipython",
    "version": 3
   },
   "file_extension": ".py",
   "mimetype": "text/x-python",
   "name": "python",
   "nbconvert_exporter": "python",
   "pygments_lexer": "ipython3",
   "version": "3.7.4"
  },
  "mimetype": "text/x-python",
  "name": "python",
  "npconvert_exporter": "python",
  "pygments_lexer": "ipython3",
  "version": 3,
  "pycharm": {
   "stem_cell": {
    "cell_type": "raw",
    "source": [],
    "metadata": {
     "collapsed": false
    }
   }
  }
 },
 "nbformat": 4,
 "nbformat_minor": 2
}