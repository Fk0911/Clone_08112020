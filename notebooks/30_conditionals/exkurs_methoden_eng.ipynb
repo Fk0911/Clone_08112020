{
 "cells": [
  {
   "cell_type": "markdown",
   "metadata": {},
   "source": [
    "# Excursus: Methods\n",
    "This digression deals with the term methods. (Excursus = you don't necessarily have to work through this. \n",
    "However, the explanations may help you to gain a better understanding.)\n",
    "\n",
    "In the previous chapters, the terms function and methods appeared.\n",
    "For example, there is the function `print()` or the string method `.isdigit ()`. \n",
    "Features will be discussed in more detail later. At the moment only briefly: functions \"do\" something.\n",
    "E.g. the function `print()` prints the given arguments. Methods are similar to functions, but the methods \n",
    "depend on objects. `.isdigit()` depends e.g. on the object string.\n",
    "\n",
    "## Object Orientation\n",
    "In the 1970s, software got bigger and more complex. Before the hardware was the bottleneck in system development,\n",
    "the complexity of the software became more and more the limiting factor. \n",
    "One may well refere to [software Crisis] (https://en.wikipedia.org/wiki/Software_crisis).\n",
    "To make software more programmable and maintainable, the\n",
    "[object-oriented programming] (https://en.wikipedia.org/wiki/Object-oriented_programming) was\n",
    "developed. Smalltalk started in the late 1960s. From the 1990s onwards, object orientation with C++ and Java\n",
    " became widespread.\n",
    "\n",
    "In the object orientation objects belong to certain classes. This makes it easier to represent reality. \n",
    "The classes or their objects have properties (attributes) and capabilities (methods). \n",
    "The object `my_car` of the class`car` could e.g. have the method `.drive ()` and the attribute `top_speed`.\n",
    "\n",
    "Python is also object-oriented. All variables are objects, have certain attributes and methods. \n",
    "For example, the class `string` has the methods`.isdigit()`or `.upper()`. Methods can only be applied to the objects\n",
    " of the corresponding classes. Unlike functions, you cannot ** run ** without an associated object. \n",
    "Therefore, the method name always begins with a period. To execute the method, the object is written together with\n",
    " the method (see example)."
   ]
  },
  {
   "cell_type": "code",
   "execution_count": null,
   "metadata": {},
   "outputs": [],
   "source": [
    "name = \"   Otto Normaverbraucher    \"  # name is from class String. So String methods can be used\n",
    "\n",
    "name = name.strip()   # .strip() removes leading and trailing spaces\n",
    "print(name)\n",
    "name = name.upper()   # .upper() converts all letters to uppercase\n",
    "print(name)\n",
    "bool_value = name.isdigit()   # .isdigit() return True, if as string anly consists of digits, False otherwise\n",
    "print(bool_value)"
   ]
  },
  {
   "cell_type": "markdown",
   "metadata": {},
   "source": [
    "## Methods cannot be applied to all objects\n",
    "`.upper ()` is a string method, e.g. do not apply to interger. Execute the following cell and look at the error message."
   ]
  },
  {
   "cell_type": "code",
   "execution_count": null,
   "metadata": {
    "pycharm": {
     "name": "#%%\n"
    }
   },
   "outputs": [],
   "source": [
    "number = 1234\n",
    "number = number.upper()\n",
    "\n"
   ]
  }
 ],
 "metadata": {
  "kernelspec": {
   "display_name": "Python 3",
   "language": "python",
   "name": "python3"
  },
  "language_info": {
   "codemirror_mode": {
    "name": "ipython",
    "version": 3
   },
   "file_extension": ".py",
   "mimetype": "text/x-python",
   "name": "python",
   "nbconvert_exporter": "python",
   "pygments_lexer": "ipython3",
   "version": "3.7.6"
  },
  "pycharm": {
   "stem_cell": {
    "cell_type": "raw",
    "source": [],
    "metadata": {
     "collapsed": false
    }
   }
  }
 },
 "nbformat": 4,
 "nbformat_minor": 4
}