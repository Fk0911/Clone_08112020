{
 "cells": [
  {
   "cell_type": "markdown",
   "metadata": {},
   "source": [
    "# Read And Write Files\n",
    "## Prerequisites\n",
    "This unit assumes that you are familiar with the following content:\n",
    "- [Variables](../20_variables_and_datatypes/10_variables_eng.ipynb)\n",
    "- [In- and Output](../20_variables_and_datatypes/20_in_and_output_eng.ipynb)\n",
    "- [Primitive Datatypes](../20_variables_and_datatypes/30_datatypes_eng.ipynb)\n",
    "- [Conditionals](../30_conditionals/conditionals_eng.ipynb)\n",
    "- [Complex Data Types](../40_complex_data_types/lists_eng.ipynb)\n",
    "- [Loops](../50_loops/for_loop_sja_eng.ipynb)\n",
    "\n",
    "You will also need this chapter to edit csv files\n",
    "- [Bibliotheken](../70_libraries/libraries_eng.ipynb)\n",
    "\n",
    "## Motivation\n",
    "When working with computers, files are omnipresent. Files are created, read, changed, copied, sent, moved, deleted, restored, ... So far, all data is lost in our programs as soon as the program is ended. With files, it is possible to save data permanently (persistent) and later to access this data again.\n",
    "\n",
    "Of course, it is also possible to work with files in Python 🐍.\n",
    "\n",
    "## What is a file?\n",
    "All of you have already worked with files: Word files, Excel files, this notebook, Python programs, ... But what is *exactly* a file now? A possible definition could be:\n",
    "\n",
    "> A file is a set of **logically related** and mostly **sequential** ordered data that are stored on a medium **permanently** and can be addressed using a **name** (identifier).\n",
    "\n",
    "Please also have a look at the article on [file](https://de.wikipedia.org/wiki/Datei) on Wikipedia.\n",
    "\n",
    "### Example: textfile.txt\n",
    "Save a simple mail as a text file (extension .txt) with the name textfile.txt. How can you see the above points now?\n",
    "- The text of the mail is usually logically connected, e.g. on a subject\n",
    "- The text is structured sequentially: one line follows the other, lines have words, words have letters, and letters are lined up one after the other.\n",
    "- The text file.txt file is saved permanently (after you have saved it).\n",
    "Even if you close the e-mail program or even switch off the computer, the file remains on the computer's memory.\n",
    "You can open the file again next time, even with another program.\n",
    "- The file has a unique name: textfile.txt"
   ]
  },
  {
   "cell_type": "markdown",
   "metadata": {},
   "source": [
    "## Where is the file located?\n",
    "Nowadays the programs and apps save the files \"somewhere\" on the computer or on the smartphone.\n",
    "As a user, you shouldn't have to worry about where files are, where they're stored.\n",
    "(Do you know where your mp3 files are the smartphone?)\n",
    "\n",
    "If you want to access files with programs, you need to know **where** exactly these files are located.\n",
    "### Important for this notebook\n",
    "The following applies to this and the other notebooks:\n",
    "Unless otherwise specified, the file that is accessed is in the same directory as the notebook.\n",
    "If you download a notebook, you must also download the files and save them in the same folder.\n",
    "Otherwise, some things will not work."
   ]
  },
  {
   "cell_type": "markdown",
   "metadata": {},
   "source": [
    "\n",
    "## Access files in Python\n",
    "The basic handling of a file always consists of the following three steps:\n",
    "- Open the file and assign the file to a variable\n",
    "- Edit the file\n",
    "     - Read from the file (read access)\n",
    "     - Write to the file (write access)\n",
    "- Close the file\n",
    "\n",
    "To open a file there is the function `open()`.\n",
    "There are methods such as `.write()`, `.read()` or `.close()` for further handling of the file.\n",
    "There are also libraries that offer additional functions for special file formats such as .csv, .json, ..."
   ]
  },
  {
   "cell_type": "markdown",
   "metadata": {},
   "source": [
    "\n",
    "## Open Files\n",
    "A file can be opened with the Python function `open()`.\n",
    "The function expects the name of a file as a parameter (If necessary, this can be extended by the path to the file if the file is not in the same directory as the program).\n",
    "Besides, the mode in which the file is to be opened can optionally be specified.\n",
    "The available modes are listed in the [Python Documentation](https://docs.python.org/3/tutorial/inputoutput.html#reading-and-writing-files).\n",
    "The central modes are:\n",
    "\n",
    "| Mode   | Discription                                                                                                                                                                    |\n",
    "|:-------|:-------------------------------------------------------------------------------------------------------------------------------------------------------------------------------|\n",
    "| r      | It is only read from the file. Write access leads to errors. If the file does not exist -> error message. In the beginning, the read pointer lies at the beginning of the file |\n",
    "| w      | The file is being written to. If only read access -> error. If the file does __not__ exist, a new file is created. If a file exists, the old content is deleted.               |\n",
    "| a      | New content can be appended to the old content (append). The write pointer is positioned at the end of the file.                                                               |\n",
    "| r+     | Read and write access. Error if the file does not exist.                                                                                                                       |\n",
    "| w+     | Read and write access. New file if the file does not exist. The contents of the existing file will be **overwritten**.!                                                        |\n",
    "| rb     | A \"b\" can be added to the mode. In this case, there is no text file however a binary file.                                                                                     |\n",
    "\n",
    "If no mode is specified, the default value is `\" r \"`. **Recommendation:** ALWAYS specify a mode. This simplifies the maintenance of the program."
   ]
  },
  {
   "cell_type": "markdown",
   "metadata": {},
   "source": [
    "## Examples and tasks\n",
    "In the following tasks and examples, the modes \"r\" and \"w\" will be inspected again.\n",
    "### Create A File In Write Mode\n",
    "In the following program, a file is opened in write mode.\n",
    "Since the file (probably) does not yet exist on your computer, a new one will be created.\n",
    "The program eventually does not write anything to the file, but the file still exists.\n",
    "(Important: If no further path is specified, the file is created in the same folder in which the notebook file is located.)\n",
    "\n",
    "Run the program and then check whether the file has been created."
   ]
  },
  {
   "cell_type": "code",
   "execution_count": null,
   "metadata": {
    "pycharm": {
     "name": "#%%\n"
    }
   },
   "outputs": [],
   "source": [
    "# Program 1\n",
    "# File is opened for writing\n",
    "file = open(\"new_file.txt\", \"w\")\n",
    "# The file is closed again\n",
    "file.close()"
   ]
  },
  {
   "cell_type": "markdown",
   "metadata": {},
   "source": [
    "\n",
    "### Open A File in Read Mode\n",
    "In the next program, the file from the first program is opened in read mode and closed again. Let the program run.\n",
    "Then **Delete** the file \"new_file.txt\" and let the program run again. What is happening?"
   ]
  },
  {
   "cell_type": "code",
   "execution_count": null,
   "metadata": {
    "pycharm": {
     "name": "#%%\n"
    }
   },
   "outputs": [],
   "source": [
    "# Program 2\n",
    "# File is opened for reading\n",
    "file = open(\"new_file.txt\", \"r\")\n",
    "# The file is closed again\n",
    "file.close()"
   ]
  },
  {
   "cell_type": "markdown",
   "metadata": {},
   "source": [
    "### Open an existing file in write mode\n",
    "Open \"new_file.txt\" file with a text editor, enter a few characters and lines, save and close.\n",
    "Now run program 1 (see above) again. Then use the text editor to check the content of the file. What happened?"
   ]
  },
  {
   "cell_type": "markdown",
   "metadata": {},
   "source": [
    "## Read files\n",
    "How do you read from a file now? Files are organized sequentially (see above), i.e. they consist of successive lines.\n",
    "The `for` loop is suitable for processing sequences. Specifically, you can iterate over the lines of a file:"
   ]
  },
  {
   "cell_type": "code",
   "execution_count": null,
   "metadata": {
    "pycharm": {
     "name": "#%%\n"
    }
   },
   "outputs": [],
   "source": [
    "# open file\n",
    "file = open('lorem_ipsum.txt', 'r')\n",
    "\n",
    "#Read the file line by line and output the lines\n",
    "for line in file:\n",
    "    print(line)\n",
    "\n",
    "#close file\n",
    "file.close()"
   ]
  },
  {
   "cell_type": "markdown",
   "metadata": {},
   "source": [
    "There are several ways to correct this behavior.\n",
    "On the one hand, you can set the parameter `end` to an empty character in the function` print()` ` end = \"\"`.\n",
    "Another possibility is to \"strip\" the line first. For strings, there is a method called `.strip()`.\n",
    "This removes spaces, tabs, and line breaks at the beginning and end of a string.\n",
    "`.strip()` is often used when reading forms to prevent a leading space from changing the input.\n",
    "Alternatively, you can use `.lstrip()` or `.rstrip()`. In this case, stipping happens only at the beginning or end of the string, hence the left or right strip."
   ]
  },
  {
   "cell_type": "code",
   "execution_count": null,
   "metadata": {
    "pycharm": {
     "name": "#%%\n"
    }
   },
   "outputs": [],
   "source": [
    "\n",
    "# open file\n",
    "file = open('lorem_ipsum.txt', 'r')\n",
    "\n",
    "#Read the file line by line and output stripped lines\n",
    "for line in file:\n",
    "    line = line.strip()\n",
    "    print(line)\n",
    "\n",
    "#close file\n",
    "file.close()"
   ]
  },
  {
   "cell_type": "markdown",
   "metadata": {},
   "source": [
    "### Output the contents of a file twice\n",
    "In the following program, the `for` loop is run twice. What does the output look like? Why?"
   ]
  },
  {
   "cell_type": "code",
   "execution_count": null,
   "metadata": {
    "pycharm": {
     "name": "#%%\n"
    }
   },
   "outputs": [],
   "source": [
    "# open file\n",
    "file = open('lorem_ipsum.txt', 'r')\n",
    "\n",
    "#Read the file line by line and output stripped lines\n",
    "print(\"First round\")\n",
    "for line in file:\n",
    "    line = line.strip()\n",
    "    print(line)\n",
    "    \n",
    "#Read the file line by line and output stripped lines\n",
    "print(\"Second round\")\n",
    "for line in file:\n",
    "    line = line.strip()\n",
    "    print(line)\n",
    "\n",
    "#close file\n",
    "file.close()"
   ]
  },
  {
   "cell_type": "markdown",
   "metadata": {},
   "source": [
    "When reading a file, the \"reading pointer\" is moved character by character over the file.\n",
    "Can we change the pointer position so that we read specific characters in specific positions?\n",
    "To place the pointer where we want, the method `.seek()` is introduced below."
   ]
  },
  {
   "cell_type": "markdown",
   "metadata": {},
   "source": [
    "### Read the file into a list in one go\n",
    "Line breaks may be redundant and are only available because e.g. a paper page has a limited width.\n",
    "In some cases, it may make sense to read the entire text \"at once\" without iterating over the lines with a loop.\n",
    "The method `.readlines()` do just that. ### Read the file into a list in one go\n",
    "Line breaks may be redundant and are only available because e.g. a paper page has a limited width. In some cases, it may make sense to read the entire text \"at once\" without iterating over the lines with a loop. The method `.readlines()` do just that. The result is a **list** with one entry if there are no linebreaks.\n",
    "Otherwise each entry in the **list** is a line in the file."
   ]
  },
  {
   "cell_type": "code",
   "execution_count": null,
   "metadata": {
    "pycharm": {
     "name": "#%%\n"
    }
   },
   "outputs": [],
   "source": [
    "# open file\n",
    "file = open('lorem_ipsum.txt', 'r')\n",
    "\n",
    "# Read the file in one go\n",
    "line = file.readlines()\n",
    "print(line)\n",
    "\n",
    "# close file\n",
    "file.close()"
   ]
  },
  {
   "cell_type": "markdown",
   "metadata": {},
   "source": [
    "\n",
    "### Open file with `with`\n",
    "As seen in the previous examples, files must always be closed after opening.\n",
    "Since forgetting to close is a common cause of errors, there is a `with` keyword in Python.\n",
    "This ensures that open files are always closed correctly."
   ]
  },
  {
   "cell_type": "code",
   "execution_count": null,
   "metadata": {
    "pycharm": {
     "name": "#%%\n"
    }
   },
   "outputs": [],
   "source": [
    "# Open file in read mode\n",
    "with open('lorem_ipsum.txt', 'r') as file:\n",
    "    # Read the file line by line and output lines\n",
    "    for line in file:\n",
    "        print(line)\n",
    "\n",
    "#File will be automatically closed upon leaving the scope"
   ]
  },
  {
   "cell_type": "markdown",
   "metadata": {},
   "source": [
    "## Write Files\n",
    "To be able to write to a file, it must be opened in a mode that allows writing (e.g. the mode`'w'`).\n",
    "You can then write data to the file using the `write` method. This is shown in the following cell."
   ]
  },
  {
   "cell_type": "code",
   "execution_count": null,
   "metadata": {
    "pycharm": {
     "name": "#%%\n"
    }
   },
   "outputs": [],
   "source": [
    "with open('numbers.txt', 'w') as f:\n",
    "    for i in range(100):\n",
    "        f.write(str(i) + '\\n')"
   ]
  },
  {
   "cell_type": "markdown",
   "metadata": {},
   "source": [
    "Check the result in the file \"numbers.txt\" with a text editor.\n",
    "Question: Why is the integer `i` being transformed into a string?\n",
    "Another question: Why is a `\\n` concatenated to the number?\n",
    "Experiment with the above program, check the changes to the file with a text editor."
   ]
  },
  {
   "cell_type": "markdown",
   "metadata": {},
   "source": [
    "\n",
    "\n",
    "### Task: Spell me the alphabet please!\n",
    "To teach your fellow mates at the daycare center on how to spell all letters of the alphabet create a program that writes all letters from a-z to one line in a file.\n",
    "Note: The function `chr()` converts a number into a letter.\n",
    "The number 97 corresponds to an **a**, the number 98 corresponds to a **b**, etc.\n",
    "The ASCII table is responsible for these assignments.\n",
    "ASCII is a coding standard that assigns the characters and commands of a typewriter to bit combinations.\n",
    "The bit combinations are usually given as numbers from 0 to 127.\n",
    "See also [here](https://de.wikipedia.org/wiki/American_Standard_Code_for_Information_Interchange#ASCII table)."
   ]
  },
  {
   "cell_type": "code",
   "execution_count": null,
   "metadata": {
    "pycharm": {
     "name": "#%%\n"
    }
   },
   "outputs": [],
   "source": [
    "#with open ..."
   ]
  },
  {
   "cell_type": "markdown",
   "metadata": {},
   "source": [
    "## Place the reading pointer with `.seek()`\n",
    "The reading pointer can be repositioned using the `.seek()` method. Two arguments are passed to the method.\n",
    "The first argument specifies how many bytes (!) The pointer is shifted.\n",
    "The second argument specifies where to start shifting from. The following applies:\n",
    "\n",
    "* Second argument = 0 →  from start (default value)\n",
    "* Second argument = 1 →  from current position\n",
    "* Second argument = 2 →  from the end\n",
    "\n",
    "examples:\n",
    "* file.seek(3) → Pointer is on the third byte\n",
    "* file.seek(5,1) → The pointer is moved 5 Bytes further from the current position\n",
    "* file.seek(0,0) → Pointer back to the beginning of the file\n",
    "\n",
    "Experiment with the parameters of `.seek()` in the following file."
   ]
  },
  {
   "cell_type": "code",
   "execution_count": null,
   "metadata": {
    "pycharm": {
     "name": "#%%\n"
    }
   },
   "outputs": [],
   "source": [
    "file = open(\"numbers.txt\", \"r\")\n",
    "file.seek(60,0)\n",
    "for line in file:\n",
    "    print(line)\n",
    "\n",
    "file.seek(0)\n",
    "for line in file:\n",
    "    line = line.strip()\n",
    "    print(line)\n",
    "file.close()"
   ]
  },
  {
   "cell_type": "markdown",
   "metadata": {},
   "source": [
    "## Task 1: Two issues\n",
    "A program first introduced above that displays the content of a file twice.\n",
    "Copy the program from above into the following cell and complete it so that there are two different formats."
   ]
  },
  {
   "cell_type": "code",
   "execution_count": null,
   "metadata": {
    "pycharm": {
     "name": "#%%\n"
    }
   },
   "outputs": [],
   "source": [
    "#TODO THis question is not clear!\n"
   ]
  },
  {
   "cell_type": "markdown",
   "metadata": {},
   "source": [
    "## Task 2: Always Backup\n",
    "Create a program that copies the text file \"lorem_ipsum.txt\".\n",
    "Afterward, expand the program to first ask for the name of the original file, then for the name of the new file.\n",
    "Then it will be copied assuming the file exists.\n"
   ]
  },
  {
   "cell_type": "code",
   "execution_count": null,
   "metadata": {
    "pycharm": {
     "name": "#%%\n"
    }
   },
   "outputs": [],
   "source": []
  },
  {
   "cell_type": "markdown",
   "metadata": {},
   "source": [
    "## Task 3: CSV files\n",
    "The file `studenten.csv` contains a list of students in CSV format.\n",
    "Use the CSV module to read the file and then display the names of the students on the list."
   ]
  },
  {
   "cell_type": "code",
   "execution_count": null,
   "outputs": [],
   "source": [],
   "metadata": {
    "collapsed": false,
    "pycharm": {
     "name": "#%%\n"
    }
   }
  },
  {
   "cell_type": "markdown",
   "metadata": {},
   "source": [
    "## Final task: Alice in Wonderland\n",
    "\n",
    "Write a program that creates a text file called alice_words.txt. This should contain an alphabetical list of all words and their frequency in the text version of Alice´s Adventures in Wonderland. Use functions to structure your program.\n",
    "\n",
    "A text version of the book can be found in the file `alice.txt`.\n",
    "\n",
    "The first 10 lines of your output file should look something similar to this:\n",
    "\n",
    "```text\n",
    "Word    Count\n",
    "a       631\n",
    "a-piece 1\n",
    "abide   1\n",
    "able    1\n",
    "about   94\n",
    "above   3\n",
    "absence 1\n",
    "absurd  2\n",
    "```\n",
    "\n",
    "Your program should also print the longest word in the book. How many characters does this word have?"
   ]
  },
  {
   "cell_type": "code",
   "execution_count": null,
   "metadata": {
    "pycharm": {
     "name": "#%%\n"
    }
   },
   "outputs": [],
   "source": []
  }
 ],
 "metadata": {
  "file_extension": ".py",
  "kernelspec": {
   "display_name": "Python 3",
   "language": "python",
   "name": "python3"
  },
  "language_info": {
   "codemirror_mode": {
    "name": "ipython",
    "version": 3
   },
   "file_extension": ".py",
   "mimetype": "text/x-python",
   "name": "python",
   "nbconvert_exporter": "python",
   "pygments_lexer": "ipython3",
   "version": "3.7.7"
  },
  "mimetype": "text/x-python",
  "name": "python",
  "npconvert_exporter": "python",
  "pygments_lexer": "ipython3",
  "version": 3
 },
 "nbformat": 4,
 "nbformat_minor": 2
}